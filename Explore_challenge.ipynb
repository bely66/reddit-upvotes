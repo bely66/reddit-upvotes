{
  "nbformat": 4,
  "nbformat_minor": 5,
  "metadata": {
    "colab": {
      "name": "Explore_challenge.ipynb",
      "provenance": [],
      "collapsed_sections": [
        "g0o7FIGSR0rj",
        "H4M0HGcaSEKK",
        "hJMjVCromL4W",
        "hfxsAHr9n_hp",
        "B4IGKfl_oxJO",
        "2vixU-nMfyvz",
        "Qng1G7VOfYn3"
      ],
      "toc_visible": true
    },
    "kernelspec": {
      "display_name": "Python 3",
      "language": "python",
      "name": "python3"
    },
    "language_info": {
      "codemirror_mode": {
        "name": "ipython",
        "version": 3
      },
      "file_extension": ".py",
      "mimetype": "text/x-python",
      "name": "python",
      "nbconvert_exporter": "python",
      "pygments_lexer": "ipython3",
      "version": "3.6.6"
    },
    "accelerator": "GPU",
    "widgets": {
      "application/vnd.jupyter.widget-state+json": {
        "e4d6264a2c9b4aa28ad40852ad50d668": {
          "model_module": "@jupyter-widgets/controls",
          "model_name": "HBoxModel",
          "state": {
            "_view_name": "HBoxView",
            "_dom_classes": [],
            "_model_name": "HBoxModel",
            "_view_module": "@jupyter-widgets/controls",
            "_model_module_version": "1.5.0",
            "_view_count": null,
            "_view_module_version": "1.5.0",
            "box_style": "",
            "layout": "IPY_MODEL_fa9a1b4bc2f7496587fdaad83fc791b1",
            "_model_module": "@jupyter-widgets/controls",
            "children": [
              "IPY_MODEL_96efa1cb02754688b1a46bd88b518faa",
              "IPY_MODEL_b330e41e15f143fe95c923d082c1c7dd"
            ]
          }
        },
        "fa9a1b4bc2f7496587fdaad83fc791b1": {
          "model_module": "@jupyter-widgets/base",
          "model_name": "LayoutModel",
          "state": {
            "_view_name": "LayoutView",
            "grid_template_rows": null,
            "right": null,
            "justify_content": null,
            "_view_module": "@jupyter-widgets/base",
            "overflow": null,
            "_model_module_version": "1.2.0",
            "_view_count": null,
            "flex_flow": null,
            "width": null,
            "min_width": null,
            "border": null,
            "align_items": null,
            "bottom": null,
            "_model_module": "@jupyter-widgets/base",
            "top": null,
            "grid_column": null,
            "overflow_y": null,
            "overflow_x": null,
            "grid_auto_flow": null,
            "grid_area": null,
            "grid_template_columns": null,
            "flex": null,
            "_model_name": "LayoutModel",
            "justify_items": null,
            "grid_row": null,
            "max_height": null,
            "align_content": null,
            "visibility": null,
            "align_self": null,
            "height": null,
            "min_height": null,
            "padding": null,
            "grid_auto_rows": null,
            "grid_gap": null,
            "max_width": null,
            "order": null,
            "_view_module_version": "1.2.0",
            "grid_template_areas": null,
            "object_position": null,
            "object_fit": null,
            "grid_auto_columns": null,
            "margin": null,
            "display": null,
            "left": null
          }
        },
        "96efa1cb02754688b1a46bd88b518faa": {
          "model_module": "@jupyter-widgets/controls",
          "model_name": "FloatProgressModel",
          "state": {
            "_view_name": "ProgressView",
            "style": "IPY_MODEL_cb61d1da6af6471d92ecf80a94e2484b",
            "_dom_classes": [],
            "description": "100%",
            "_model_name": "FloatProgressModel",
            "bar_style": "success",
            "max": 438021897,
            "_view_module": "@jupyter-widgets/controls",
            "_model_module_version": "1.5.0",
            "value": 438021897,
            "_view_count": null,
            "_view_module_version": "1.5.0",
            "orientation": "horizontal",
            "min": 0,
            "description_tooltip": null,
            "_model_module": "@jupyter-widgets/controls",
            "layout": "IPY_MODEL_60f6f147b761453ebada0c9b0fff01bc"
          }
        },
        "b330e41e15f143fe95c923d082c1c7dd": {
          "model_module": "@jupyter-widgets/controls",
          "model_name": "HTMLModel",
          "state": {
            "_view_name": "HTMLView",
            "style": "IPY_MODEL_cb79c752bf8e47c2858f53ed8a297f61",
            "_dom_classes": [],
            "description": "",
            "_model_name": "HTMLModel",
            "placeholder": "​",
            "_view_module": "@jupyter-widgets/controls",
            "_model_module_version": "1.5.0",
            "value": " 418M/418M [00:09&lt;00:00, 45.5MB/s]",
            "_view_count": null,
            "_view_module_version": "1.5.0",
            "description_tooltip": null,
            "_model_module": "@jupyter-widgets/controls",
            "layout": "IPY_MODEL_fdcc6f8c95fa45339f31b5dd1a516801"
          }
        },
        "cb61d1da6af6471d92ecf80a94e2484b": {
          "model_module": "@jupyter-widgets/controls",
          "model_name": "ProgressStyleModel",
          "state": {
            "_view_name": "StyleView",
            "_model_name": "ProgressStyleModel",
            "description_width": "initial",
            "_view_module": "@jupyter-widgets/base",
            "_model_module_version": "1.5.0",
            "_view_count": null,
            "_view_module_version": "1.2.0",
            "bar_color": null,
            "_model_module": "@jupyter-widgets/controls"
          }
        },
        "60f6f147b761453ebada0c9b0fff01bc": {
          "model_module": "@jupyter-widgets/base",
          "model_name": "LayoutModel",
          "state": {
            "_view_name": "LayoutView",
            "grid_template_rows": null,
            "right": null,
            "justify_content": null,
            "_view_module": "@jupyter-widgets/base",
            "overflow": null,
            "_model_module_version": "1.2.0",
            "_view_count": null,
            "flex_flow": null,
            "width": null,
            "min_width": null,
            "border": null,
            "align_items": null,
            "bottom": null,
            "_model_module": "@jupyter-widgets/base",
            "top": null,
            "grid_column": null,
            "overflow_y": null,
            "overflow_x": null,
            "grid_auto_flow": null,
            "grid_area": null,
            "grid_template_columns": null,
            "flex": null,
            "_model_name": "LayoutModel",
            "justify_items": null,
            "grid_row": null,
            "max_height": null,
            "align_content": null,
            "visibility": null,
            "align_self": null,
            "height": null,
            "min_height": null,
            "padding": null,
            "grid_auto_rows": null,
            "grid_gap": null,
            "max_width": null,
            "order": null,
            "_view_module_version": "1.2.0",
            "grid_template_areas": null,
            "object_position": null,
            "object_fit": null,
            "grid_auto_columns": null,
            "margin": null,
            "display": null,
            "left": null
          }
        },
        "cb79c752bf8e47c2858f53ed8a297f61": {
          "model_module": "@jupyter-widgets/controls",
          "model_name": "DescriptionStyleModel",
          "state": {
            "_view_name": "StyleView",
            "_model_name": "DescriptionStyleModel",
            "description_width": "",
            "_view_module": "@jupyter-widgets/base",
            "_model_module_version": "1.5.0",
            "_view_count": null,
            "_view_module_version": "1.2.0",
            "_model_module": "@jupyter-widgets/controls"
          }
        },
        "fdcc6f8c95fa45339f31b5dd1a516801": {
          "model_module": "@jupyter-widgets/base",
          "model_name": "LayoutModel",
          "state": {
            "_view_name": "LayoutView",
            "grid_template_rows": null,
            "right": null,
            "justify_content": null,
            "_view_module": "@jupyter-widgets/base",
            "overflow": null,
            "_model_module_version": "1.2.0",
            "_view_count": null,
            "flex_flow": null,
            "width": null,
            "min_width": null,
            "border": null,
            "align_items": null,
            "bottom": null,
            "_model_module": "@jupyter-widgets/base",
            "top": null,
            "grid_column": null,
            "overflow_y": null,
            "overflow_x": null,
            "grid_auto_flow": null,
            "grid_area": null,
            "grid_template_columns": null,
            "flex": null,
            "_model_name": "LayoutModel",
            "justify_items": null,
            "grid_row": null,
            "max_height": null,
            "align_content": null,
            "visibility": null,
            "align_self": null,
            "height": null,
            "min_height": null,
            "padding": null,
            "grid_auto_rows": null,
            "grid_gap": null,
            "max_width": null,
            "order": null,
            "_view_module_version": "1.2.0",
            "grid_template_areas": null,
            "object_position": null,
            "object_fit": null,
            "grid_auto_columns": null,
            "margin": null,
            "display": null,
            "left": null
          }
        },
        "dd2b1d4dfaff4c6ab081dde2dafdfb37": {
          "model_module": "@jupyter-widgets/controls",
          "model_name": "HBoxModel",
          "state": {
            "_view_name": "HBoxView",
            "_dom_classes": [],
            "_model_name": "HBoxModel",
            "_view_module": "@jupyter-widgets/controls",
            "_model_module_version": "1.5.0",
            "_view_count": null,
            "_view_module_version": "1.5.0",
            "box_style": "",
            "layout": "IPY_MODEL_57f9d83f833e44309a2f6459d70c6af4",
            "_model_module": "@jupyter-widgets/controls",
            "children": [
              "IPY_MODEL_72eaba2339ac46949687c4741340eefe",
              "IPY_MODEL_43fdf13ea1324b50bcab7cf7bf16d285"
            ]
          }
        },
        "57f9d83f833e44309a2f6459d70c6af4": {
          "model_module": "@jupyter-widgets/base",
          "model_name": "LayoutModel",
          "state": {
            "_view_name": "LayoutView",
            "grid_template_rows": null,
            "right": null,
            "justify_content": null,
            "_view_module": "@jupyter-widgets/base",
            "overflow": null,
            "_model_module_version": "1.2.0",
            "_view_count": null,
            "flex_flow": null,
            "width": null,
            "min_width": null,
            "border": null,
            "align_items": null,
            "bottom": null,
            "_model_module": "@jupyter-widgets/base",
            "top": null,
            "grid_column": null,
            "overflow_y": null,
            "overflow_x": null,
            "grid_auto_flow": null,
            "grid_area": null,
            "grid_template_columns": null,
            "flex": null,
            "_model_name": "LayoutModel",
            "justify_items": null,
            "grid_row": null,
            "max_height": null,
            "align_content": null,
            "visibility": null,
            "align_self": null,
            "height": null,
            "min_height": null,
            "padding": null,
            "grid_auto_rows": null,
            "grid_gap": null,
            "max_width": null,
            "order": null,
            "_view_module_version": "1.2.0",
            "grid_template_areas": null,
            "object_position": null,
            "object_fit": null,
            "grid_auto_columns": null,
            "margin": null,
            "display": null,
            "left": null
          }
        },
        "72eaba2339ac46949687c4741340eefe": {
          "model_module": "@jupyter-widgets/controls",
          "model_name": "FloatProgressModel",
          "state": {
            "_view_name": "ProgressView",
            "style": "IPY_MODEL_3ee1c1a6eac54df497a0c1f6cfbd4d3a",
            "_dom_classes": [],
            "description": "Downloading: 100%",
            "_model_name": "FloatProgressModel",
            "bar_style": "success",
            "max": 433,
            "_view_module": "@jupyter-widgets/controls",
            "_model_module_version": "1.5.0",
            "value": 433,
            "_view_count": null,
            "_view_module_version": "1.5.0",
            "orientation": "horizontal",
            "min": 0,
            "description_tooltip": null,
            "_model_module": "@jupyter-widgets/controls",
            "layout": "IPY_MODEL_4b4bd949b55a48c683907c8030e8a86c"
          }
        },
        "43fdf13ea1324b50bcab7cf7bf16d285": {
          "model_module": "@jupyter-widgets/controls",
          "model_name": "HTMLModel",
          "state": {
            "_view_name": "HTMLView",
            "style": "IPY_MODEL_7b66454626a2427b8804d6ee8bd7df5f",
            "_dom_classes": [],
            "description": "",
            "_model_name": "HTMLModel",
            "placeholder": "​",
            "_view_module": "@jupyter-widgets/controls",
            "_model_module_version": "1.5.0",
            "value": " 433/433 [00:00&lt;00:00, 871B/s]",
            "_view_count": null,
            "_view_module_version": "1.5.0",
            "description_tooltip": null,
            "_model_module": "@jupyter-widgets/controls",
            "layout": "IPY_MODEL_2e5627595ff84f8885e4f635fd7e2f2c"
          }
        },
        "3ee1c1a6eac54df497a0c1f6cfbd4d3a": {
          "model_module": "@jupyter-widgets/controls",
          "model_name": "ProgressStyleModel",
          "state": {
            "_view_name": "StyleView",
            "_model_name": "ProgressStyleModel",
            "description_width": "initial",
            "_view_module": "@jupyter-widgets/base",
            "_model_module_version": "1.5.0",
            "_view_count": null,
            "_view_module_version": "1.2.0",
            "bar_color": null,
            "_model_module": "@jupyter-widgets/controls"
          }
        },
        "4b4bd949b55a48c683907c8030e8a86c": {
          "model_module": "@jupyter-widgets/base",
          "model_name": "LayoutModel",
          "state": {
            "_view_name": "LayoutView",
            "grid_template_rows": null,
            "right": null,
            "justify_content": null,
            "_view_module": "@jupyter-widgets/base",
            "overflow": null,
            "_model_module_version": "1.2.0",
            "_view_count": null,
            "flex_flow": null,
            "width": null,
            "min_width": null,
            "border": null,
            "align_items": null,
            "bottom": null,
            "_model_module": "@jupyter-widgets/base",
            "top": null,
            "grid_column": null,
            "overflow_y": null,
            "overflow_x": null,
            "grid_auto_flow": null,
            "grid_area": null,
            "grid_template_columns": null,
            "flex": null,
            "_model_name": "LayoutModel",
            "justify_items": null,
            "grid_row": null,
            "max_height": null,
            "align_content": null,
            "visibility": null,
            "align_self": null,
            "height": null,
            "min_height": null,
            "padding": null,
            "grid_auto_rows": null,
            "grid_gap": null,
            "max_width": null,
            "order": null,
            "_view_module_version": "1.2.0",
            "grid_template_areas": null,
            "object_position": null,
            "object_fit": null,
            "grid_auto_columns": null,
            "margin": null,
            "display": null,
            "left": null
          }
        },
        "7b66454626a2427b8804d6ee8bd7df5f": {
          "model_module": "@jupyter-widgets/controls",
          "model_name": "DescriptionStyleModel",
          "state": {
            "_view_name": "StyleView",
            "_model_name": "DescriptionStyleModel",
            "description_width": "",
            "_view_module": "@jupyter-widgets/base",
            "_model_module_version": "1.5.0",
            "_view_count": null,
            "_view_module_version": "1.2.0",
            "_model_module": "@jupyter-widgets/controls"
          }
        },
        "2e5627595ff84f8885e4f635fd7e2f2c": {
          "model_module": "@jupyter-widgets/base",
          "model_name": "LayoutModel",
          "state": {
            "_view_name": "LayoutView",
            "grid_template_rows": null,
            "right": null,
            "justify_content": null,
            "_view_module": "@jupyter-widgets/base",
            "overflow": null,
            "_model_module_version": "1.2.0",
            "_view_count": null,
            "flex_flow": null,
            "width": null,
            "min_width": null,
            "border": null,
            "align_items": null,
            "bottom": null,
            "_model_module": "@jupyter-widgets/base",
            "top": null,
            "grid_column": null,
            "overflow_y": null,
            "overflow_x": null,
            "grid_auto_flow": null,
            "grid_area": null,
            "grid_template_columns": null,
            "flex": null,
            "_model_name": "LayoutModel",
            "justify_items": null,
            "grid_row": null,
            "max_height": null,
            "align_content": null,
            "visibility": null,
            "align_self": null,
            "height": null,
            "min_height": null,
            "padding": null,
            "grid_auto_rows": null,
            "grid_gap": null,
            "max_width": null,
            "order": null,
            "_view_module_version": "1.2.0",
            "grid_template_areas": null,
            "object_position": null,
            "object_fit": null,
            "grid_auto_columns": null,
            "margin": null,
            "display": null,
            "left": null
          }
        },
        "6911fce8147142b7982df5cb8d9ca5bc": {
          "model_module": "@jupyter-widgets/controls",
          "model_name": "HBoxModel",
          "state": {
            "_view_name": "HBoxView",
            "_dom_classes": [],
            "_model_name": "HBoxModel",
            "_view_module": "@jupyter-widgets/controls",
            "_model_module_version": "1.5.0",
            "_view_count": null,
            "_view_module_version": "1.5.0",
            "box_style": "",
            "layout": "IPY_MODEL_a54c9a36d1764d5faafc951535abb712",
            "_model_module": "@jupyter-widgets/controls",
            "children": [
              "IPY_MODEL_32eaac44322541d693e34f15a91f5d7c",
              "IPY_MODEL_86cb6c1369b84ace8a171e238f5cdf43"
            ]
          }
        },
        "a54c9a36d1764d5faafc951535abb712": {
          "model_module": "@jupyter-widgets/base",
          "model_name": "LayoutModel",
          "state": {
            "_view_name": "LayoutView",
            "grid_template_rows": null,
            "right": null,
            "justify_content": null,
            "_view_module": "@jupyter-widgets/base",
            "overflow": null,
            "_model_module_version": "1.2.0",
            "_view_count": null,
            "flex_flow": null,
            "width": null,
            "min_width": null,
            "border": null,
            "align_items": null,
            "bottom": null,
            "_model_module": "@jupyter-widgets/base",
            "top": null,
            "grid_column": null,
            "overflow_y": null,
            "overflow_x": null,
            "grid_auto_flow": null,
            "grid_area": null,
            "grid_template_columns": null,
            "flex": null,
            "_model_name": "LayoutModel",
            "justify_items": null,
            "grid_row": null,
            "max_height": null,
            "align_content": null,
            "visibility": null,
            "align_self": null,
            "height": null,
            "min_height": null,
            "padding": null,
            "grid_auto_rows": null,
            "grid_gap": null,
            "max_width": null,
            "order": null,
            "_view_module_version": "1.2.0",
            "grid_template_areas": null,
            "object_position": null,
            "object_fit": null,
            "grid_auto_columns": null,
            "margin": null,
            "display": null,
            "left": null
          }
        },
        "32eaac44322541d693e34f15a91f5d7c": {
          "model_module": "@jupyter-widgets/controls",
          "model_name": "FloatProgressModel",
          "state": {
            "_view_name": "ProgressView",
            "style": "IPY_MODEL_f064ba046bb748738a44542afff91fc5",
            "_dom_classes": [],
            "description": "Downloading: 100%",
            "_model_name": "FloatProgressModel",
            "bar_style": "success",
            "max": 231508,
            "_view_module": "@jupyter-widgets/controls",
            "_model_module_version": "1.5.0",
            "value": 231508,
            "_view_count": null,
            "_view_module_version": "1.5.0",
            "orientation": "horizontal",
            "min": 0,
            "description_tooltip": null,
            "_model_module": "@jupyter-widgets/controls",
            "layout": "IPY_MODEL_9f4ce3c0e83a40569516a38c5d593c69"
          }
        },
        "86cb6c1369b84ace8a171e238f5cdf43": {
          "model_module": "@jupyter-widgets/controls",
          "model_name": "HTMLModel",
          "state": {
            "_view_name": "HTMLView",
            "style": "IPY_MODEL_7db8e288d6cf49df9f4a750be4062473",
            "_dom_classes": [],
            "description": "",
            "_model_name": "HTMLModel",
            "placeholder": "​",
            "_view_module": "@jupyter-widgets/controls",
            "_model_module_version": "1.5.0",
            "value": " 232k/232k [00:02&lt;00:00, 95.5kB/s]",
            "_view_count": null,
            "_view_module_version": "1.5.0",
            "description_tooltip": null,
            "_model_module": "@jupyter-widgets/controls",
            "layout": "IPY_MODEL_d86309317d394a99994d46942a9297cd"
          }
        },
        "f064ba046bb748738a44542afff91fc5": {
          "model_module": "@jupyter-widgets/controls",
          "model_name": "ProgressStyleModel",
          "state": {
            "_view_name": "StyleView",
            "_model_name": "ProgressStyleModel",
            "description_width": "initial",
            "_view_module": "@jupyter-widgets/base",
            "_model_module_version": "1.5.0",
            "_view_count": null,
            "_view_module_version": "1.2.0",
            "bar_color": null,
            "_model_module": "@jupyter-widgets/controls"
          }
        },
        "9f4ce3c0e83a40569516a38c5d593c69": {
          "model_module": "@jupyter-widgets/base",
          "model_name": "LayoutModel",
          "state": {
            "_view_name": "LayoutView",
            "grid_template_rows": null,
            "right": null,
            "justify_content": null,
            "_view_module": "@jupyter-widgets/base",
            "overflow": null,
            "_model_module_version": "1.2.0",
            "_view_count": null,
            "flex_flow": null,
            "width": null,
            "min_width": null,
            "border": null,
            "align_items": null,
            "bottom": null,
            "_model_module": "@jupyter-widgets/base",
            "top": null,
            "grid_column": null,
            "overflow_y": null,
            "overflow_x": null,
            "grid_auto_flow": null,
            "grid_area": null,
            "grid_template_columns": null,
            "flex": null,
            "_model_name": "LayoutModel",
            "justify_items": null,
            "grid_row": null,
            "max_height": null,
            "align_content": null,
            "visibility": null,
            "align_self": null,
            "height": null,
            "min_height": null,
            "padding": null,
            "grid_auto_rows": null,
            "grid_gap": null,
            "max_width": null,
            "order": null,
            "_view_module_version": "1.2.0",
            "grid_template_areas": null,
            "object_position": null,
            "object_fit": null,
            "grid_auto_columns": null,
            "margin": null,
            "display": null,
            "left": null
          }
        },
        "7db8e288d6cf49df9f4a750be4062473": {
          "model_module": "@jupyter-widgets/controls",
          "model_name": "DescriptionStyleModel",
          "state": {
            "_view_name": "StyleView",
            "_model_name": "DescriptionStyleModel",
            "description_width": "",
            "_view_module": "@jupyter-widgets/base",
            "_model_module_version": "1.5.0",
            "_view_count": null,
            "_view_module_version": "1.2.0",
            "_model_module": "@jupyter-widgets/controls"
          }
        },
        "d86309317d394a99994d46942a9297cd": {
          "model_module": "@jupyter-widgets/base",
          "model_name": "LayoutModel",
          "state": {
            "_view_name": "LayoutView",
            "grid_template_rows": null,
            "right": null,
            "justify_content": null,
            "_view_module": "@jupyter-widgets/base",
            "overflow": null,
            "_model_module_version": "1.2.0",
            "_view_count": null,
            "flex_flow": null,
            "width": null,
            "min_width": null,
            "border": null,
            "align_items": null,
            "bottom": null,
            "_model_module": "@jupyter-widgets/base",
            "top": null,
            "grid_column": null,
            "overflow_y": null,
            "overflow_x": null,
            "grid_auto_flow": null,
            "grid_area": null,
            "grid_template_columns": null,
            "flex": null,
            "_model_name": "LayoutModel",
            "justify_items": null,
            "grid_row": null,
            "max_height": null,
            "align_content": null,
            "visibility": null,
            "align_self": null,
            "height": null,
            "min_height": null,
            "padding": null,
            "grid_auto_rows": null,
            "grid_gap": null,
            "max_width": null,
            "order": null,
            "_view_module_version": "1.2.0",
            "grid_template_areas": null,
            "object_position": null,
            "object_fit": null,
            "grid_auto_columns": null,
            "margin": null,
            "display": null,
            "left": null
          }
        },
        "cdb930f5a9ef40aa82b4daa27c92eff5": {
          "model_module": "@jupyter-widgets/controls",
          "model_name": "HBoxModel",
          "state": {
            "_view_name": "HBoxView",
            "_dom_classes": [],
            "_model_name": "HBoxModel",
            "_view_module": "@jupyter-widgets/controls",
            "_model_module_version": "1.5.0",
            "_view_count": null,
            "_view_module_version": "1.5.0",
            "box_style": "",
            "layout": "IPY_MODEL_5c3c8e4ed0fd4111ba845a624a70d704",
            "_model_module": "@jupyter-widgets/controls",
            "children": [
              "IPY_MODEL_183a954e0fdc4fb9a1a49179befa04b7",
              "IPY_MODEL_54d1abf54c3d4800b42140de07f4b2f1"
            ]
          }
        },
        "5c3c8e4ed0fd4111ba845a624a70d704": {
          "model_module": "@jupyter-widgets/base",
          "model_name": "LayoutModel",
          "state": {
            "_view_name": "LayoutView",
            "grid_template_rows": null,
            "right": null,
            "justify_content": null,
            "_view_module": "@jupyter-widgets/base",
            "overflow": null,
            "_model_module_version": "1.2.0",
            "_view_count": null,
            "flex_flow": null,
            "width": null,
            "min_width": null,
            "border": null,
            "align_items": null,
            "bottom": null,
            "_model_module": "@jupyter-widgets/base",
            "top": null,
            "grid_column": null,
            "overflow_y": null,
            "overflow_x": null,
            "grid_auto_flow": null,
            "grid_area": null,
            "grid_template_columns": null,
            "flex": null,
            "_model_name": "LayoutModel",
            "justify_items": null,
            "grid_row": null,
            "max_height": null,
            "align_content": null,
            "visibility": null,
            "align_self": null,
            "height": null,
            "min_height": null,
            "padding": null,
            "grid_auto_rows": null,
            "grid_gap": null,
            "max_width": null,
            "order": null,
            "_view_module_version": "1.2.0",
            "grid_template_areas": null,
            "object_position": null,
            "object_fit": null,
            "grid_auto_columns": null,
            "margin": null,
            "display": null,
            "left": null
          }
        },
        "183a954e0fdc4fb9a1a49179befa04b7": {
          "model_module": "@jupyter-widgets/controls",
          "model_name": "FloatProgressModel",
          "state": {
            "_view_name": "ProgressView",
            "style": "IPY_MODEL_fe6005528323426cb7b354e7c18d53f8",
            "_dom_classes": [],
            "description": "Downloading: 100%",
            "_model_name": "FloatProgressModel",
            "bar_style": "success",
            "max": 28,
            "_view_module": "@jupyter-widgets/controls",
            "_model_module_version": "1.5.0",
            "value": 28,
            "_view_count": null,
            "_view_module_version": "1.5.0",
            "orientation": "horizontal",
            "min": 0,
            "description_tooltip": null,
            "_model_module": "@jupyter-widgets/controls",
            "layout": "IPY_MODEL_cfb3790b59c0452fb818c1cdbf0bfde2"
          }
        },
        "54d1abf54c3d4800b42140de07f4b2f1": {
          "model_module": "@jupyter-widgets/controls",
          "model_name": "HTMLModel",
          "state": {
            "_view_name": "HTMLView",
            "style": "IPY_MODEL_3b4e9663999d40c09ecba8ed77720038",
            "_dom_classes": [],
            "description": "",
            "_model_name": "HTMLModel",
            "placeholder": "​",
            "_view_module": "@jupyter-widgets/controls",
            "_model_module_version": "1.5.0",
            "value": " 28.0/28.0 [00:01&lt;00:00, 27.6B/s]",
            "_view_count": null,
            "_view_module_version": "1.5.0",
            "description_tooltip": null,
            "_model_module": "@jupyter-widgets/controls",
            "layout": "IPY_MODEL_4ad5c5920f874e5fb83ae4178a80a5f9"
          }
        },
        "fe6005528323426cb7b354e7c18d53f8": {
          "model_module": "@jupyter-widgets/controls",
          "model_name": "ProgressStyleModel",
          "state": {
            "_view_name": "StyleView",
            "_model_name": "ProgressStyleModel",
            "description_width": "initial",
            "_view_module": "@jupyter-widgets/base",
            "_model_module_version": "1.5.0",
            "_view_count": null,
            "_view_module_version": "1.2.0",
            "bar_color": null,
            "_model_module": "@jupyter-widgets/controls"
          }
        },
        "cfb3790b59c0452fb818c1cdbf0bfde2": {
          "model_module": "@jupyter-widgets/base",
          "model_name": "LayoutModel",
          "state": {
            "_view_name": "LayoutView",
            "grid_template_rows": null,
            "right": null,
            "justify_content": null,
            "_view_module": "@jupyter-widgets/base",
            "overflow": null,
            "_model_module_version": "1.2.0",
            "_view_count": null,
            "flex_flow": null,
            "width": null,
            "min_width": null,
            "border": null,
            "align_items": null,
            "bottom": null,
            "_model_module": "@jupyter-widgets/base",
            "top": null,
            "grid_column": null,
            "overflow_y": null,
            "overflow_x": null,
            "grid_auto_flow": null,
            "grid_area": null,
            "grid_template_columns": null,
            "flex": null,
            "_model_name": "LayoutModel",
            "justify_items": null,
            "grid_row": null,
            "max_height": null,
            "align_content": null,
            "visibility": null,
            "align_self": null,
            "height": null,
            "min_height": null,
            "padding": null,
            "grid_auto_rows": null,
            "grid_gap": null,
            "max_width": null,
            "order": null,
            "_view_module_version": "1.2.0",
            "grid_template_areas": null,
            "object_position": null,
            "object_fit": null,
            "grid_auto_columns": null,
            "margin": null,
            "display": null,
            "left": null
          }
        },
        "3b4e9663999d40c09ecba8ed77720038": {
          "model_module": "@jupyter-widgets/controls",
          "model_name": "DescriptionStyleModel",
          "state": {
            "_view_name": "StyleView",
            "_model_name": "DescriptionStyleModel",
            "description_width": "",
            "_view_module": "@jupyter-widgets/base",
            "_model_module_version": "1.5.0",
            "_view_count": null,
            "_view_module_version": "1.2.0",
            "_model_module": "@jupyter-widgets/controls"
          }
        },
        "4ad5c5920f874e5fb83ae4178a80a5f9": {
          "model_module": "@jupyter-widgets/base",
          "model_name": "LayoutModel",
          "state": {
            "_view_name": "LayoutView",
            "grid_template_rows": null,
            "right": null,
            "justify_content": null,
            "_view_module": "@jupyter-widgets/base",
            "overflow": null,
            "_model_module_version": "1.2.0",
            "_view_count": null,
            "flex_flow": null,
            "width": null,
            "min_width": null,
            "border": null,
            "align_items": null,
            "bottom": null,
            "_model_module": "@jupyter-widgets/base",
            "top": null,
            "grid_column": null,
            "overflow_y": null,
            "overflow_x": null,
            "grid_auto_flow": null,
            "grid_area": null,
            "grid_template_columns": null,
            "flex": null,
            "_model_name": "LayoutModel",
            "justify_items": null,
            "grid_row": null,
            "max_height": null,
            "align_content": null,
            "visibility": null,
            "align_self": null,
            "height": null,
            "min_height": null,
            "padding": null,
            "grid_auto_rows": null,
            "grid_gap": null,
            "max_width": null,
            "order": null,
            "_view_module_version": "1.2.0",
            "grid_template_areas": null,
            "object_position": null,
            "object_fit": null,
            "grid_auto_columns": null,
            "margin": null,
            "display": null,
            "left": null
          }
        },
        "73231d56bbcc461c906b424232048ab3": {
          "model_module": "@jupyter-widgets/controls",
          "model_name": "HBoxModel",
          "state": {
            "_view_name": "HBoxView",
            "_dom_classes": [],
            "_model_name": "HBoxModel",
            "_view_module": "@jupyter-widgets/controls",
            "_model_module_version": "1.5.0",
            "_view_count": null,
            "_view_module_version": "1.5.0",
            "box_style": "",
            "layout": "IPY_MODEL_8d0ac06f0d9a4ac5bc5883c493a2516f",
            "_model_module": "@jupyter-widgets/controls",
            "children": [
              "IPY_MODEL_8d9239d38ea5456d91fa1bd055abb028",
              "IPY_MODEL_506f2ba9f8364f0cacd27d5caf4dd8a2"
            ]
          }
        },
        "8d0ac06f0d9a4ac5bc5883c493a2516f": {
          "model_module": "@jupyter-widgets/base",
          "model_name": "LayoutModel",
          "state": {
            "_view_name": "LayoutView",
            "grid_template_rows": null,
            "right": null,
            "justify_content": null,
            "_view_module": "@jupyter-widgets/base",
            "overflow": null,
            "_model_module_version": "1.2.0",
            "_view_count": null,
            "flex_flow": null,
            "width": null,
            "min_width": null,
            "border": null,
            "align_items": null,
            "bottom": null,
            "_model_module": "@jupyter-widgets/base",
            "top": null,
            "grid_column": null,
            "overflow_y": null,
            "overflow_x": null,
            "grid_auto_flow": null,
            "grid_area": null,
            "grid_template_columns": null,
            "flex": null,
            "_model_name": "LayoutModel",
            "justify_items": null,
            "grid_row": null,
            "max_height": null,
            "align_content": null,
            "visibility": null,
            "align_self": null,
            "height": null,
            "min_height": null,
            "padding": null,
            "grid_auto_rows": null,
            "grid_gap": null,
            "max_width": null,
            "order": null,
            "_view_module_version": "1.2.0",
            "grid_template_areas": null,
            "object_position": null,
            "object_fit": null,
            "grid_auto_columns": null,
            "margin": null,
            "display": null,
            "left": null
          }
        },
        "8d9239d38ea5456d91fa1bd055abb028": {
          "model_module": "@jupyter-widgets/controls",
          "model_name": "FloatProgressModel",
          "state": {
            "_view_name": "ProgressView",
            "style": "IPY_MODEL_6f513973f679400c9f81aea9d0baf189",
            "_dom_classes": [],
            "description": "Downloading: 100%",
            "_model_name": "FloatProgressModel",
            "bar_style": "success",
            "max": 466062,
            "_view_module": "@jupyter-widgets/controls",
            "_model_module_version": "1.5.0",
            "value": 466062,
            "_view_count": null,
            "_view_module_version": "1.5.0",
            "orientation": "horizontal",
            "min": 0,
            "description_tooltip": null,
            "_model_module": "@jupyter-widgets/controls",
            "layout": "IPY_MODEL_b06f833dfb0a48879eaec0e546d3b56f"
          }
        },
        "506f2ba9f8364f0cacd27d5caf4dd8a2": {
          "model_module": "@jupyter-widgets/controls",
          "model_name": "HTMLModel",
          "state": {
            "_view_name": "HTMLView",
            "style": "IPY_MODEL_5b6631fee92546f8b740be0284efe4aa",
            "_dom_classes": [],
            "description": "",
            "_model_name": "HTMLModel",
            "placeholder": "​",
            "_view_module": "@jupyter-widgets/controls",
            "_model_module_version": "1.5.0",
            "value": " 466k/466k [00:00&lt;00:00, 1.05MB/s]",
            "_view_count": null,
            "_view_module_version": "1.5.0",
            "description_tooltip": null,
            "_model_module": "@jupyter-widgets/controls",
            "layout": "IPY_MODEL_fa25fb36fe5f4b378f15ec718d660231"
          }
        },
        "6f513973f679400c9f81aea9d0baf189": {
          "model_module": "@jupyter-widgets/controls",
          "model_name": "ProgressStyleModel",
          "state": {
            "_view_name": "StyleView",
            "_model_name": "ProgressStyleModel",
            "description_width": "initial",
            "_view_module": "@jupyter-widgets/base",
            "_model_module_version": "1.5.0",
            "_view_count": null,
            "_view_module_version": "1.2.0",
            "bar_color": null,
            "_model_module": "@jupyter-widgets/controls"
          }
        },
        "b06f833dfb0a48879eaec0e546d3b56f": {
          "model_module": "@jupyter-widgets/base",
          "model_name": "LayoutModel",
          "state": {
            "_view_name": "LayoutView",
            "grid_template_rows": null,
            "right": null,
            "justify_content": null,
            "_view_module": "@jupyter-widgets/base",
            "overflow": null,
            "_model_module_version": "1.2.0",
            "_view_count": null,
            "flex_flow": null,
            "width": null,
            "min_width": null,
            "border": null,
            "align_items": null,
            "bottom": null,
            "_model_module": "@jupyter-widgets/base",
            "top": null,
            "grid_column": null,
            "overflow_y": null,
            "overflow_x": null,
            "grid_auto_flow": null,
            "grid_area": null,
            "grid_template_columns": null,
            "flex": null,
            "_model_name": "LayoutModel",
            "justify_items": null,
            "grid_row": null,
            "max_height": null,
            "align_content": null,
            "visibility": null,
            "align_self": null,
            "height": null,
            "min_height": null,
            "padding": null,
            "grid_auto_rows": null,
            "grid_gap": null,
            "max_width": null,
            "order": null,
            "_view_module_version": "1.2.0",
            "grid_template_areas": null,
            "object_position": null,
            "object_fit": null,
            "grid_auto_columns": null,
            "margin": null,
            "display": null,
            "left": null
          }
        },
        "5b6631fee92546f8b740be0284efe4aa": {
          "model_module": "@jupyter-widgets/controls",
          "model_name": "DescriptionStyleModel",
          "state": {
            "_view_name": "StyleView",
            "_model_name": "DescriptionStyleModel",
            "description_width": "",
            "_view_module": "@jupyter-widgets/base",
            "_model_module_version": "1.5.0",
            "_view_count": null,
            "_view_module_version": "1.2.0",
            "_model_module": "@jupyter-widgets/controls"
          }
        },
        "fa25fb36fe5f4b378f15ec718d660231": {
          "model_module": "@jupyter-widgets/base",
          "model_name": "LayoutModel",
          "state": {
            "_view_name": "LayoutView",
            "grid_template_rows": null,
            "right": null,
            "justify_content": null,
            "_view_module": "@jupyter-widgets/base",
            "overflow": null,
            "_model_module_version": "1.2.0",
            "_view_count": null,
            "flex_flow": null,
            "width": null,
            "min_width": null,
            "border": null,
            "align_items": null,
            "bottom": null,
            "_model_module": "@jupyter-widgets/base",
            "top": null,
            "grid_column": null,
            "overflow_y": null,
            "overflow_x": null,
            "grid_auto_flow": null,
            "grid_area": null,
            "grid_template_columns": null,
            "flex": null,
            "_model_name": "LayoutModel",
            "justify_items": null,
            "grid_row": null,
            "max_height": null,
            "align_content": null,
            "visibility": null,
            "align_self": null,
            "height": null,
            "min_height": null,
            "padding": null,
            "grid_auto_rows": null,
            "grid_gap": null,
            "max_width": null,
            "order": null,
            "_view_module_version": "1.2.0",
            "grid_template_areas": null,
            "object_position": null,
            "object_fit": null,
            "grid_auto_columns": null,
            "margin": null,
            "display": null,
            "left": null
          }
        },
        "e49f8d996054497c967cc8a5a3f46993": {
          "model_module": "@jupyter-widgets/controls",
          "model_name": "HBoxModel",
          "state": {
            "_view_name": "HBoxView",
            "_dom_classes": [],
            "_model_name": "HBoxModel",
            "_view_module": "@jupyter-widgets/controls",
            "_model_module_version": "1.5.0",
            "_view_count": null,
            "_view_module_version": "1.5.0",
            "box_style": "",
            "layout": "IPY_MODEL_9219ea2281be483cbcca6f5f8d46eb49",
            "_model_module": "@jupyter-widgets/controls",
            "children": [
              "IPY_MODEL_f9adfdff1e2a4453bef4ea7fe9a49fa4",
              "IPY_MODEL_54175be60879452990178e09ae11572a"
            ]
          }
        },
        "9219ea2281be483cbcca6f5f8d46eb49": {
          "model_module": "@jupyter-widgets/base",
          "model_name": "LayoutModel",
          "state": {
            "_view_name": "LayoutView",
            "grid_template_rows": null,
            "right": null,
            "justify_content": null,
            "_view_module": "@jupyter-widgets/base",
            "overflow": null,
            "_model_module_version": "1.2.0",
            "_view_count": null,
            "flex_flow": null,
            "width": null,
            "min_width": null,
            "border": null,
            "align_items": null,
            "bottom": null,
            "_model_module": "@jupyter-widgets/base",
            "top": null,
            "grid_column": null,
            "overflow_y": null,
            "overflow_x": null,
            "grid_auto_flow": null,
            "grid_area": null,
            "grid_template_columns": null,
            "flex": null,
            "_model_name": "LayoutModel",
            "justify_items": null,
            "grid_row": null,
            "max_height": null,
            "align_content": null,
            "visibility": null,
            "align_self": null,
            "height": null,
            "min_height": null,
            "padding": null,
            "grid_auto_rows": null,
            "grid_gap": null,
            "max_width": null,
            "order": null,
            "_view_module_version": "1.2.0",
            "grid_template_areas": null,
            "object_position": null,
            "object_fit": null,
            "grid_auto_columns": null,
            "margin": null,
            "display": null,
            "left": null
          }
        },
        "f9adfdff1e2a4453bef4ea7fe9a49fa4": {
          "model_module": "@jupyter-widgets/controls",
          "model_name": "FloatProgressModel",
          "state": {
            "_view_name": "ProgressView",
            "style": "IPY_MODEL_0c7153358f5e4aea9603c4f0212564bc",
            "_dom_classes": [],
            "description": "100%",
            "_model_name": "FloatProgressModel",
            "bar_style": "success",
            "max": 438021897,
            "_view_module": "@jupyter-widgets/controls",
            "_model_module_version": "1.5.0",
            "value": 438021897,
            "_view_count": null,
            "_view_module_version": "1.5.0",
            "orientation": "horizontal",
            "min": 0,
            "description_tooltip": null,
            "_model_module": "@jupyter-widgets/controls",
            "layout": "IPY_MODEL_24be962229c8459aa5b2c4a9a6267d38"
          }
        },
        "54175be60879452990178e09ae11572a": {
          "model_module": "@jupyter-widgets/controls",
          "model_name": "HTMLModel",
          "state": {
            "_view_name": "HTMLView",
            "style": "IPY_MODEL_a6b0c77a336d48dd967f3da46dadac4c",
            "_dom_classes": [],
            "description": "",
            "_model_name": "HTMLModel",
            "placeholder": "​",
            "_view_module": "@jupyter-widgets/controls",
            "_model_module_version": "1.5.0",
            "value": " 418M/418M [21:34&lt;00:00, 338kB/s]",
            "_view_count": null,
            "_view_module_version": "1.5.0",
            "description_tooltip": null,
            "_model_module": "@jupyter-widgets/controls",
            "layout": "IPY_MODEL_3f271419915643f18477b7bf030dd8ca"
          }
        },
        "0c7153358f5e4aea9603c4f0212564bc": {
          "model_module": "@jupyter-widgets/controls",
          "model_name": "ProgressStyleModel",
          "state": {
            "_view_name": "StyleView",
            "_model_name": "ProgressStyleModel",
            "description_width": "initial",
            "_view_module": "@jupyter-widgets/base",
            "_model_module_version": "1.5.0",
            "_view_count": null,
            "_view_module_version": "1.2.0",
            "bar_color": null,
            "_model_module": "@jupyter-widgets/controls"
          }
        },
        "24be962229c8459aa5b2c4a9a6267d38": {
          "model_module": "@jupyter-widgets/base",
          "model_name": "LayoutModel",
          "state": {
            "_view_name": "LayoutView",
            "grid_template_rows": null,
            "right": null,
            "justify_content": null,
            "_view_module": "@jupyter-widgets/base",
            "overflow": null,
            "_model_module_version": "1.2.0",
            "_view_count": null,
            "flex_flow": null,
            "width": null,
            "min_width": null,
            "border": null,
            "align_items": null,
            "bottom": null,
            "_model_module": "@jupyter-widgets/base",
            "top": null,
            "grid_column": null,
            "overflow_y": null,
            "overflow_x": null,
            "grid_auto_flow": null,
            "grid_area": null,
            "grid_template_columns": null,
            "flex": null,
            "_model_name": "LayoutModel",
            "justify_items": null,
            "grid_row": null,
            "max_height": null,
            "align_content": null,
            "visibility": null,
            "align_self": null,
            "height": null,
            "min_height": null,
            "padding": null,
            "grid_auto_rows": null,
            "grid_gap": null,
            "max_width": null,
            "order": null,
            "_view_module_version": "1.2.0",
            "grid_template_areas": null,
            "object_position": null,
            "object_fit": null,
            "grid_auto_columns": null,
            "margin": null,
            "display": null,
            "left": null
          }
        },
        "a6b0c77a336d48dd967f3da46dadac4c": {
          "model_module": "@jupyter-widgets/controls",
          "model_name": "DescriptionStyleModel",
          "state": {
            "_view_name": "StyleView",
            "_model_name": "DescriptionStyleModel",
            "description_width": "",
            "_view_module": "@jupyter-widgets/base",
            "_model_module_version": "1.5.0",
            "_view_count": null,
            "_view_module_version": "1.2.0",
            "_model_module": "@jupyter-widgets/controls"
          }
        },
        "3f271419915643f18477b7bf030dd8ca": {
          "model_module": "@jupyter-widgets/base",
          "model_name": "LayoutModel",
          "state": {
            "_view_name": "LayoutView",
            "grid_template_rows": null,
            "right": null,
            "justify_content": null,
            "_view_module": "@jupyter-widgets/base",
            "overflow": null,
            "_model_module_version": "1.2.0",
            "_view_count": null,
            "flex_flow": null,
            "width": null,
            "min_width": null,
            "border": null,
            "align_items": null,
            "bottom": null,
            "_model_module": "@jupyter-widgets/base",
            "top": null,
            "grid_column": null,
            "overflow_y": null,
            "overflow_x": null,
            "grid_auto_flow": null,
            "grid_area": null,
            "grid_template_columns": null,
            "flex": null,
            "_model_name": "LayoutModel",
            "justify_items": null,
            "grid_row": null,
            "max_height": null,
            "align_content": null,
            "visibility": null,
            "align_self": null,
            "height": null,
            "min_height": null,
            "padding": null,
            "grid_auto_rows": null,
            "grid_gap": null,
            "max_width": null,
            "order": null,
            "_view_module_version": "1.2.0",
            "grid_template_areas": null,
            "object_position": null,
            "object_fit": null,
            "grid_auto_columns": null,
            "margin": null,
            "display": null,
            "left": null
          }
        },
        "4b524e0029cf48df83bdb439fc439d7e": {
          "model_module": "@jupyter-widgets/controls",
          "model_name": "HBoxModel",
          "state": {
            "_view_name": "HBoxView",
            "_dom_classes": [],
            "_model_name": "HBoxModel",
            "_view_module": "@jupyter-widgets/controls",
            "_model_module_version": "1.5.0",
            "_view_count": null,
            "_view_module_version": "1.5.0",
            "box_style": "",
            "layout": "IPY_MODEL_e43f26c4c6fd430a9a6a5646f217fa37",
            "_model_module": "@jupyter-widgets/controls",
            "children": [
              "IPY_MODEL_e5a22920ce314935bde6d4502f518152",
              "IPY_MODEL_aab837c4fc4a42da812f079e91f99ced"
            ]
          }
        },
        "e43f26c4c6fd430a9a6a5646f217fa37": {
          "model_module": "@jupyter-widgets/base",
          "model_name": "LayoutModel",
          "state": {
            "_view_name": "LayoutView",
            "grid_template_rows": null,
            "right": null,
            "justify_content": null,
            "_view_module": "@jupyter-widgets/base",
            "overflow": null,
            "_model_module_version": "1.2.0",
            "_view_count": null,
            "flex_flow": null,
            "width": null,
            "min_width": null,
            "border": null,
            "align_items": null,
            "bottom": null,
            "_model_module": "@jupyter-widgets/base",
            "top": null,
            "grid_column": null,
            "overflow_y": null,
            "overflow_x": null,
            "grid_auto_flow": null,
            "grid_area": null,
            "grid_template_columns": null,
            "flex": null,
            "_model_name": "LayoutModel",
            "justify_items": null,
            "grid_row": null,
            "max_height": null,
            "align_content": null,
            "visibility": null,
            "align_self": null,
            "height": null,
            "min_height": null,
            "padding": null,
            "grid_auto_rows": null,
            "grid_gap": null,
            "max_width": null,
            "order": null,
            "_view_module_version": "1.2.0",
            "grid_template_areas": null,
            "object_position": null,
            "object_fit": null,
            "grid_auto_columns": null,
            "margin": null,
            "display": null,
            "left": null
          }
        },
        "e5a22920ce314935bde6d4502f518152": {
          "model_module": "@jupyter-widgets/controls",
          "model_name": "FloatProgressModel",
          "state": {
            "_view_name": "ProgressView",
            "style": "IPY_MODEL_0ae5ba141dfa4eacb4fc99c2823eaae4",
            "_dom_classes": [],
            "description": "Downloading: 100%",
            "_model_name": "FloatProgressModel",
            "bar_style": "success",
            "max": 433,
            "_view_module": "@jupyter-widgets/controls",
            "_model_module_version": "1.5.0",
            "value": 433,
            "_view_count": null,
            "_view_module_version": "1.5.0",
            "orientation": "horizontal",
            "min": 0,
            "description_tooltip": null,
            "_model_module": "@jupyter-widgets/controls",
            "layout": "IPY_MODEL_39bced7c84d74e72875bfb4ec0efc67a"
          }
        },
        "aab837c4fc4a42da812f079e91f99ced": {
          "model_module": "@jupyter-widgets/controls",
          "model_name": "HTMLModel",
          "state": {
            "_view_name": "HTMLView",
            "style": "IPY_MODEL_567a4fe155c747efbb50c2be4cfc6d8e",
            "_dom_classes": [],
            "description": "",
            "_model_name": "HTMLModel",
            "placeholder": "​",
            "_view_module": "@jupyter-widgets/controls",
            "_model_module_version": "1.5.0",
            "value": " 433/433 [00:00&lt;00:00, 1.26kB/s]",
            "_view_count": null,
            "_view_module_version": "1.5.0",
            "description_tooltip": null,
            "_model_module": "@jupyter-widgets/controls",
            "layout": "IPY_MODEL_01d6a199c97a42e5a367b099b577c722"
          }
        },
        "0ae5ba141dfa4eacb4fc99c2823eaae4": {
          "model_module": "@jupyter-widgets/controls",
          "model_name": "ProgressStyleModel",
          "state": {
            "_view_name": "StyleView",
            "_model_name": "ProgressStyleModel",
            "description_width": "initial",
            "_view_module": "@jupyter-widgets/base",
            "_model_module_version": "1.5.0",
            "_view_count": null,
            "_view_module_version": "1.2.0",
            "bar_color": null,
            "_model_module": "@jupyter-widgets/controls"
          }
        },
        "39bced7c84d74e72875bfb4ec0efc67a": {
          "model_module": "@jupyter-widgets/base",
          "model_name": "LayoutModel",
          "state": {
            "_view_name": "LayoutView",
            "grid_template_rows": null,
            "right": null,
            "justify_content": null,
            "_view_module": "@jupyter-widgets/base",
            "overflow": null,
            "_model_module_version": "1.2.0",
            "_view_count": null,
            "flex_flow": null,
            "width": null,
            "min_width": null,
            "border": null,
            "align_items": null,
            "bottom": null,
            "_model_module": "@jupyter-widgets/base",
            "top": null,
            "grid_column": null,
            "overflow_y": null,
            "overflow_x": null,
            "grid_auto_flow": null,
            "grid_area": null,
            "grid_template_columns": null,
            "flex": null,
            "_model_name": "LayoutModel",
            "justify_items": null,
            "grid_row": null,
            "max_height": null,
            "align_content": null,
            "visibility": null,
            "align_self": null,
            "height": null,
            "min_height": null,
            "padding": null,
            "grid_auto_rows": null,
            "grid_gap": null,
            "max_width": null,
            "order": null,
            "_view_module_version": "1.2.0",
            "grid_template_areas": null,
            "object_position": null,
            "object_fit": null,
            "grid_auto_columns": null,
            "margin": null,
            "display": null,
            "left": null
          }
        },
        "567a4fe155c747efbb50c2be4cfc6d8e": {
          "model_module": "@jupyter-widgets/controls",
          "model_name": "DescriptionStyleModel",
          "state": {
            "_view_name": "StyleView",
            "_model_name": "DescriptionStyleModel",
            "description_width": "",
            "_view_module": "@jupyter-widgets/base",
            "_model_module_version": "1.5.0",
            "_view_count": null,
            "_view_module_version": "1.2.0",
            "_model_module": "@jupyter-widgets/controls"
          }
        },
        "01d6a199c97a42e5a367b099b577c722": {
          "model_module": "@jupyter-widgets/base",
          "model_name": "LayoutModel",
          "state": {
            "_view_name": "LayoutView",
            "grid_template_rows": null,
            "right": null,
            "justify_content": null,
            "_view_module": "@jupyter-widgets/base",
            "overflow": null,
            "_model_module_version": "1.2.0",
            "_view_count": null,
            "flex_flow": null,
            "width": null,
            "min_width": null,
            "border": null,
            "align_items": null,
            "bottom": null,
            "_model_module": "@jupyter-widgets/base",
            "top": null,
            "grid_column": null,
            "overflow_y": null,
            "overflow_x": null,
            "grid_auto_flow": null,
            "grid_area": null,
            "grid_template_columns": null,
            "flex": null,
            "_model_name": "LayoutModel",
            "justify_items": null,
            "grid_row": null,
            "max_height": null,
            "align_content": null,
            "visibility": null,
            "align_self": null,
            "height": null,
            "min_height": null,
            "padding": null,
            "grid_auto_rows": null,
            "grid_gap": null,
            "max_width": null,
            "order": null,
            "_view_module_version": "1.2.0",
            "grid_template_areas": null,
            "object_position": null,
            "object_fit": null,
            "grid_auto_columns": null,
            "margin": null,
            "display": null,
            "left": null
          }
        },
        "27c06cf9d73842109926b33441862104": {
          "model_module": "@jupyter-widgets/controls",
          "model_name": "HBoxModel",
          "state": {
            "_view_name": "HBoxView",
            "_dom_classes": [],
            "_model_name": "HBoxModel",
            "_view_module": "@jupyter-widgets/controls",
            "_model_module_version": "1.5.0",
            "_view_count": null,
            "_view_module_version": "1.5.0",
            "box_style": "",
            "layout": "IPY_MODEL_87c701b1e36c44f984cbdef3c20db99a",
            "_model_module": "@jupyter-widgets/controls",
            "children": [
              "IPY_MODEL_a714984b390343e1a235b9d210c84876",
              "IPY_MODEL_126b151596eb430d96f4ff06a716b9a6"
            ]
          }
        },
        "87c701b1e36c44f984cbdef3c20db99a": {
          "model_module": "@jupyter-widgets/base",
          "model_name": "LayoutModel",
          "state": {
            "_view_name": "LayoutView",
            "grid_template_rows": null,
            "right": null,
            "justify_content": null,
            "_view_module": "@jupyter-widgets/base",
            "overflow": null,
            "_model_module_version": "1.2.0",
            "_view_count": null,
            "flex_flow": null,
            "width": null,
            "min_width": null,
            "border": null,
            "align_items": null,
            "bottom": null,
            "_model_module": "@jupyter-widgets/base",
            "top": null,
            "grid_column": null,
            "overflow_y": null,
            "overflow_x": null,
            "grid_auto_flow": null,
            "grid_area": null,
            "grid_template_columns": null,
            "flex": null,
            "_model_name": "LayoutModel",
            "justify_items": null,
            "grid_row": null,
            "max_height": null,
            "align_content": null,
            "visibility": null,
            "align_self": null,
            "height": null,
            "min_height": null,
            "padding": null,
            "grid_auto_rows": null,
            "grid_gap": null,
            "max_width": null,
            "order": null,
            "_view_module_version": "1.2.0",
            "grid_template_areas": null,
            "object_position": null,
            "object_fit": null,
            "grid_auto_columns": null,
            "margin": null,
            "display": null,
            "left": null
          }
        },
        "a714984b390343e1a235b9d210c84876": {
          "model_module": "@jupyter-widgets/controls",
          "model_name": "FloatProgressModel",
          "state": {
            "_view_name": "ProgressView",
            "style": "IPY_MODEL_166bb710f6ba4639b97d45780fe945e2",
            "_dom_classes": [],
            "description": "Downloading: 100%",
            "_model_name": "FloatProgressModel",
            "bar_style": "success",
            "max": 231508,
            "_view_module": "@jupyter-widgets/controls",
            "_model_module_version": "1.5.0",
            "value": 231508,
            "_view_count": null,
            "_view_module_version": "1.5.0",
            "orientation": "horizontal",
            "min": 0,
            "description_tooltip": null,
            "_model_module": "@jupyter-widgets/controls",
            "layout": "IPY_MODEL_ba979092ff844ac1847000e6b0bdc48b"
          }
        },
        "126b151596eb430d96f4ff06a716b9a6": {
          "model_module": "@jupyter-widgets/controls",
          "model_name": "HTMLModel",
          "state": {
            "_view_name": "HTMLView",
            "style": "IPY_MODEL_b755324941df4e33b7f2ba7978471612",
            "_dom_classes": [],
            "description": "",
            "_model_name": "HTMLModel",
            "placeholder": "​",
            "_view_module": "@jupyter-widgets/controls",
            "_model_module_version": "1.5.0",
            "value": " 232k/232k [00:00&lt;00:00, 792kB/s]",
            "_view_count": null,
            "_view_module_version": "1.5.0",
            "description_tooltip": null,
            "_model_module": "@jupyter-widgets/controls",
            "layout": "IPY_MODEL_0e6f5013b5474f43a2f5b61114357509"
          }
        },
        "166bb710f6ba4639b97d45780fe945e2": {
          "model_module": "@jupyter-widgets/controls",
          "model_name": "ProgressStyleModel",
          "state": {
            "_view_name": "StyleView",
            "_model_name": "ProgressStyleModel",
            "description_width": "initial",
            "_view_module": "@jupyter-widgets/base",
            "_model_module_version": "1.5.0",
            "_view_count": null,
            "_view_module_version": "1.2.0",
            "bar_color": null,
            "_model_module": "@jupyter-widgets/controls"
          }
        },
        "ba979092ff844ac1847000e6b0bdc48b": {
          "model_module": "@jupyter-widgets/base",
          "model_name": "LayoutModel",
          "state": {
            "_view_name": "LayoutView",
            "grid_template_rows": null,
            "right": null,
            "justify_content": null,
            "_view_module": "@jupyter-widgets/base",
            "overflow": null,
            "_model_module_version": "1.2.0",
            "_view_count": null,
            "flex_flow": null,
            "width": null,
            "min_width": null,
            "border": null,
            "align_items": null,
            "bottom": null,
            "_model_module": "@jupyter-widgets/base",
            "top": null,
            "grid_column": null,
            "overflow_y": null,
            "overflow_x": null,
            "grid_auto_flow": null,
            "grid_area": null,
            "grid_template_columns": null,
            "flex": null,
            "_model_name": "LayoutModel",
            "justify_items": null,
            "grid_row": null,
            "max_height": null,
            "align_content": null,
            "visibility": null,
            "align_self": null,
            "height": null,
            "min_height": null,
            "padding": null,
            "grid_auto_rows": null,
            "grid_gap": null,
            "max_width": null,
            "order": null,
            "_view_module_version": "1.2.0",
            "grid_template_areas": null,
            "object_position": null,
            "object_fit": null,
            "grid_auto_columns": null,
            "margin": null,
            "display": null,
            "left": null
          }
        },
        "b755324941df4e33b7f2ba7978471612": {
          "model_module": "@jupyter-widgets/controls",
          "model_name": "DescriptionStyleModel",
          "state": {
            "_view_name": "StyleView",
            "_model_name": "DescriptionStyleModel",
            "description_width": "",
            "_view_module": "@jupyter-widgets/base",
            "_model_module_version": "1.5.0",
            "_view_count": null,
            "_view_module_version": "1.2.0",
            "_model_module": "@jupyter-widgets/controls"
          }
        },
        "0e6f5013b5474f43a2f5b61114357509": {
          "model_module": "@jupyter-widgets/base",
          "model_name": "LayoutModel",
          "state": {
            "_view_name": "LayoutView",
            "grid_template_rows": null,
            "right": null,
            "justify_content": null,
            "_view_module": "@jupyter-widgets/base",
            "overflow": null,
            "_model_module_version": "1.2.0",
            "_view_count": null,
            "flex_flow": null,
            "width": null,
            "min_width": null,
            "border": null,
            "align_items": null,
            "bottom": null,
            "_model_module": "@jupyter-widgets/base",
            "top": null,
            "grid_column": null,
            "overflow_y": null,
            "overflow_x": null,
            "grid_auto_flow": null,
            "grid_area": null,
            "grid_template_columns": null,
            "flex": null,
            "_model_name": "LayoutModel",
            "justify_items": null,
            "grid_row": null,
            "max_height": null,
            "align_content": null,
            "visibility": null,
            "align_self": null,
            "height": null,
            "min_height": null,
            "padding": null,
            "grid_auto_rows": null,
            "grid_gap": null,
            "max_width": null,
            "order": null,
            "_view_module_version": "1.2.0",
            "grid_template_areas": null,
            "object_position": null,
            "object_fit": null,
            "grid_auto_columns": null,
            "margin": null,
            "display": null,
            "left": null
          }
        },
        "1e9163dd344646efac8cd309028d51d1": {
          "model_module": "@jupyter-widgets/controls",
          "model_name": "HBoxModel",
          "state": {
            "_view_name": "HBoxView",
            "_dom_classes": [],
            "_model_name": "HBoxModel",
            "_view_module": "@jupyter-widgets/controls",
            "_model_module_version": "1.5.0",
            "_view_count": null,
            "_view_module_version": "1.5.0",
            "box_style": "",
            "layout": "IPY_MODEL_651b16b0c89d49a897752ac0306637b8",
            "_model_module": "@jupyter-widgets/controls",
            "children": [
              "IPY_MODEL_0756e66ac01d4d63804c388d22a8cfa8",
              "IPY_MODEL_99cfb1aa9c5b4da9a7d2682a6a1516dc"
            ]
          }
        },
        "651b16b0c89d49a897752ac0306637b8": {
          "model_module": "@jupyter-widgets/base",
          "model_name": "LayoutModel",
          "state": {
            "_view_name": "LayoutView",
            "grid_template_rows": null,
            "right": null,
            "justify_content": null,
            "_view_module": "@jupyter-widgets/base",
            "overflow": null,
            "_model_module_version": "1.2.0",
            "_view_count": null,
            "flex_flow": null,
            "width": null,
            "min_width": null,
            "border": null,
            "align_items": null,
            "bottom": null,
            "_model_module": "@jupyter-widgets/base",
            "top": null,
            "grid_column": null,
            "overflow_y": null,
            "overflow_x": null,
            "grid_auto_flow": null,
            "grid_area": null,
            "grid_template_columns": null,
            "flex": null,
            "_model_name": "LayoutModel",
            "justify_items": null,
            "grid_row": null,
            "max_height": null,
            "align_content": null,
            "visibility": null,
            "align_self": null,
            "height": null,
            "min_height": null,
            "padding": null,
            "grid_auto_rows": null,
            "grid_gap": null,
            "max_width": null,
            "order": null,
            "_view_module_version": "1.2.0",
            "grid_template_areas": null,
            "object_position": null,
            "object_fit": null,
            "grid_auto_columns": null,
            "margin": null,
            "display": null,
            "left": null
          }
        },
        "0756e66ac01d4d63804c388d22a8cfa8": {
          "model_module": "@jupyter-widgets/controls",
          "model_name": "FloatProgressModel",
          "state": {
            "_view_name": "ProgressView",
            "style": "IPY_MODEL_f20e70f5871444a5ae1767eafc10164b",
            "_dom_classes": [],
            "description": "Downloading: 100%",
            "_model_name": "FloatProgressModel",
            "bar_style": "success",
            "max": 28,
            "_view_module": "@jupyter-widgets/controls",
            "_model_module_version": "1.5.0",
            "value": 28,
            "_view_count": null,
            "_view_module_version": "1.5.0",
            "orientation": "horizontal",
            "min": 0,
            "description_tooltip": null,
            "_model_module": "@jupyter-widgets/controls",
            "layout": "IPY_MODEL_1fafd12f81be4ddc9029d3c0a0e2cf7f"
          }
        },
        "99cfb1aa9c5b4da9a7d2682a6a1516dc": {
          "model_module": "@jupyter-widgets/controls",
          "model_name": "HTMLModel",
          "state": {
            "_view_name": "HTMLView",
            "style": "IPY_MODEL_ccb547d236b2466e9edd3a201ee13466",
            "_dom_classes": [],
            "description": "",
            "_model_name": "HTMLModel",
            "placeholder": "​",
            "_view_module": "@jupyter-widgets/controls",
            "_model_module_version": "1.5.0",
            "value": " 28.0/28.0 [00:00&lt;00:00, 158B/s]",
            "_view_count": null,
            "_view_module_version": "1.5.0",
            "description_tooltip": null,
            "_model_module": "@jupyter-widgets/controls",
            "layout": "IPY_MODEL_e0eccafbf4af4e679ebe7949ba02c083"
          }
        },
        "f20e70f5871444a5ae1767eafc10164b": {
          "model_module": "@jupyter-widgets/controls",
          "model_name": "ProgressStyleModel",
          "state": {
            "_view_name": "StyleView",
            "_model_name": "ProgressStyleModel",
            "description_width": "initial",
            "_view_module": "@jupyter-widgets/base",
            "_model_module_version": "1.5.0",
            "_view_count": null,
            "_view_module_version": "1.2.0",
            "bar_color": null,
            "_model_module": "@jupyter-widgets/controls"
          }
        },
        "1fafd12f81be4ddc9029d3c0a0e2cf7f": {
          "model_module": "@jupyter-widgets/base",
          "model_name": "LayoutModel",
          "state": {
            "_view_name": "LayoutView",
            "grid_template_rows": null,
            "right": null,
            "justify_content": null,
            "_view_module": "@jupyter-widgets/base",
            "overflow": null,
            "_model_module_version": "1.2.0",
            "_view_count": null,
            "flex_flow": null,
            "width": null,
            "min_width": null,
            "border": null,
            "align_items": null,
            "bottom": null,
            "_model_module": "@jupyter-widgets/base",
            "top": null,
            "grid_column": null,
            "overflow_y": null,
            "overflow_x": null,
            "grid_auto_flow": null,
            "grid_area": null,
            "grid_template_columns": null,
            "flex": null,
            "_model_name": "LayoutModel",
            "justify_items": null,
            "grid_row": null,
            "max_height": null,
            "align_content": null,
            "visibility": null,
            "align_self": null,
            "height": null,
            "min_height": null,
            "padding": null,
            "grid_auto_rows": null,
            "grid_gap": null,
            "max_width": null,
            "order": null,
            "_view_module_version": "1.2.0",
            "grid_template_areas": null,
            "object_position": null,
            "object_fit": null,
            "grid_auto_columns": null,
            "margin": null,
            "display": null,
            "left": null
          }
        },
        "ccb547d236b2466e9edd3a201ee13466": {
          "model_module": "@jupyter-widgets/controls",
          "model_name": "DescriptionStyleModel",
          "state": {
            "_view_name": "StyleView",
            "_model_name": "DescriptionStyleModel",
            "description_width": "",
            "_view_module": "@jupyter-widgets/base",
            "_model_module_version": "1.5.0",
            "_view_count": null,
            "_view_module_version": "1.2.0",
            "_model_module": "@jupyter-widgets/controls"
          }
        },
        "e0eccafbf4af4e679ebe7949ba02c083": {
          "model_module": "@jupyter-widgets/base",
          "model_name": "LayoutModel",
          "state": {
            "_view_name": "LayoutView",
            "grid_template_rows": null,
            "right": null,
            "justify_content": null,
            "_view_module": "@jupyter-widgets/base",
            "overflow": null,
            "_model_module_version": "1.2.0",
            "_view_count": null,
            "flex_flow": null,
            "width": null,
            "min_width": null,
            "border": null,
            "align_items": null,
            "bottom": null,
            "_model_module": "@jupyter-widgets/base",
            "top": null,
            "grid_column": null,
            "overflow_y": null,
            "overflow_x": null,
            "grid_auto_flow": null,
            "grid_area": null,
            "grid_template_columns": null,
            "flex": null,
            "_model_name": "LayoutModel",
            "justify_items": null,
            "grid_row": null,
            "max_height": null,
            "align_content": null,
            "visibility": null,
            "align_self": null,
            "height": null,
            "min_height": null,
            "padding": null,
            "grid_auto_rows": null,
            "grid_gap": null,
            "max_width": null,
            "order": null,
            "_view_module_version": "1.2.0",
            "grid_template_areas": null,
            "object_position": null,
            "object_fit": null,
            "grid_auto_columns": null,
            "margin": null,
            "display": null,
            "left": null
          }
        },
        "e9b908ed3bce4939a4add192c04c0812": {
          "model_module": "@jupyter-widgets/controls",
          "model_name": "HBoxModel",
          "state": {
            "_view_name": "HBoxView",
            "_dom_classes": [],
            "_model_name": "HBoxModel",
            "_view_module": "@jupyter-widgets/controls",
            "_model_module_version": "1.5.0",
            "_view_count": null,
            "_view_module_version": "1.5.0",
            "box_style": "",
            "layout": "IPY_MODEL_016caafc0f8f43a187cbebcebca3c59c",
            "_model_module": "@jupyter-widgets/controls",
            "children": [
              "IPY_MODEL_136a0cd46c9141b0890aad17c5d124a2",
              "IPY_MODEL_e49a9bb7b0c64667b4d47e6a74dd3125"
            ]
          }
        },
        "016caafc0f8f43a187cbebcebca3c59c": {
          "model_module": "@jupyter-widgets/base",
          "model_name": "LayoutModel",
          "state": {
            "_view_name": "LayoutView",
            "grid_template_rows": null,
            "right": null,
            "justify_content": null,
            "_view_module": "@jupyter-widgets/base",
            "overflow": null,
            "_model_module_version": "1.2.0",
            "_view_count": null,
            "flex_flow": null,
            "width": null,
            "min_width": null,
            "border": null,
            "align_items": null,
            "bottom": null,
            "_model_module": "@jupyter-widgets/base",
            "top": null,
            "grid_column": null,
            "overflow_y": null,
            "overflow_x": null,
            "grid_auto_flow": null,
            "grid_area": null,
            "grid_template_columns": null,
            "flex": null,
            "_model_name": "LayoutModel",
            "justify_items": null,
            "grid_row": null,
            "max_height": null,
            "align_content": null,
            "visibility": null,
            "align_self": null,
            "height": null,
            "min_height": null,
            "padding": null,
            "grid_auto_rows": null,
            "grid_gap": null,
            "max_width": null,
            "order": null,
            "_view_module_version": "1.2.0",
            "grid_template_areas": null,
            "object_position": null,
            "object_fit": null,
            "grid_auto_columns": null,
            "margin": null,
            "display": null,
            "left": null
          }
        },
        "136a0cd46c9141b0890aad17c5d124a2": {
          "model_module": "@jupyter-widgets/controls",
          "model_name": "FloatProgressModel",
          "state": {
            "_view_name": "ProgressView",
            "style": "IPY_MODEL_63590ee3de1c425789404a357115bad3",
            "_dom_classes": [],
            "description": "Downloading: 100%",
            "_model_name": "FloatProgressModel",
            "bar_style": "success",
            "max": 466062,
            "_view_module": "@jupyter-widgets/controls",
            "_model_module_version": "1.5.0",
            "value": 466062,
            "_view_count": null,
            "_view_module_version": "1.5.0",
            "orientation": "horizontal",
            "min": 0,
            "description_tooltip": null,
            "_model_module": "@jupyter-widgets/controls",
            "layout": "IPY_MODEL_d41f7025ca7e4f03b8b6ee39651818e3"
          }
        },
        "e49a9bb7b0c64667b4d47e6a74dd3125": {
          "model_module": "@jupyter-widgets/controls",
          "model_name": "HTMLModel",
          "state": {
            "_view_name": "HTMLView",
            "style": "IPY_MODEL_d172a94f0f464d61b86783d5e1d6ddeb",
            "_dom_classes": [],
            "description": "",
            "_model_name": "HTMLModel",
            "placeholder": "​",
            "_view_module": "@jupyter-widgets/controls",
            "_model_module_version": "1.5.0",
            "value": " 466k/466k [00:00&lt;00:00, 5.30MB/s]",
            "_view_count": null,
            "_view_module_version": "1.5.0",
            "description_tooltip": null,
            "_model_module": "@jupyter-widgets/controls",
            "layout": "IPY_MODEL_3e0ab6598afb47b5a10d83b49d59126e"
          }
        },
        "63590ee3de1c425789404a357115bad3": {
          "model_module": "@jupyter-widgets/controls",
          "model_name": "ProgressStyleModel",
          "state": {
            "_view_name": "StyleView",
            "_model_name": "ProgressStyleModel",
            "description_width": "initial",
            "_view_module": "@jupyter-widgets/base",
            "_model_module_version": "1.5.0",
            "_view_count": null,
            "_view_module_version": "1.2.0",
            "bar_color": null,
            "_model_module": "@jupyter-widgets/controls"
          }
        },
        "d41f7025ca7e4f03b8b6ee39651818e3": {
          "model_module": "@jupyter-widgets/base",
          "model_name": "LayoutModel",
          "state": {
            "_view_name": "LayoutView",
            "grid_template_rows": null,
            "right": null,
            "justify_content": null,
            "_view_module": "@jupyter-widgets/base",
            "overflow": null,
            "_model_module_version": "1.2.0",
            "_view_count": null,
            "flex_flow": null,
            "width": null,
            "min_width": null,
            "border": null,
            "align_items": null,
            "bottom": null,
            "_model_module": "@jupyter-widgets/base",
            "top": null,
            "grid_column": null,
            "overflow_y": null,
            "overflow_x": null,
            "grid_auto_flow": null,
            "grid_area": null,
            "grid_template_columns": null,
            "flex": null,
            "_model_name": "LayoutModel",
            "justify_items": null,
            "grid_row": null,
            "max_height": null,
            "align_content": null,
            "visibility": null,
            "align_self": null,
            "height": null,
            "min_height": null,
            "padding": null,
            "grid_auto_rows": null,
            "grid_gap": null,
            "max_width": null,
            "order": null,
            "_view_module_version": "1.2.0",
            "grid_template_areas": null,
            "object_position": null,
            "object_fit": null,
            "grid_auto_columns": null,
            "margin": null,
            "display": null,
            "left": null
          }
        },
        "d172a94f0f464d61b86783d5e1d6ddeb": {
          "model_module": "@jupyter-widgets/controls",
          "model_name": "DescriptionStyleModel",
          "state": {
            "_view_name": "StyleView",
            "_model_name": "DescriptionStyleModel",
            "description_width": "",
            "_view_module": "@jupyter-widgets/base",
            "_model_module_version": "1.5.0",
            "_view_count": null,
            "_view_module_version": "1.2.0",
            "_model_module": "@jupyter-widgets/controls"
          }
        },
        "3e0ab6598afb47b5a10d83b49d59126e": {
          "model_module": "@jupyter-widgets/base",
          "model_name": "LayoutModel",
          "state": {
            "_view_name": "LayoutView",
            "grid_template_rows": null,
            "right": null,
            "justify_content": null,
            "_view_module": "@jupyter-widgets/base",
            "overflow": null,
            "_model_module_version": "1.2.0",
            "_view_count": null,
            "flex_flow": null,
            "width": null,
            "min_width": null,
            "border": null,
            "align_items": null,
            "bottom": null,
            "_model_module": "@jupyter-widgets/base",
            "top": null,
            "grid_column": null,
            "overflow_y": null,
            "overflow_x": null,
            "grid_auto_flow": null,
            "grid_area": null,
            "grid_template_columns": null,
            "flex": null,
            "_model_name": "LayoutModel",
            "justify_items": null,
            "grid_row": null,
            "max_height": null,
            "align_content": null,
            "visibility": null,
            "align_self": null,
            "height": null,
            "min_height": null,
            "padding": null,
            "grid_auto_rows": null,
            "grid_gap": null,
            "max_width": null,
            "order": null,
            "_view_module_version": "1.2.0",
            "grid_template_areas": null,
            "object_position": null,
            "object_fit": null,
            "grid_auto_columns": null,
            "margin": null,
            "display": null,
            "left": null
          }
        }
      }
    }
  },
  "cells": [
    {
      "cell_type": "markdown",
      "metadata": {
        "id": "NJ8g7RQKRq8Q"
      },
      "source": [
        "# Eluvio Data Science Intern Challenge "
      ],
      "id": "NJ8g7RQKRq8Q"
    },
    {
      "cell_type": "markdown",
      "metadata": {
        "id": "g0o7FIGSR0rj"
      },
      "source": [
        "### Downloading and Importing the main libraries"
      ],
      "id": "g0o7FIGSR0rj"
    },
    {
      "cell_type": "code",
      "metadata": {
        "colab": {
          "base_uri": "https://localhost:8080/"
        },
        "id": "3eMvjEcRWJ6N",
        "outputId": "4b773876-8bf7-4f51-e66d-83a2b40cb215"
      },
      "source": [
        "!git clone https://github.com/bely66/reddit-upvotes"
      ],
      "id": "3eMvjEcRWJ6N",
      "execution_count": 1,
      "outputs": [
        {
          "output_type": "stream",
          "text": [
            "Cloning into 'reddit-upvotes'...\n",
            "remote: Enumerating objects: 41, done.\u001b[K\n",
            "remote: Counting objects: 100% (41/41), done.\u001b[K\n",
            "remote: Compressing objects: 100% (27/27), done.\u001b[K\n",
            "remote: Total 41 (delta 21), reused 31 (delta 13), pack-reused 0\u001b[K\n",
            "Unpacking objects: 100% (41/41), done.\n"
          ],
          "name": "stdout"
        }
      ]
    },
    {
      "cell_type": "code",
      "metadata": {
        "colab": {
          "base_uri": "https://localhost:8080/"
        },
        "id": "YNEFuLz8dst3",
        "outputId": "a6730233-6876-43ba-e1e4-df3954aaf893"
      },
      "source": [
        "cd reddit-upvotes/"
      ],
      "id": "YNEFuLz8dst3",
      "execution_count": 2,
      "outputs": [
        {
          "output_type": "stream",
          "text": [
            "/content/reddit-upvotes\n"
          ],
          "name": "stdout"
        }
      ]
    },
    {
      "cell_type": "code",
      "metadata": {
        "colab": {
          "base_uri": "https://localhost:8080/"
        },
        "id": "tyngZHaUdr8H",
        "outputId": "b74ebb38-c728-40ea-a54d-9bb1b460ad84"
      },
      "source": [
        "!pip install detoxify textstat vaderSentiment"
      ],
      "id": "tyngZHaUdr8H",
      "execution_count": 3,
      "outputs": [
        {
          "output_type": "stream",
          "text": [
            "Collecting detoxify\n",
            "  Downloading https://files.pythonhosted.org/packages/92/22/95a127180a6d58bee296fba1f355ebfc30aaa6000f1c828551a88c52d5c2/detoxify-0.2.2-py3-none-any.whl\n",
            "Collecting textstat\n",
            "\u001b[?25l  Downloading https://files.pythonhosted.org/packages/ca/b1/ab40a00b727a0d209402d1be6aa3f1bc75bd03678b59ace8507b08bf12f5/textstat-0.7.0-py3-none-any.whl (99kB)\n",
            "\u001b[K     |████████████████████████████████| 102kB 9.2MB/s \n",
            "\u001b[?25hCollecting vaderSentiment\n",
            "\u001b[?25l  Downloading https://files.pythonhosted.org/packages/76/fc/310e16254683c1ed35eeb97386986d6c00bc29df17ce280aed64d55537e9/vaderSentiment-3.3.2-py2.py3-none-any.whl (125kB)\n",
            "\u001b[K     |████████████████████████████████| 133kB 26.6MB/s \n",
            "\u001b[?25hRequirement already satisfied: torch>=1.7.0 in /usr/local/lib/python3.7/dist-packages (from detoxify) (1.8.1+cu101)\n",
            "Collecting transformers>=3.2.0\n",
            "\u001b[?25l  Downloading https://files.pythonhosted.org/packages/d8/b2/57495b5309f09fa501866e225c84532d1fd89536ea62406b2181933fb418/transformers-4.5.1-py3-none-any.whl (2.1MB)\n",
            "\u001b[K     |████████████████████████████████| 2.1MB 39.0MB/s \n",
            "\u001b[?25hCollecting sentencepiece>=0.1.94\n",
            "\u001b[?25l  Downloading https://files.pythonhosted.org/packages/f5/99/e0808cb947ba10f575839c43e8fafc9cc44e4a7a2c8f79c60db48220a577/sentencepiece-0.1.95-cp37-cp37m-manylinux2014_x86_64.whl (1.2MB)\n",
            "\u001b[K     |████████████████████████████████| 1.2MB 56.3MB/s \n",
            "\u001b[?25hCollecting pyphen\n",
            "\u001b[?25l  Downloading https://files.pythonhosted.org/packages/7c/5a/5bc036e01389bc6a6667a932bac3e388de6e7fa5777a6ff50e652f60ec79/Pyphen-0.10.0-py3-none-any.whl (1.9MB)\n",
            "\u001b[K     |████████████████████████████████| 1.9MB 56.5MB/s \n",
            "\u001b[?25hRequirement already satisfied: requests in /usr/local/lib/python3.7/dist-packages (from vaderSentiment) (2.23.0)\n",
            "Requirement already satisfied: numpy in /usr/local/lib/python3.7/dist-packages (from torch>=1.7.0->detoxify) (1.19.5)\n",
            "Requirement already satisfied: typing-extensions in /usr/local/lib/python3.7/dist-packages (from torch>=1.7.0->detoxify) (3.7.4.3)\n",
            "Requirement already satisfied: regex!=2019.12.17 in /usr/local/lib/python3.7/dist-packages (from transformers>=3.2.0->detoxify) (2019.12.20)\n",
            "Collecting tokenizers<0.11,>=0.10.1\n",
            "\u001b[?25l  Downloading https://files.pythonhosted.org/packages/ae/04/5b870f26a858552025a62f1649c20d29d2672c02ff3c3fb4c688ca46467a/tokenizers-0.10.2-cp37-cp37m-manylinux2010_x86_64.whl (3.3MB)\n",
            "\u001b[K     |████████████████████████████████| 3.3MB 55.3MB/s \n",
            "\u001b[?25hRequirement already satisfied: filelock in /usr/local/lib/python3.7/dist-packages (from transformers>=3.2.0->detoxify) (3.0.12)\n",
            "Requirement already satisfied: tqdm>=4.27 in /usr/local/lib/python3.7/dist-packages (from transformers>=3.2.0->detoxify) (4.41.1)\n",
            "Requirement already satisfied: packaging in /usr/local/lib/python3.7/dist-packages (from transformers>=3.2.0->detoxify) (20.9)\n",
            "Requirement already satisfied: importlib-metadata; python_version < \"3.8\" in /usr/local/lib/python3.7/dist-packages (from transformers>=3.2.0->detoxify) (3.10.1)\n",
            "Collecting sacremoses\n",
            "\u001b[?25l  Downloading https://files.pythonhosted.org/packages/75/ee/67241dc87f266093c533a2d4d3d69438e57d7a90abb216fa076e7d475d4a/sacremoses-0.0.45-py3-none-any.whl (895kB)\n",
            "\u001b[K     |████████████████████████████████| 901kB 51.8MB/s \n",
            "\u001b[?25hRequirement already satisfied: urllib3!=1.25.0,!=1.25.1,<1.26,>=1.21.1 in /usr/local/lib/python3.7/dist-packages (from requests->vaderSentiment) (1.24.3)\n",
            "Requirement already satisfied: idna<3,>=2.5 in /usr/local/lib/python3.7/dist-packages (from requests->vaderSentiment) (2.10)\n",
            "Requirement already satisfied: chardet<4,>=3.0.2 in /usr/local/lib/python3.7/dist-packages (from requests->vaderSentiment) (3.0.4)\n",
            "Requirement already satisfied: certifi>=2017.4.17 in /usr/local/lib/python3.7/dist-packages (from requests->vaderSentiment) (2020.12.5)\n",
            "Requirement already satisfied: pyparsing>=2.0.2 in /usr/local/lib/python3.7/dist-packages (from packaging->transformers>=3.2.0->detoxify) (2.4.7)\n",
            "Requirement already satisfied: zipp>=0.5 in /usr/local/lib/python3.7/dist-packages (from importlib-metadata; python_version < \"3.8\"->transformers>=3.2.0->detoxify) (3.4.1)\n",
            "Requirement already satisfied: six in /usr/local/lib/python3.7/dist-packages (from sacremoses->transformers>=3.2.0->detoxify) (1.15.0)\n",
            "Requirement already satisfied: click in /usr/local/lib/python3.7/dist-packages (from sacremoses->transformers>=3.2.0->detoxify) (7.1.2)\n",
            "Requirement already satisfied: joblib in /usr/local/lib/python3.7/dist-packages (from sacremoses->transformers>=3.2.0->detoxify) (1.0.1)\n",
            "Installing collected packages: tokenizers, sacremoses, transformers, sentencepiece, detoxify, pyphen, textstat, vaderSentiment\n",
            "Successfully installed detoxify-0.2.2 pyphen-0.10.0 sacremoses-0.0.45 sentencepiece-0.1.95 textstat-0.7.0 tokenizers-0.10.2 transformers-4.5.1 vaderSentiment-3.3.2\n"
          ],
          "name": "stdout"
        }
      ]
    },
    {
      "cell_type": "code",
      "metadata": {
        "colab": {
          "base_uri": "https://localhost:8080/"
        },
        "id": "0gLDm2w6aDgX",
        "outputId": "08e98a9c-cc9f-4cf4-e976-21dd5603e76b"
      },
      "source": [
        "!gdown --id 15X00ZWBjla7qGOIW33j8865QdF89IyAk"
      ],
      "id": "0gLDm2w6aDgX",
      "execution_count": 4,
      "outputs": [
        {
          "output_type": "stream",
          "text": [
            "Downloading...\n",
            "From: https://drive.google.com/uc?id=15X00ZWBjla7qGOIW33j8865QdF89IyAk\n",
            "To: /content/reddit-upvotes/Eluvio_DS_Challenge.csv\n",
            "82.2MB [00:01, 50.8MB/s]\n"
          ],
          "name": "stdout"
        }
      ]
    },
    {
      "cell_type": "code",
      "metadata": {
        "id": "mighty-engineer"
      },
      "source": [
        "import pandas as pd\n",
        "import numpy as np\n",
        "import seaborn as sn\n",
        "import os\n",
        "from sklearn.model_selection import train_test_split\n",
        "from sklearn.neighbors import KNeighborsClassifier\n",
        "from sklearn.ensemble import RandomForestClassifier, AdaBoostClassifier\n",
        "from sklearn.preprocessing import StandardScaler, MinMaxScaler, RobustScaler\n",
        "\n",
        "import matplotlib.pyplot as plt\n",
        "\n",
        "import seaborn as sns\n"
      ],
      "id": "mighty-engineer",
      "execution_count": 5,
      "outputs": []
    },
    {
      "cell_type": "markdown",
      "metadata": {
        "id": "H4M0HGcaSEKK"
      },
      "source": [
        "## Dataset Overview\n",
        "\n"
      ],
      "id": "H4M0HGcaSEKK"
    },
    {
      "cell_type": "code",
      "metadata": {
        "id": "finite-bidder"
      },
      "source": [
        "df = pd.read_csv(\"Eluvio_DS_Challenge.csv\")"
      ],
      "id": "finite-bidder",
      "execution_count": null,
      "outputs": []
    },
    {
      "cell_type": "code",
      "metadata": {
        "colab": {
          "base_uri": "https://localhost:8080/",
          "height": 204
        },
        "id": "cosmetic-forge",
        "outputId": "4a259f2c-5b60-4220-bf4a-a5ddf0d2c254"
      },
      "source": [
        "df.head()"
      ],
      "id": "cosmetic-forge",
      "execution_count": null,
      "outputs": [
        {
          "output_type": "execute_result",
          "data": {
            "text/html": [
              "<div>\n",
              "<style scoped>\n",
              "    .dataframe tbody tr th:only-of-type {\n",
              "        vertical-align: middle;\n",
              "    }\n",
              "\n",
              "    .dataframe tbody tr th {\n",
              "        vertical-align: top;\n",
              "    }\n",
              "\n",
              "    .dataframe thead th {\n",
              "        text-align: right;\n",
              "    }\n",
              "</style>\n",
              "<table border=\"1\" class=\"dataframe\">\n",
              "  <thead>\n",
              "    <tr style=\"text-align: right;\">\n",
              "      <th></th>\n",
              "      <th>time_created</th>\n",
              "      <th>date_created</th>\n",
              "      <th>up_votes</th>\n",
              "      <th>down_votes</th>\n",
              "      <th>title</th>\n",
              "      <th>over_18</th>\n",
              "      <th>author</th>\n",
              "      <th>category</th>\n",
              "    </tr>\n",
              "  </thead>\n",
              "  <tbody>\n",
              "    <tr>\n",
              "      <th>0</th>\n",
              "      <td>1201232046</td>\n",
              "      <td>2008-01-25</td>\n",
              "      <td>3</td>\n",
              "      <td>0</td>\n",
              "      <td>Scores killed in Pakistan clashes</td>\n",
              "      <td>False</td>\n",
              "      <td>polar</td>\n",
              "      <td>worldnews</td>\n",
              "    </tr>\n",
              "    <tr>\n",
              "      <th>1</th>\n",
              "      <td>1201232075</td>\n",
              "      <td>2008-01-25</td>\n",
              "      <td>2</td>\n",
              "      <td>0</td>\n",
              "      <td>Japan resumes refuelling mission</td>\n",
              "      <td>False</td>\n",
              "      <td>polar</td>\n",
              "      <td>worldnews</td>\n",
              "    </tr>\n",
              "    <tr>\n",
              "      <th>2</th>\n",
              "      <td>1201232523</td>\n",
              "      <td>2008-01-25</td>\n",
              "      <td>3</td>\n",
              "      <td>0</td>\n",
              "      <td>US presses Egypt on Gaza border</td>\n",
              "      <td>False</td>\n",
              "      <td>polar</td>\n",
              "      <td>worldnews</td>\n",
              "    </tr>\n",
              "    <tr>\n",
              "      <th>3</th>\n",
              "      <td>1201233290</td>\n",
              "      <td>2008-01-25</td>\n",
              "      <td>1</td>\n",
              "      <td>0</td>\n",
              "      <td>Jump-start economy: Give health care to all</td>\n",
              "      <td>False</td>\n",
              "      <td>fadi420</td>\n",
              "      <td>worldnews</td>\n",
              "    </tr>\n",
              "    <tr>\n",
              "      <th>4</th>\n",
              "      <td>1201274720</td>\n",
              "      <td>2008-01-25</td>\n",
              "      <td>4</td>\n",
              "      <td>0</td>\n",
              "      <td>Council of Europe bashes EU&amp;UN terror blacklist</td>\n",
              "      <td>False</td>\n",
              "      <td>mhermans</td>\n",
              "      <td>worldnews</td>\n",
              "    </tr>\n",
              "  </tbody>\n",
              "</table>\n",
              "</div>"
            ],
            "text/plain": [
              "   time_created date_created  up_votes  ...  over_18    author   category\n",
              "0    1201232046   2008-01-25         3  ...    False     polar  worldnews\n",
              "1    1201232075   2008-01-25         2  ...    False     polar  worldnews\n",
              "2    1201232523   2008-01-25         3  ...    False     polar  worldnews\n",
              "3    1201233290   2008-01-25         1  ...    False   fadi420  worldnews\n",
              "4    1201274720   2008-01-25         4  ...    False  mhermans  worldnews\n",
              "\n",
              "[5 rows x 8 columns]"
            ]
          },
          "metadata": {
            "tags": []
          },
          "execution_count": 5
        }
      ]
    },
    {
      "cell_type": "markdown",
      "metadata": {
        "id": "x9qCytbXSpej"
      },
      "source": [
        "We will print the values count of the author column in the table to see if their's shared authors"
      ],
      "id": "x9qCytbXSpej"
    },
    {
      "cell_type": "code",
      "metadata": {
        "colab": {
          "base_uri": "https://localhost:8080/"
        },
        "id": "positive-powder",
        "outputId": "314dd3e6-dcf4-4e7d-d24d-e6493c7765ee"
      },
      "source": [
        "for column in df.columns:\n",
        "  if column == \"author\":\n",
        "    print(f\"{column} Values:\")\n",
        "    print(df[column].value_counts())"
      ],
      "id": "positive-powder",
      "execution_count": null,
      "outputs": [
        {
          "output_type": "stream",
          "text": [
            "author Values:\n",
            "davidreiss666       8897\n",
            "anutensil           5730\n",
            "DoremusJessup       5037\n",
            "maxwellhill         4023\n",
            "igeldard            4013\n",
            "                    ... \n",
            "Miargus                1\n",
            "Matt3r                 1\n",
            "Jigglypigglypuff       1\n",
            "CallFall               1\n",
            "Wawerf3                1\n",
            "Name: author, Length: 85838, dtype: int64\n"
          ],
          "name": "stdout"
        }
      ]
    },
    {
      "cell_type": "markdown",
      "metadata": {
        "id": "vHYdKQHnS9OL"
      },
      "source": [
        "As we can see there's some authors who have more than 8k records <br>\n",
        "After that we can check the statistics of our dataset."
      ],
      "id": "vHYdKQHnS9OL"
    },
    {
      "cell_type": "code",
      "metadata": {
        "colab": {
          "base_uri": "https://localhost:8080/",
          "height": 297
        },
        "id": "_uNf5Jw3SUz-",
        "outputId": "2a5ab7bc-a8c7-4238-b07e-4ede3f2568d8"
      },
      "source": [
        "df.describe()"
      ],
      "id": "_uNf5Jw3SUz-",
      "execution_count": null,
      "outputs": [
        {
          "output_type": "execute_result",
          "data": {
            "text/html": [
              "<div>\n",
              "<style scoped>\n",
              "    .dataframe tbody tr th:only-of-type {\n",
              "        vertical-align: middle;\n",
              "    }\n",
              "\n",
              "    .dataframe tbody tr th {\n",
              "        vertical-align: top;\n",
              "    }\n",
              "\n",
              "    .dataframe thead th {\n",
              "        text-align: right;\n",
              "    }\n",
              "</style>\n",
              "<table border=\"1\" class=\"dataframe\">\n",
              "  <thead>\n",
              "    <tr style=\"text-align: right;\">\n",
              "      <th></th>\n",
              "      <th>time_created</th>\n",
              "      <th>up_votes</th>\n",
              "      <th>down_votes</th>\n",
              "    </tr>\n",
              "  </thead>\n",
              "  <tbody>\n",
              "    <tr>\n",
              "      <th>count</th>\n",
              "      <td>5.092360e+05</td>\n",
              "      <td>509236.000000</td>\n",
              "      <td>509236.0</td>\n",
              "    </tr>\n",
              "    <tr>\n",
              "      <th>mean</th>\n",
              "      <td>1.380240e+09</td>\n",
              "      <td>112.236283</td>\n",
              "      <td>0.0</td>\n",
              "    </tr>\n",
              "    <tr>\n",
              "      <th>std</th>\n",
              "      <td>7.090436e+07</td>\n",
              "      <td>541.694675</td>\n",
              "      <td>0.0</td>\n",
              "    </tr>\n",
              "    <tr>\n",
              "      <th>min</th>\n",
              "      <td>1.201232e+09</td>\n",
              "      <td>0.000000</td>\n",
              "      <td>0.0</td>\n",
              "    </tr>\n",
              "    <tr>\n",
              "      <th>25%</th>\n",
              "      <td>1.341585e+09</td>\n",
              "      <td>1.000000</td>\n",
              "      <td>0.0</td>\n",
              "    </tr>\n",
              "    <tr>\n",
              "      <th>50%</th>\n",
              "      <td>1.392909e+09</td>\n",
              "      <td>5.000000</td>\n",
              "      <td>0.0</td>\n",
              "    </tr>\n",
              "    <tr>\n",
              "      <th>75%</th>\n",
              "      <td>1.436527e+09</td>\n",
              "      <td>16.000000</td>\n",
              "      <td>0.0</td>\n",
              "    </tr>\n",
              "    <tr>\n",
              "      <th>max</th>\n",
              "      <td>1.479817e+09</td>\n",
              "      <td>21253.000000</td>\n",
              "      <td>0.0</td>\n",
              "    </tr>\n",
              "  </tbody>\n",
              "</table>\n",
              "</div>"
            ],
            "text/plain": [
              "       time_created       up_votes  down_votes\n",
              "count  5.092360e+05  509236.000000    509236.0\n",
              "mean   1.380240e+09     112.236283         0.0\n",
              "std    7.090436e+07     541.694675         0.0\n",
              "min    1.201232e+09       0.000000         0.0\n",
              "25%    1.341585e+09       1.000000         0.0\n",
              "50%    1.392909e+09       5.000000         0.0\n",
              "75%    1.436527e+09      16.000000         0.0\n",
              "max    1.479817e+09   21253.000000         0.0"
            ]
          },
          "metadata": {
            "tags": []
          },
          "execution_count": 6
        }
      ]
    },
    {
      "cell_type": "markdown",
      "metadata": {
        "id": "70H20fi2TUQL"
      },
      "source": [
        "\n",
        "As we can see there's no downvotes in the dataset so this columns is redundant, And 75% of the upvotes are below 16 the data is highly skewed to the right.\n",
        "It would be beneficial if we used IQR scaler to remove these outliers.\n",
        "\n",
        "---\n",
        "Now let's look at an overview of our dataset like the datatypes of our columns and the memory taken by the dataset.\n",
        "\n",
        "\n",
        "\n",
        "\n"
      ],
      "id": "70H20fi2TUQL"
    },
    {
      "cell_type": "code",
      "metadata": {
        "colab": {
          "base_uri": "https://localhost:8080/"
        },
        "id": "eight-spelling",
        "outputId": "27e3e343-bd50-4013-ec8c-4f56c1535cc0"
      },
      "source": [
        "df.info(memory_usage=\"deep\")"
      ],
      "id": "eight-spelling",
      "execution_count": null,
      "outputs": [
        {
          "output_type": "stream",
          "text": [
            "<class 'pandas.core.frame.DataFrame'>\n",
            "RangeIndex: 509236 entries, 0 to 509235\n",
            "Data columns (total 8 columns):\n",
            " #   Column        Non-Null Count   Dtype \n",
            "---  ------        --------------   ----- \n",
            " 0   time_created  509236 non-null  int64 \n",
            " 1   date_created  509236 non-null  object\n",
            " 2   up_votes      509236 non-null  int64 \n",
            " 3   down_votes    509236 non-null  int64 \n",
            " 4   title         509236 non-null  object\n",
            " 5   over_18       509236 non-null  bool  \n",
            " 6   author        509236 non-null  object\n",
            " 7   category      509236 non-null  object\n",
            "dtypes: bool(1), int64(3), object(4)\n",
            "memory usage: 186.8 MB\n"
          ],
          "name": "stdout"
        }
      ]
    },
    {
      "cell_type": "markdown",
      "metadata": {
        "id": "4CpzIF6EUXAt"
      },
      "source": [
        "As we can see the data is taking up almost 200mb of memory which is a lot, We need to overcome this but first let's set a goal for our notebook."
      ],
      "id": "4CpzIF6EUXAt"
    },
    {
      "cell_type": "markdown",
      "metadata": {
        "id": "european-pressure"
      },
      "source": [
        "## How can we use this data? \n",
        "\n",
        "After reading and searching a bit the data we have has titles of subreddits.\n",
        "Knowing that we can use our information about subreddits to estimate our upvotes.\n",
        "\n",
        "\n",
        "### Feature Engineering \n",
        "By adding more features from our knowledge of the dataset:\n",
        "\n",
        "1. Readability using textstat library\n",
        "2. Sentiment using NLTK Vader\n",
        "3. the day of week comment was posted\n",
        "4. subjectivity\n",
        "5. word_count\n",
        "6. char count\n",
        "7. Toxicity score using detoxify library\n",
        "\n",
        "### Supervised Learning problem\n",
        "\n",
        "Estimating the number of up votes based on the title and/or the author name.\n",
        "\n",
        "### Insights \n",
        "We can ask multiple questions: <br>\n",
        "1- What's the relation between the authors and upvotes?<br>\n",
        "2- What's the most controversial topics world wide?<br>\n",
        "\n",
        "\n"
      ],
      "id": "european-pressure"
    },
    {
      "cell_type": "markdown",
      "metadata": {
        "id": "soviet-attendance"
      },
      "source": [
        "\n",
        "## Big Data Loading Methods\n",
        "## 1. Compression \n",
        "Our data is taking up almost 200mb of our memory.\n",
        "We can do the following:\n",
        "1.   Remove un-necessary columns\n",
        "2.   Convert float types into int\n",
        "3.   Sample random samples from the data (Let's go with 4000)\n",
        "\n"
      ],
      "id": "soviet-attendance"
    },
    {
      "cell_type": "code",
      "metadata": {
        "id": "pleased-corruption"
      },
      "source": [
        "df = pd.read_csv(\"Eluvio_DS_Challenge.csv\", usecols=[\"up_votes\", \"title\", \"author\", \"date_created\",\"over_18\"], dtype={\"up_votes\":\"int16\"}).sample(4000)"
      ],
      "id": "pleased-corruption",
      "execution_count": 184,
      "outputs": []
    },
    {
      "cell_type": "code",
      "metadata": {
        "colab": {
          "base_uri": "https://localhost:8080/"
        },
        "id": "confident-arkansas",
        "outputId": "cce6f6f7-e76c-45b4-99d6-d0270a589f47"
      },
      "source": [
        "df.info(verbose=False, memory_usage=\"deep\")"
      ],
      "id": "confident-arkansas",
      "execution_count": 8,
      "outputs": [
        {
          "output_type": "stream",
          "text": [
            "<class 'pandas.core.frame.DataFrame'>\n",
            "Int64Index: 4000 entries, 391546 to 440113\n",
            "Columns: 5 entries, date_created to author\n",
            "dtypes: bool(1), int16(1), object(3)\n",
            "memory usage: 1.2 MB\n"
          ],
          "name": "stdout"
        }
      ]
    },
    {
      "cell_type": "markdown",
      "metadata": {
        "id": "hJMjVCromL4W"
      },
      "source": [
        "## Batching \n",
        "We can get the data in batches and draw statistics and train on it.\n",
        "Using chunk_size argument in Pandas read_csv function."
      ],
      "id": "hJMjVCromL4W"
    },
    {
      "cell_type": "markdown",
      "metadata": {
        "id": "hfxsAHr9n_hp"
      },
      "source": [
        "### What's the relation between the authors and upvotes?\n"
      ],
      "id": "hfxsAHr9n_hp"
    },
    {
      "cell_type": "code",
      "metadata": {
        "id": "CHCLAacbjirG"
      },
      "source": [
        "datafile = \"Eluvio_DS_Challenge.csv\"\n",
        "chunksize = 2000\n",
        "authors = {}\n",
        "for i, df in enumerate(pd.read_csv(datafile, chunksize=chunksize, usecols=[\"up_votes\", \"author\"])):\n",
        "  df_by_author = df.groupby('author', as_index=False).sum().sort_values('up_votes', ascending=False)\n",
        "  a = list(df['author'].value_counts().keys())\n",
        "  c = list(df['author'].value_counts())\n",
        "  c_ = []\n",
        "  for a_ in df_by_author['author'] : \n",
        "      c_.append(c[a.index(a_)])\n",
        "\n",
        "  df_by_author['total_posts'] = c_\n",
        "  \n",
        "  for j in range(len(df_by_author)):\n",
        "    author = df_by_author.loc[j][\"author\"]\n",
        "    up_votes = df_by_author.loc[j][\"up_votes\"]\n",
        "    total_posts = df_by_author.loc[j][\"total_posts\"]\n",
        "    if author in authors:\n",
        "      authors[author][\"up_votes\"] +=  up_votes\n",
        "      authors[author][\"total_posts\"] +=  total_posts\n",
        "    \n",
        "    else:\n",
        "      authors[author] = {\"up_votes\":up_votes, \"total_posts\":total_posts}\n",
        "\n"
      ],
      "id": "CHCLAacbjirG",
      "execution_count": 73,
      "outputs": []
    },
    {
      "cell_type": "code",
      "metadata": {
        "colab": {
          "base_uri": "https://localhost:8080/",
          "height": 111
        },
        "id": "6MkXxtf_nVoa",
        "outputId": "60d5ccfd-0fee-49b9-fe8b-16f67daa9c9a"
      },
      "source": [
        "df_author = pd.DataFrame(data=authors).T\n",
        "df_author = df_author.sort_values(by=\"total_posts\", ascending=False)\n",
        "df_author.corr()"
      ],
      "id": "6MkXxtf_nVoa",
      "execution_count": 95,
      "outputs": [
        {
          "output_type": "execute_result",
          "data": {
            "text/html": [
              "<div>\n",
              "<style scoped>\n",
              "    .dataframe tbody tr th:only-of-type {\n",
              "        vertical-align: middle;\n",
              "    }\n",
              "\n",
              "    .dataframe tbody tr th {\n",
              "        vertical-align: top;\n",
              "    }\n",
              "\n",
              "    .dataframe thead th {\n",
              "        text-align: right;\n",
              "    }\n",
              "</style>\n",
              "<table border=\"1\" class=\"dataframe\">\n",
              "  <thead>\n",
              "    <tr style=\"text-align: right;\">\n",
              "      <th></th>\n",
              "      <th>up_votes</th>\n",
              "      <th>total_posts</th>\n",
              "    </tr>\n",
              "  </thead>\n",
              "  <tbody>\n",
              "    <tr>\n",
              "      <th>up_votes</th>\n",
              "      <td>1.000000</td>\n",
              "      <td>0.699749</td>\n",
              "    </tr>\n",
              "    <tr>\n",
              "      <th>total_posts</th>\n",
              "      <td>0.699749</td>\n",
              "      <td>1.000000</td>\n",
              "    </tr>\n",
              "  </tbody>\n",
              "</table>\n",
              "</div>"
            ],
            "text/plain": [
              "             up_votes  total_posts\n",
              "up_votes     1.000000     0.699749\n",
              "total_posts  0.699749     1.000000"
            ]
          },
          "metadata": {
            "tags": []
          },
          "execution_count": 95
        }
      ]
    },
    {
      "cell_type": "code",
      "metadata": {
        "colab": {
          "base_uri": "https://localhost:8080/",
          "height": 142
        },
        "id": "IfGjsKLfuSBj",
        "outputId": "b35c3852-29d5-4258-94ef-f47deb8f534f"
      },
      "source": [
        "df_author['avg_vote_per_post'] = df_author['up_votes']/df_author['total_posts']\n",
        "df_author.corr()"
      ],
      "id": "IfGjsKLfuSBj",
      "execution_count": 96,
      "outputs": [
        {
          "output_type": "execute_result",
          "data": {
            "text/html": [
              "<div>\n",
              "<style scoped>\n",
              "    .dataframe tbody tr th:only-of-type {\n",
              "        vertical-align: middle;\n",
              "    }\n",
              "\n",
              "    .dataframe tbody tr th {\n",
              "        vertical-align: top;\n",
              "    }\n",
              "\n",
              "    .dataframe thead th {\n",
              "        text-align: right;\n",
              "    }\n",
              "</style>\n",
              "<table border=\"1\" class=\"dataframe\">\n",
              "  <thead>\n",
              "    <tr style=\"text-align: right;\">\n",
              "      <th></th>\n",
              "      <th>up_votes</th>\n",
              "      <th>total_posts</th>\n",
              "      <th>avg_vote_per_post</th>\n",
              "    </tr>\n",
              "  </thead>\n",
              "  <tbody>\n",
              "    <tr>\n",
              "      <th>up_votes</th>\n",
              "      <td>1.000000</td>\n",
              "      <td>0.699749</td>\n",
              "      <td>0.074146</td>\n",
              "    </tr>\n",
              "    <tr>\n",
              "      <th>total_posts</th>\n",
              "      <td>0.699749</td>\n",
              "      <td>1.000000</td>\n",
              "      <td>-0.002423</td>\n",
              "    </tr>\n",
              "    <tr>\n",
              "      <th>avg_vote_per_post</th>\n",
              "      <td>0.074146</td>\n",
              "      <td>-0.002423</td>\n",
              "      <td>1.000000</td>\n",
              "    </tr>\n",
              "  </tbody>\n",
              "</table>\n",
              "</div>"
            ],
            "text/plain": [
              "                   up_votes  total_posts  avg_vote_per_post\n",
              "up_votes           1.000000     0.699749           0.074146\n",
              "total_posts        0.699749     1.000000          -0.002423\n",
              "avg_vote_per_post  0.074146    -0.002423           1.000000"
            ]
          },
          "metadata": {
            "tags": []
          },
          "execution_count": 96
        }
      ]
    },
    {
      "cell_type": "markdown",
      "metadata": {
        "id": "1jPju_hSvjbi"
      },
      "source": [
        "As we can see there's a very small correlation between avg_number of posts of an author and the score who gets."
      ],
      "id": "1jPju_hSvjbi"
    },
    {
      "cell_type": "markdown",
      "metadata": {
        "id": "xAHW8YYUwjTZ"
      },
      "source": [
        "It can be very tricky to find a correlation between the high number of posts and the high upvotes because they compound."
      ],
      "id": "xAHW8YYUwjTZ"
    },
    {
      "cell_type": "code",
      "metadata": {
        "id": "LKIrklVrvArm"
      },
      "source": [
        "number_of_h_p_h_v = len(df_author[(df_author[\"avg_vote_per_post\"]>100) & (df_author[\"total_posts\"]>200) ])\n",
        "number_of_l_p_h_v = len(df_author[(df_author[\"avg_vote_per_post\"]>100) & (df_author[\"total_posts\"]<200) ])"
      ],
      "id": "LKIrklVrvArm",
      "execution_count": 160,
      "outputs": []
    },
    {
      "cell_type": "code",
      "metadata": {
        "colab": {
          "base_uri": "https://localhost:8080/"
        },
        "id": "SB_kTcoExrLF",
        "outputId": "1b47aaf2-8150-4b82-a1a4-1825a9496d98"
      },
      "source": [
        "number_of_h_p_h_v"
      ],
      "id": "SB_kTcoExrLF",
      "execution_count": 161,
      "outputs": [
        {
          "output_type": "execute_result",
          "data": {
            "text/plain": [
              "97"
            ]
          },
          "metadata": {
            "tags": []
          },
          "execution_count": 161
        }
      ]
    },
    {
      "cell_type": "code",
      "metadata": {
        "colab": {
          "base_uri": "https://localhost:8080/"
        },
        "id": "PJXMGkWRxtDC",
        "outputId": "305808e5-86c3-4e4a-bdf9-4886ba5eea49"
      },
      "source": [
        "number_of_l_p_h_v"
      ],
      "id": "PJXMGkWRxtDC",
      "execution_count": 162,
      "outputs": [
        {
          "output_type": "execute_result",
          "data": {
            "text/plain": [
              "11719"
            ]
          },
          "metadata": {
            "tags": []
          },
          "execution_count": 162
        }
      ]
    },
    {
      "cell_type": "code",
      "metadata": {
        "colab": {
          "base_uri": "https://localhost:8080/",
          "height": 142
        },
        "id": "ig9l4SxCvSSB",
        "outputId": "e03938f8-11e9-4083-f08b-a8365f6d1275"
      },
      "source": [
        "df_high_author.corr()"
      ],
      "id": "ig9l4SxCvSSB",
      "execution_count": 148,
      "outputs": [
        {
          "output_type": "execute_result",
          "data": {
            "text/html": [
              "<div>\n",
              "<style scoped>\n",
              "    .dataframe tbody tr th:only-of-type {\n",
              "        vertical-align: middle;\n",
              "    }\n",
              "\n",
              "    .dataframe tbody tr th {\n",
              "        vertical-align: top;\n",
              "    }\n",
              "\n",
              "    .dataframe thead th {\n",
              "        text-align: right;\n",
              "    }\n",
              "</style>\n",
              "<table border=\"1\" class=\"dataframe\">\n",
              "  <thead>\n",
              "    <tr style=\"text-align: right;\">\n",
              "      <th></th>\n",
              "      <th>up_votes</th>\n",
              "      <th>total_posts</th>\n",
              "      <th>avg_vote_per_post</th>\n",
              "    </tr>\n",
              "  </thead>\n",
              "  <tbody>\n",
              "    <tr>\n",
              "      <th>up_votes</th>\n",
              "      <td>1.000000</td>\n",
              "      <td>0.948155</td>\n",
              "      <td>0.00671</td>\n",
              "    </tr>\n",
              "    <tr>\n",
              "      <th>total_posts</th>\n",
              "      <td>0.948155</td>\n",
              "      <td>1.000000</td>\n",
              "      <td>-0.04503</td>\n",
              "    </tr>\n",
              "    <tr>\n",
              "      <th>avg_vote_per_post</th>\n",
              "      <td>0.006710</td>\n",
              "      <td>-0.045030</td>\n",
              "      <td>1.00000</td>\n",
              "    </tr>\n",
              "  </tbody>\n",
              "</table>\n",
              "</div>"
            ],
            "text/plain": [
              "                   up_votes  total_posts  avg_vote_per_post\n",
              "up_votes           1.000000     0.948155            0.00671\n",
              "total_posts        0.948155     1.000000           -0.04503\n",
              "avg_vote_per_post  0.006710    -0.045030            1.00000"
            ]
          },
          "metadata": {
            "tags": []
          },
          "execution_count": 148
        }
      ]
    },
    {
      "cell_type": "code",
      "metadata": {
        "colab": {
          "base_uri": "https://localhost:8080/",
          "height": 419
        },
        "id": "qxXIXxiBw6Q4",
        "outputId": "e64b54ca-1cd3-472b-ce4c-cb5bcb631029"
      },
      "source": [
        "avg_vote = df_author.sort_values(by=\"avg_vote_per_post\", ascending=False)\n",
        "avg_vote"
      ],
      "id": "qxXIXxiBw6Q4",
      "execution_count": 164,
      "outputs": [
        {
          "output_type": "execute_result",
          "data": {
            "text/html": [
              "<div>\n",
              "<style scoped>\n",
              "    .dataframe tbody tr th:only-of-type {\n",
              "        vertical-align: middle;\n",
              "    }\n",
              "\n",
              "    .dataframe tbody tr th {\n",
              "        vertical-align: top;\n",
              "    }\n",
              "\n",
              "    .dataframe thead th {\n",
              "        text-align: right;\n",
              "    }\n",
              "</style>\n",
              "<table border=\"1\" class=\"dataframe\">\n",
              "  <thead>\n",
              "    <tr style=\"text-align: right;\">\n",
              "      <th></th>\n",
              "      <th>up_votes</th>\n",
              "      <th>total_posts</th>\n",
              "      <th>avg_vote_per_post</th>\n",
              "    </tr>\n",
              "  </thead>\n",
              "  <tbody>\n",
              "    <tr>\n",
              "      <th>navysealassulter</th>\n",
              "      <td>12333</td>\n",
              "      <td>1</td>\n",
              "      <td>12333.0</td>\n",
              "    </tr>\n",
              "    <tr>\n",
              "      <th>seapiglet</th>\n",
              "      <td>11288</td>\n",
              "      <td>1</td>\n",
              "      <td>11288.0</td>\n",
              "    </tr>\n",
              "    <tr>\n",
              "      <th>DawgsOnTopUGA</th>\n",
              "      <td>10515</td>\n",
              "      <td>1</td>\n",
              "      <td>10515.0</td>\n",
              "    </tr>\n",
              "    <tr>\n",
              "      <th>Flamo_the_Idiot_Boy</th>\n",
              "      <td>10289</td>\n",
              "      <td>1</td>\n",
              "      <td>10289.0</td>\n",
              "    </tr>\n",
              "    <tr>\n",
              "      <th>haunted_cheesecake</th>\n",
              "      <td>9408</td>\n",
              "      <td>1</td>\n",
              "      <td>9408.0</td>\n",
              "    </tr>\n",
              "    <tr>\n",
              "      <th>...</th>\n",
              "      <td>...</td>\n",
              "      <td>...</td>\n",
              "      <td>...</td>\n",
              "    </tr>\n",
              "    <tr>\n",
              "      <th>soysauce44</th>\n",
              "      <td>0</td>\n",
              "      <td>1</td>\n",
              "      <td>0.0</td>\n",
              "    </tr>\n",
              "    <tr>\n",
              "      <th>yesitisthathard</th>\n",
              "      <td>0</td>\n",
              "      <td>1</td>\n",
              "      <td>0.0</td>\n",
              "    </tr>\n",
              "    <tr>\n",
              "      <th>rbcrusaders</th>\n",
              "      <td>0</td>\n",
              "      <td>1</td>\n",
              "      <td>0.0</td>\n",
              "    </tr>\n",
              "    <tr>\n",
              "      <th>redsox6</th>\n",
              "      <td>0</td>\n",
              "      <td>1</td>\n",
              "      <td>0.0</td>\n",
              "    </tr>\n",
              "    <tr>\n",
              "      <th>pmh160</th>\n",
              "      <td>0</td>\n",
              "      <td>1</td>\n",
              "      <td>0.0</td>\n",
              "    </tr>\n",
              "  </tbody>\n",
              "</table>\n",
              "<p>85838 rows × 3 columns</p>\n",
              "</div>"
            ],
            "text/plain": [
              "                     up_votes  total_posts  avg_vote_per_post\n",
              "navysealassulter        12333            1            12333.0\n",
              "seapiglet               11288            1            11288.0\n",
              "DawgsOnTopUGA           10515            1            10515.0\n",
              "Flamo_the_Idiot_Boy     10289            1            10289.0\n",
              "haunted_cheesecake       9408            1             9408.0\n",
              "...                       ...          ...                ...\n",
              "soysauce44                  0            1                0.0\n",
              "yesitisthathard             0            1                0.0\n",
              "rbcrusaders                 0            1                0.0\n",
              "redsox6                     0            1                0.0\n",
              "pmh160                      0            1                0.0\n",
              "\n",
              "[85838 rows x 3 columns]"
            ]
          },
          "metadata": {
            "tags": []
          },
          "execution_count": 164
        }
      ]
    },
    {
      "cell_type": "markdown",
      "metadata": {
        "id": "B4IGKfl_oxJO"
      },
      "source": [
        "### What's the most controversial topics worldwide?"
      ],
      "id": "B4IGKfl_oxJO"
    },
    {
      "cell_type": "code",
      "metadata": {
        "colab": {
          "base_uri": "https://localhost:8080/"
        },
        "id": "p06ZhYruokqs",
        "outputId": "aaf74ca2-d92c-4a18-90e7-c43a4f6de066"
      },
      "source": [
        "from tqdm import tqdm\n",
        "low_votes_tri_grams = {}\n",
        "high_votes_tri_grams = {}\n",
        "\n",
        "words = 3\n",
        "datafile = \"Eluvio_DS_Challenge.csv\"\n",
        "chunksize = 2000\n",
        "authors = {}\n",
        "for i, df in tqdm(enumerate(pd.read_csv(datafile, chunksize=chunksize, usecols=[\"title\", \"up_votes\"]))):\n",
        "  df_high = df[df[\"up_votes\"]>100]\n",
        "  df_low = df[df[\"up_votes\"]<100]\n",
        "  for title in df_low.title.values:\n",
        "    words_tokens = nltk.word_tokenize(title)\n",
        "    for i in range(len(words_tokens)-words):\n",
        "        seq = ' '.join(words_tokens[i:i+words])\n",
        "        if  seq not in low_votes_tri_grams.keys():\n",
        "            low_votes_tri_grams[seq] = 1\n",
        "        low_votes_tri_grams[seq] += 1\n",
        "\n",
        "  for title in df_high.title.values:\n",
        "    words_tokens = nltk.word_tokenize(title)\n",
        "    for i in range(len(words_tokens)-words):\n",
        "        seq = ' '.join(words_tokens[i:i+words])\n",
        "        if  seq not in high_votes_tri_grams.keys():\n",
        "            high_votes_tri_grams[seq] = 1\n",
        "        high_votes_tri_grams[seq] += 1"
      ],
      "id": "p06ZhYruokqs",
      "execution_count": 166,
      "outputs": [
        {
          "output_type": "stream",
          "text": [
            "\n",
            "0it [00:00, ?it/s]\u001b[A\n",
            "1it [00:00,  4.37it/s]\u001b[A\n",
            "2it [00:00,  4.31it/s]\u001b[A\n",
            "3it [00:00,  4.18it/s]\u001b[A\n",
            "4it [00:00,  4.08it/s]\u001b[A\n",
            "5it [00:01,  3.99it/s]\u001b[A\n",
            "6it [00:01,  4.00it/s]\u001b[A\n",
            "7it [00:01,  3.98it/s]\u001b[A\n",
            "8it [00:01,  4.00it/s]\u001b[A\n",
            "9it [00:02,  3.92it/s]\u001b[A\n",
            "10it [00:02,  3.90it/s]\u001b[A\n",
            "11it [00:02,  3.84it/s]\u001b[A\n",
            "12it [00:03,  3.78it/s]\u001b[A\n",
            "13it [00:03,  3.76it/s]\u001b[A\n",
            "14it [00:03,  3.81it/s]\u001b[A\n",
            "15it [00:03,  3.76it/s]\u001b[A\n",
            "16it [00:04,  3.75it/s]\u001b[A\n",
            "17it [00:04,  3.72it/s]\u001b[A\n",
            "18it [00:04,  3.67it/s]\u001b[A\n",
            "19it [00:04,  3.60it/s]\u001b[A\n",
            "20it [00:05,  3.58it/s]\u001b[A\n",
            "21it [00:05,  3.41it/s]\u001b[A\n",
            "22it [00:05,  3.30it/s]\u001b[A\n",
            "23it [00:06,  3.24it/s]\u001b[A\n",
            "24it [00:06,  3.19it/s]\u001b[A\n",
            "25it [00:06,  3.15it/s]\u001b[A\n",
            "26it [00:07,  3.16it/s]\u001b[A\n",
            "27it [00:07,  3.13it/s]\u001b[A\n",
            "28it [00:07,  3.14it/s]\u001b[A\n",
            "29it [00:08,  3.14it/s]\u001b[A\n",
            "30it [00:08,  3.12it/s]\u001b[A\n",
            "31it [00:08,  3.11it/s]\u001b[A\n",
            "32it [00:09,  3.16it/s]\u001b[A\n",
            "33it [00:09,  3.06it/s]\u001b[A\n",
            "34it [00:09,  3.03it/s]\u001b[A\n",
            "35it [00:10,  3.04it/s]\u001b[A\n",
            "36it [00:10,  3.04it/s]\u001b[A\n",
            "37it [00:10,  3.03it/s]\u001b[A\n",
            "38it [00:11,  3.11it/s]\u001b[A\n",
            "39it [00:11,  3.16it/s]\u001b[A\n",
            "40it [00:11,  3.25it/s]\u001b[A\n",
            "41it [00:11,  3.29it/s]\u001b[A\n",
            "42it [00:12,  3.35it/s]\u001b[A\n",
            "43it [00:12,  3.30it/s]\u001b[A\n",
            "44it [00:12,  3.32it/s]\u001b[A\n",
            "45it [00:13,  3.37it/s]\u001b[A\n",
            "46it [00:13,  3.32it/s]\u001b[A\n",
            "47it [00:13,  3.27it/s]\u001b[A\n",
            "48it [00:14,  3.29it/s]\u001b[A\n",
            "49it [00:14,  3.26it/s]\u001b[A\n",
            "50it [00:14,  3.27it/s]\u001b[A\n",
            "51it [00:15,  3.28it/s]\u001b[A\n",
            "52it [00:15,  3.32it/s]\u001b[A\n",
            "53it [00:15,  3.25it/s]\u001b[A\n",
            "54it [00:15,  3.26it/s]\u001b[A\n",
            "55it [00:16,  3.30it/s]\u001b[A\n",
            "56it [00:16,  3.29it/s]\u001b[A\n",
            "57it [00:16,  3.33it/s]\u001b[A\n",
            "58it [00:17,  3.36it/s]\u001b[A\n",
            "59it [00:17,  3.31it/s]\u001b[A\n",
            "60it [00:17,  3.29it/s]\u001b[A\n",
            "61it [00:18,  3.29it/s]\u001b[A\n",
            "62it [00:18,  3.28it/s]\u001b[A\n",
            "63it [00:18,  3.22it/s]\u001b[A\n",
            "64it [00:19,  3.14it/s]\u001b[A\n",
            "65it [00:19,  3.18it/s]\u001b[A\n",
            "66it [00:19,  3.21it/s]\u001b[A\n",
            "67it [00:19,  3.21it/s]\u001b[A\n",
            "68it [00:20,  3.21it/s]\u001b[A\n",
            "69it [00:20,  3.25it/s]\u001b[A\n",
            "70it [00:20,  3.30it/s]\u001b[A\n",
            "71it [00:21,  3.31it/s]\u001b[A\n",
            "72it [00:21,  3.30it/s]\u001b[A\n",
            "73it [00:21,  3.24it/s]\u001b[A\n",
            "74it [00:22,  3.22it/s]\u001b[A\n",
            "75it [00:22,  3.08it/s]\u001b[A\n",
            "76it [00:22,  3.14it/s]\u001b[A\n",
            "77it [00:23,  3.21it/s]\u001b[A\n",
            "78it [00:23,  3.28it/s]\u001b[A\n",
            "79it [00:23,  3.32it/s]\u001b[A\n",
            "80it [00:23,  3.40it/s]\u001b[A\n",
            "81it [00:24,  3.46it/s]\u001b[A\n",
            "82it [00:24,  3.41it/s]\u001b[A\n",
            "83it [00:24,  3.40it/s]\u001b[A\n",
            "84it [00:25,  3.42it/s]\u001b[A\n",
            "85it [00:25,  3.34it/s]\u001b[A\n",
            "86it [00:25,  3.32it/s]\u001b[A\n",
            "87it [00:25,  3.35it/s]\u001b[A\n",
            "88it [00:26,  3.41it/s]\u001b[A\n",
            "89it [00:26,  3.36it/s]\u001b[A\n",
            "90it [00:26,  3.41it/s]\u001b[A\n",
            "91it [00:27,  3.46it/s]\u001b[A\n",
            "92it [00:27,  3.42it/s]\u001b[A\n",
            "93it [00:27,  3.37it/s]\u001b[A\n",
            "94it [00:28,  3.40it/s]\u001b[A\n",
            "95it [00:28,  3.35it/s]\u001b[A\n",
            "96it [00:28,  3.30it/s]\u001b[A\n",
            "97it [00:28,  3.32it/s]\u001b[A\n",
            "98it [00:29,  3.36it/s]\u001b[A\n",
            "99it [00:29,  3.31it/s]\u001b[A\n",
            "100it [00:29,  3.33it/s]\u001b[A\n",
            "101it [00:30,  3.38it/s]\u001b[A\n",
            "102it [00:30,  3.34it/s]\u001b[A\n",
            "103it [00:30,  3.32it/s]\u001b[A\n",
            "104it [00:31,  3.32it/s]\u001b[A\n",
            "105it [00:31,  3.38it/s]\u001b[A\n",
            "106it [00:31,  3.35it/s]\u001b[A\n",
            "107it [00:31,  3.36it/s]\u001b[A\n",
            "108it [00:32,  3.32it/s]\u001b[A\n",
            "109it [00:32,  3.32it/s]\u001b[A\n",
            "110it [00:32,  3.27it/s]\u001b[A\n",
            "111it [00:33,  3.30it/s]\u001b[A\n",
            "112it [00:33,  3.34it/s]\u001b[A\n",
            "113it [00:33,  3.32it/s]\u001b[A\n",
            "114it [00:34,  3.39it/s]\u001b[A\n",
            "115it [00:34,  3.41it/s]\u001b[A\n",
            "116it [00:34,  3.42it/s]\u001b[A\n",
            "117it [00:34,  3.42it/s]\u001b[A\n",
            "118it [00:35,  3.44it/s]\u001b[A\n",
            "119it [00:35,  3.46it/s]\u001b[A\n",
            "120it [00:35,  3.45it/s]\u001b[A\n",
            "121it [00:36,  3.47it/s]\u001b[A\n",
            "122it [00:36,  3.50it/s]\u001b[A\n",
            "123it [00:36,  3.45it/s]\u001b[A\n",
            "124it [00:36,  3.45it/s]\u001b[A\n",
            "125it [00:37,  3.39it/s]\u001b[A\n",
            "126it [00:37,  3.35it/s]\u001b[A\n",
            "127it [00:37,  3.34it/s]\u001b[A\n",
            "128it [00:38,  3.41it/s]\u001b[A\n",
            "129it [00:38,  3.41it/s]\u001b[A\n",
            "130it [00:38,  3.41it/s]\u001b[A\n",
            "131it [00:38,  3.43it/s]\u001b[A\n",
            "132it [00:39,  3.33it/s]\u001b[A\n",
            "133it [00:39,  3.32it/s]\u001b[A\n",
            "134it [00:39,  3.33it/s]\u001b[A\n",
            "135it [00:40,  3.36it/s]\u001b[A\n",
            "136it [00:40,  3.43it/s]\u001b[A\n",
            "137it [00:40,  3.48it/s]\u001b[A\n",
            "138it [00:41,  3.51it/s]\u001b[A\n",
            "139it [00:41,  3.54it/s]\u001b[A\n",
            "140it [00:41,  3.53it/s]\u001b[A\n",
            "141it [00:41,  3.51it/s]\u001b[A\n",
            "142it [00:42,  3.57it/s]\u001b[A\n",
            "143it [00:42,  3.61it/s]\u001b[A\n",
            "144it [00:42,  3.61it/s]\u001b[A\n",
            "145it [00:42,  3.61it/s]\u001b[A\n",
            "146it [00:43,  3.64it/s]\u001b[A\n",
            "147it [00:43,  3.65it/s]\u001b[A\n",
            "148it [00:43,  3.57it/s]\u001b[A\n",
            "149it [00:44,  3.63it/s]\u001b[A\n",
            "150it [00:44,  3.63it/s]\u001b[A\n",
            "151it [00:44,  3.67it/s]\u001b[A\n",
            "152it [00:44,  3.65it/s]\u001b[A\n",
            "153it [00:45,  3.67it/s]\u001b[A\n",
            "154it [00:45,  3.60it/s]\u001b[A\n",
            "155it [00:45,  3.58it/s]\u001b[A\n",
            "156it [00:46,  3.47it/s]\u001b[A\n",
            "157it [00:46,  3.47it/s]\u001b[A\n",
            "158it [00:46,  3.52it/s]\u001b[A\n",
            "159it [00:46,  3.51it/s]\u001b[A\n",
            "160it [00:47,  3.56it/s]\u001b[A\n",
            "161it [00:47,  3.54it/s]\u001b[A\n",
            "162it [00:47,  3.53it/s]\u001b[A\n",
            "163it [00:48,  3.50it/s]\u001b[A\n",
            "164it [00:48,  3.54it/s]\u001b[A\n",
            "165it [00:48,  3.05it/s]\u001b[A\n",
            "166it [00:49,  3.16it/s]\u001b[A\n",
            "167it [00:49,  3.26it/s]\u001b[A\n",
            "168it [00:49,  3.39it/s]\u001b[A\n",
            "169it [00:49,  3.41it/s]\u001b[A\n",
            "170it [00:50,  3.47it/s]\u001b[A\n",
            "171it [00:50,  3.48it/s]\u001b[A\n",
            "172it [00:50,  3.52it/s]\u001b[A\n",
            "173it [00:50,  3.55it/s]\u001b[A\n",
            "174it [00:51,  3.52it/s]\u001b[A\n",
            "175it [00:51,  3.56it/s]\u001b[A\n",
            "176it [00:51,  3.56it/s]\u001b[A\n",
            "177it [00:52,  3.49it/s]\u001b[A\n",
            "178it [00:52,  3.46it/s]\u001b[A\n",
            "179it [00:52,  3.45it/s]\u001b[A\n",
            "180it [00:52,  3.48it/s]\u001b[A\n",
            "181it [00:53,  3.49it/s]\u001b[A\n",
            "182it [00:53,  3.44it/s]\u001b[A\n",
            "183it [00:53,  3.41it/s]\u001b[A\n",
            "184it [00:54,  3.40it/s]\u001b[A\n",
            "185it [00:54,  3.43it/s]\u001b[A\n",
            "186it [00:54,  3.46it/s]\u001b[A\n",
            "187it [00:55,  3.47it/s]\u001b[A\n",
            "188it [00:55,  3.45it/s]\u001b[A\n",
            "189it [00:55,  3.46it/s]\u001b[A\n",
            "190it [00:55,  3.45it/s]\u001b[A\n",
            "191it [00:56,  3.45it/s]\u001b[A\n",
            "192it [00:56,  3.41it/s]\u001b[A\n",
            "193it [00:56,  3.42it/s]\u001b[A\n",
            "194it [00:57,  3.38it/s]\u001b[A\n",
            "195it [00:57,  3.37it/s]\u001b[A\n",
            "196it [00:57,  3.40it/s]\u001b[A\n",
            "197it [00:57,  3.42it/s]\u001b[A\n",
            "198it [00:58,  3.48it/s]\u001b[A\n",
            "199it [00:58,  3.52it/s]\u001b[A\n",
            "200it [00:58,  3.51it/s]\u001b[A\n",
            "201it [00:59,  3.47it/s]\u001b[A\n",
            "202it [00:59,  3.53it/s]\u001b[A\n",
            "203it [00:59,  3.54it/s]\u001b[A\n",
            "204it [00:59,  3.53it/s]\u001b[A\n",
            "205it [01:00,  3.46it/s]\u001b[A\n",
            "206it [01:00,  3.48it/s]\u001b[A\n",
            "207it [01:00,  3.53it/s]\u001b[A\n",
            "208it [01:01,  3.60it/s]\u001b[A\n",
            "209it [01:01,  3.69it/s]\u001b[A\n",
            "210it [01:01,  3.62it/s]\u001b[A\n",
            "211it [01:01,  3.67it/s]\u001b[A\n",
            "212it [01:02,  3.63it/s]\u001b[A\n",
            "213it [01:02,  3.68it/s]\u001b[A\n",
            "214it [01:02,  3.70it/s]\u001b[A\n",
            "215it [01:02,  3.70it/s]\u001b[A\n",
            "216it [01:03,  3.72it/s]\u001b[A\n",
            "217it [01:03,  3.74it/s]\u001b[A\n",
            "218it [01:03,  3.78it/s]\u001b[A\n",
            "219it [01:03,  3.77it/s]\u001b[A\n",
            "220it [01:04,  3.72it/s]\u001b[A\n",
            "221it [01:04,  3.78it/s]\u001b[A\n",
            "222it [01:04,  3.78it/s]\u001b[A\n",
            "223it [01:05,  3.76it/s]\u001b[A\n",
            "224it [01:05,  3.74it/s]\u001b[A\n",
            "225it [01:05,  3.73it/s]\u001b[A\n",
            "226it [01:05,  3.76it/s]\u001b[A\n",
            "227it [01:06,  3.75it/s]\u001b[A\n",
            "228it [01:06,  3.70it/s]\u001b[A\n",
            "229it [01:06,  3.70it/s]\u001b[A\n",
            "230it [01:06,  3.67it/s]\u001b[A\n",
            "231it [01:07,  3.60it/s]\u001b[A\n",
            "232it [01:07,  3.63it/s]\u001b[A\n",
            "233it [01:07,  3.60it/s]\u001b[A\n",
            "234it [01:08,  3.58it/s]\u001b[A\n",
            "235it [01:08,  3.55it/s]\u001b[A\n",
            "236it [01:08,  3.61it/s]\u001b[A\n",
            "237it [01:08,  3.65it/s]\u001b[A\n",
            "238it [01:09,  3.56it/s]\u001b[A\n",
            "239it [01:09,  3.53it/s]\u001b[A\n",
            "240it [01:09,  3.54it/s]\u001b[A\n",
            "241it [01:10,  3.55it/s]\u001b[A\n",
            "242it [01:10,  3.53it/s]\u001b[A\n",
            "243it [01:10,  3.46it/s]\u001b[A\n",
            "244it [01:10,  3.48it/s]\u001b[A\n",
            "245it [01:11,  3.47it/s]\u001b[A\n",
            "246it [01:11,  3.50it/s]\u001b[A\n",
            "247it [01:11,  3.51it/s]\u001b[A\n",
            "248it [01:12,  3.48it/s]\u001b[A\n",
            "249it [01:12,  3.56it/s]\u001b[A\n",
            "250it [01:12,  3.60it/s]\u001b[A\n",
            "251it [01:12,  3.66it/s]\u001b[A\n",
            "252it [01:13,  3.69it/s]\u001b[A\n",
            "253it [01:13,  3.71it/s]\u001b[A\n",
            "254it [01:13,  3.74it/s]\u001b[A\n",
            "255it [01:13,  3.45it/s]\n"
          ],
          "name": "stderr"
        }
      ]
    },
    {
      "cell_type": "code",
      "metadata": {
        "colab": {
          "base_uri": "https://localhost:8080/",
          "height": 324
        },
        "id": "j9Hgk3Dl6KTK",
        "outputId": "93e5fa36-b903-47b4-99f4-777fe2d43bc4"
      },
      "source": [
        "high_votes_tri_grams = pd.DataFrame(high_votes_tri_grams, index=[0])\n"
      ],
      "id": "j9Hgk3Dl6KTK",
      "execution_count": 238,
      "outputs": [
        {
          "output_type": "error",
          "ename": "KeyboardInterrupt",
          "evalue": "ignored",
          "traceback": [
            "\u001b[0;31m---------------------------------------------------------------------------\u001b[0m",
            "\u001b[0;31mKeyboardInterrupt\u001b[0m                         Traceback (most recent call last)",
            "\u001b[0;32m<ipython-input-238-5b2df02d63f7>\u001b[0m in \u001b[0;36m<module>\u001b[0;34m()\u001b[0m\n\u001b[1;32m      1\u001b[0m \u001b[0mhigh_votes_tri_grams\u001b[0m \u001b[0;34m=\u001b[0m \u001b[0mpd\u001b[0m\u001b[0;34m.\u001b[0m\u001b[0mDataFrame\u001b[0m\u001b[0;34m(\u001b[0m\u001b[0mhigh_votes_tri_grams\u001b[0m\u001b[0;34m,\u001b[0m \u001b[0mindex\u001b[0m\u001b[0;34m=\u001b[0m\u001b[0;34m[\u001b[0m\u001b[0;36m0\u001b[0m\u001b[0;34m]\u001b[0m\u001b[0;34m)\u001b[0m\u001b[0;34m\u001b[0m\u001b[0;34m\u001b[0m\u001b[0m\n\u001b[0;32m----> 2\u001b[0;31m \u001b[0mlow_votes_tri_grams\u001b[0m \u001b[0;34m=\u001b[0m \u001b[0mpd\u001b[0m\u001b[0;34m.\u001b[0m\u001b[0mDataFrame\u001b[0m\u001b[0;34m(\u001b[0m\u001b[0mlow_votes_tri_grams\u001b[0m\u001b[0;34m,\u001b[0m \u001b[0mindex\u001b[0m\u001b[0;34m=\u001b[0m\u001b[0;34m[\u001b[0m\u001b[0;36m0\u001b[0m\u001b[0;34m]\u001b[0m\u001b[0;34m)\u001b[0m\u001b[0;34m\u001b[0m\u001b[0;34m\u001b[0m\u001b[0m\n\u001b[0m",
            "\u001b[0;32m/usr/local/lib/python3.7/dist-packages/pandas/core/frame.py\u001b[0m in \u001b[0;36m__init__\u001b[0;34m(self, data, index, columns, dtype, copy)\u001b[0m\n\u001b[1;32m    466\u001b[0m \u001b[0;34m\u001b[0m\u001b[0m\n\u001b[1;32m    467\u001b[0m         \u001b[0;32melif\u001b[0m \u001b[0misinstance\u001b[0m\u001b[0;34m(\u001b[0m\u001b[0mdata\u001b[0m\u001b[0;34m,\u001b[0m \u001b[0mdict\u001b[0m\u001b[0;34m)\u001b[0m\u001b[0;34m:\u001b[0m\u001b[0;34m\u001b[0m\u001b[0;34m\u001b[0m\u001b[0m\n\u001b[0;32m--> 468\u001b[0;31m             \u001b[0mmgr\u001b[0m \u001b[0;34m=\u001b[0m \u001b[0minit_dict\u001b[0m\u001b[0;34m(\u001b[0m\u001b[0mdata\u001b[0m\u001b[0;34m,\u001b[0m \u001b[0mindex\u001b[0m\u001b[0;34m,\u001b[0m \u001b[0mcolumns\u001b[0m\u001b[0;34m,\u001b[0m \u001b[0mdtype\u001b[0m\u001b[0;34m=\u001b[0m\u001b[0mdtype\u001b[0m\u001b[0;34m)\u001b[0m\u001b[0;34m\u001b[0m\u001b[0;34m\u001b[0m\u001b[0m\n\u001b[0m\u001b[1;32m    469\u001b[0m         \u001b[0;32melif\u001b[0m \u001b[0misinstance\u001b[0m\u001b[0;34m(\u001b[0m\u001b[0mdata\u001b[0m\u001b[0;34m,\u001b[0m \u001b[0mma\u001b[0m\u001b[0;34m.\u001b[0m\u001b[0mMaskedArray\u001b[0m\u001b[0;34m)\u001b[0m\u001b[0;34m:\u001b[0m\u001b[0;34m\u001b[0m\u001b[0;34m\u001b[0m\u001b[0m\n\u001b[1;32m    470\u001b[0m             \u001b[0;32mimport\u001b[0m \u001b[0mnumpy\u001b[0m\u001b[0;34m.\u001b[0m\u001b[0mma\u001b[0m\u001b[0;34m.\u001b[0m\u001b[0mmrecords\u001b[0m \u001b[0;32mas\u001b[0m \u001b[0mmrecords\u001b[0m\u001b[0;34m\u001b[0m\u001b[0;34m\u001b[0m\u001b[0m\n",
            "\u001b[0;32m/usr/local/lib/python3.7/dist-packages/pandas/core/internals/construction.py\u001b[0m in \u001b[0;36minit_dict\u001b[0;34m(data, index, columns, dtype)\u001b[0m\n\u001b[1;32m    281\u001b[0m             \u001b[0marr\u001b[0m \u001b[0;32mif\u001b[0m \u001b[0;32mnot\u001b[0m \u001b[0mis_datetime64tz_dtype\u001b[0m\u001b[0;34m(\u001b[0m\u001b[0marr\u001b[0m\u001b[0;34m)\u001b[0m \u001b[0;32melse\u001b[0m \u001b[0marr\u001b[0m\u001b[0;34m.\u001b[0m\u001b[0mcopy\u001b[0m\u001b[0;34m(\u001b[0m\u001b[0;34m)\u001b[0m \u001b[0;32mfor\u001b[0m \u001b[0marr\u001b[0m \u001b[0;32min\u001b[0m \u001b[0marrays\u001b[0m\u001b[0;34m\u001b[0m\u001b[0;34m\u001b[0m\u001b[0m\n\u001b[1;32m    282\u001b[0m         ]\n\u001b[0;32m--> 283\u001b[0;31m     \u001b[0;32mreturn\u001b[0m \u001b[0marrays_to_mgr\u001b[0m\u001b[0;34m(\u001b[0m\u001b[0marrays\u001b[0m\u001b[0;34m,\u001b[0m \u001b[0mdata_names\u001b[0m\u001b[0;34m,\u001b[0m \u001b[0mindex\u001b[0m\u001b[0;34m,\u001b[0m \u001b[0mcolumns\u001b[0m\u001b[0;34m,\u001b[0m \u001b[0mdtype\u001b[0m\u001b[0;34m=\u001b[0m\u001b[0mdtype\u001b[0m\u001b[0;34m)\u001b[0m\u001b[0;34m\u001b[0m\u001b[0;34m\u001b[0m\u001b[0m\n\u001b[0m\u001b[1;32m    284\u001b[0m \u001b[0;34m\u001b[0m\u001b[0m\n\u001b[1;32m    285\u001b[0m \u001b[0;34m\u001b[0m\u001b[0m\n",
            "\u001b[0;32m/usr/local/lib/python3.7/dist-packages/pandas/core/internals/construction.py\u001b[0m in \u001b[0;36marrays_to_mgr\u001b[0;34m(arrays, arr_names, index, columns, dtype, verify_integrity)\u001b[0m\n\u001b[1;32m     91\u001b[0m     \u001b[0maxes\u001b[0m \u001b[0;34m=\u001b[0m \u001b[0;34m[\u001b[0m\u001b[0mcolumns\u001b[0m\u001b[0;34m,\u001b[0m \u001b[0mindex\u001b[0m\u001b[0;34m]\u001b[0m\u001b[0;34m\u001b[0m\u001b[0;34m\u001b[0m\u001b[0m\n\u001b[1;32m     92\u001b[0m \u001b[0;34m\u001b[0m\u001b[0m\n\u001b[0;32m---> 93\u001b[0;31m     \u001b[0;32mreturn\u001b[0m \u001b[0mcreate_block_manager_from_arrays\u001b[0m\u001b[0;34m(\u001b[0m\u001b[0marrays\u001b[0m\u001b[0;34m,\u001b[0m \u001b[0marr_names\u001b[0m\u001b[0;34m,\u001b[0m \u001b[0maxes\u001b[0m\u001b[0;34m)\u001b[0m\u001b[0;34m\u001b[0m\u001b[0;34m\u001b[0m\u001b[0m\n\u001b[0m\u001b[1;32m     94\u001b[0m \u001b[0;34m\u001b[0m\u001b[0m\n\u001b[1;32m     95\u001b[0m \u001b[0;34m\u001b[0m\u001b[0m\n",
            "\u001b[0;32m/usr/local/lib/python3.7/dist-packages/pandas/core/internals/managers.py\u001b[0m in \u001b[0;36mcreate_block_manager_from_arrays\u001b[0;34m(arrays, names, axes)\u001b[0m\n\u001b[1;32m   1690\u001b[0m \u001b[0;34m\u001b[0m\u001b[0m\n\u001b[1;32m   1691\u001b[0m     \u001b[0;32mtry\u001b[0m\u001b[0;34m:\u001b[0m\u001b[0;34m\u001b[0m\u001b[0;34m\u001b[0m\u001b[0m\n\u001b[0;32m-> 1692\u001b[0;31m         \u001b[0mblocks\u001b[0m \u001b[0;34m=\u001b[0m \u001b[0mform_blocks\u001b[0m\u001b[0;34m(\u001b[0m\u001b[0marrays\u001b[0m\u001b[0;34m,\u001b[0m \u001b[0mnames\u001b[0m\u001b[0;34m,\u001b[0m \u001b[0maxes\u001b[0m\u001b[0;34m)\u001b[0m\u001b[0;34m\u001b[0m\u001b[0;34m\u001b[0m\u001b[0m\n\u001b[0m\u001b[1;32m   1693\u001b[0m         \u001b[0mmgr\u001b[0m \u001b[0;34m=\u001b[0m \u001b[0mBlockManager\u001b[0m\u001b[0;34m(\u001b[0m\u001b[0mblocks\u001b[0m\u001b[0;34m,\u001b[0m \u001b[0maxes\u001b[0m\u001b[0;34m)\u001b[0m\u001b[0;34m\u001b[0m\u001b[0;34m\u001b[0m\u001b[0m\n\u001b[1;32m   1694\u001b[0m         \u001b[0mmgr\u001b[0m\u001b[0;34m.\u001b[0m\u001b[0m_consolidate_inplace\u001b[0m\u001b[0;34m(\u001b[0m\u001b[0;34m)\u001b[0m\u001b[0;34m\u001b[0m\u001b[0;34m\u001b[0m\u001b[0m\n",
            "\u001b[0;32m/usr/local/lib/python3.7/dist-packages/pandas/core/internals/managers.py\u001b[0m in \u001b[0;36mform_blocks\u001b[0;34m(arrays, names, axes)\u001b[0m\n\u001b[1;32m   1743\u001b[0m         \u001b[0mv\u001b[0m \u001b[0;34m=\u001b[0m \u001b[0marrays\u001b[0m\u001b[0;34m[\u001b[0m\u001b[0mname_idx\u001b[0m\u001b[0;34m]\u001b[0m\u001b[0;34m\u001b[0m\u001b[0;34m\u001b[0m\u001b[0m\n\u001b[1;32m   1744\u001b[0m \u001b[0;34m\u001b[0m\u001b[0m\n\u001b[0;32m-> 1745\u001b[0;31m         \u001b[0mblock_type\u001b[0m \u001b[0;34m=\u001b[0m \u001b[0mget_block_type\u001b[0m\u001b[0;34m(\u001b[0m\u001b[0mv\u001b[0m\u001b[0;34m)\u001b[0m\u001b[0;34m\u001b[0m\u001b[0;34m\u001b[0m\u001b[0m\n\u001b[0m\u001b[1;32m   1746\u001b[0m         \u001b[0mitems_dict\u001b[0m\u001b[0;34m[\u001b[0m\u001b[0mblock_type\u001b[0m\u001b[0;34m.\u001b[0m\u001b[0m__name__\u001b[0m\u001b[0;34m]\u001b[0m\u001b[0;34m.\u001b[0m\u001b[0mappend\u001b[0m\u001b[0;34m(\u001b[0m\u001b[0;34m(\u001b[0m\u001b[0mi\u001b[0m\u001b[0;34m,\u001b[0m \u001b[0mk\u001b[0m\u001b[0;34m,\u001b[0m \u001b[0mv\u001b[0m\u001b[0;34m)\u001b[0m\u001b[0;34m)\u001b[0m\u001b[0;34m\u001b[0m\u001b[0;34m\u001b[0m\u001b[0m\n\u001b[1;32m   1747\u001b[0m \u001b[0;34m\u001b[0m\u001b[0m\n",
            "\u001b[0;32m/usr/local/lib/python3.7/dist-packages/pandas/core/internals/blocks.py\u001b[0m in \u001b[0;36mget_block_type\u001b[0;34m(values, dtype)\u001b[0m\n\u001b[1;32m   2701\u001b[0m     \u001b[0;32melif\u001b[0m \u001b[0mis_datetime64tz_dtype\u001b[0m\u001b[0;34m(\u001b[0m\u001b[0mvalues\u001b[0m\u001b[0;34m.\u001b[0m\u001b[0mdtype\u001b[0m\u001b[0;34m)\u001b[0m\u001b[0;34m:\u001b[0m\u001b[0;34m\u001b[0m\u001b[0;34m\u001b[0m\u001b[0m\n\u001b[1;32m   2702\u001b[0m         \u001b[0mcls\u001b[0m \u001b[0;34m=\u001b[0m \u001b[0mDatetimeTZBlock\u001b[0m\u001b[0;34m\u001b[0m\u001b[0;34m\u001b[0m\u001b[0m\n\u001b[0;32m-> 2703\u001b[0;31m     \u001b[0;32melif\u001b[0m \u001b[0mis_interval_dtype\u001b[0m\u001b[0;34m(\u001b[0m\u001b[0mdtype\u001b[0m\u001b[0;34m)\u001b[0m \u001b[0;32mor\u001b[0m \u001b[0mis_period_dtype\u001b[0m\u001b[0;34m(\u001b[0m\u001b[0mdtype\u001b[0m\u001b[0;34m)\u001b[0m\u001b[0;34m:\u001b[0m\u001b[0;34m\u001b[0m\u001b[0;34m\u001b[0m\u001b[0m\n\u001b[0m\u001b[1;32m   2704\u001b[0m         \u001b[0mcls\u001b[0m \u001b[0;34m=\u001b[0m \u001b[0mObjectValuesExtensionBlock\u001b[0m\u001b[0;34m\u001b[0m\u001b[0;34m\u001b[0m\u001b[0m\n\u001b[1;32m   2705\u001b[0m     \u001b[0;32melif\u001b[0m \u001b[0mis_extension_array_dtype\u001b[0m\u001b[0;34m(\u001b[0m\u001b[0mvalues\u001b[0m\u001b[0;34m.\u001b[0m\u001b[0mdtype\u001b[0m\u001b[0;34m)\u001b[0m\u001b[0;34m:\u001b[0m\u001b[0;34m\u001b[0m\u001b[0;34m\u001b[0m\u001b[0m\n",
            "\u001b[0;32m/usr/local/lib/python3.7/dist-packages/pandas/core/dtypes/common.py\u001b[0m in \u001b[0;36mis_period_dtype\u001b[0;34m(arr_or_dtype)\u001b[0m\n\u001b[1;32m    481\u001b[0m     \u001b[0;32mTrue\u001b[0m\u001b[0;34m\u001b[0m\u001b[0;34m\u001b[0m\u001b[0m\n\u001b[1;32m    482\u001b[0m     \"\"\"\n\u001b[0;32m--> 483\u001b[0;31m     \u001b[0;32mif\u001b[0m \u001b[0misinstance\u001b[0m\u001b[0;34m(\u001b[0m\u001b[0marr_or_dtype\u001b[0m\u001b[0;34m,\u001b[0m \u001b[0mExtensionDtype\u001b[0m\u001b[0;34m)\u001b[0m\u001b[0;34m:\u001b[0m\u001b[0;34m\u001b[0m\u001b[0;34m\u001b[0m\u001b[0m\n\u001b[0m\u001b[1;32m    484\u001b[0m         \u001b[0;31m# GH#33400 fastpath for dtype object\u001b[0m\u001b[0;34m\u001b[0m\u001b[0;34m\u001b[0m\u001b[0;34m\u001b[0m\u001b[0m\n\u001b[1;32m    485\u001b[0m         \u001b[0;32mreturn\u001b[0m \u001b[0marr_or_dtype\u001b[0m\u001b[0;34m.\u001b[0m\u001b[0mtype\u001b[0m \u001b[0;32mis\u001b[0m \u001b[0mPeriod\u001b[0m\u001b[0;34m\u001b[0m\u001b[0;34m\u001b[0m\u001b[0m\n",
            "\u001b[0;31mKeyboardInterrupt\u001b[0m: "
          ]
        }
      ]
    },
    {
      "cell_type": "code",
      "metadata": {
        "id": "7IfiStiC6kY4"
      },
      "source": [
        "high_votes_tri_grams = high_votes_tri_grams.T"
      ],
      "id": "7IfiStiC6kY4",
      "execution_count": 241,
      "outputs": []
    },
    {
      "cell_type": "code",
      "metadata": {
        "id": "klDMObss7PBw"
      },
      "source": [
        "high_votes_tri_grams = high_votes_tri_grams.sort_values(by=0, ascending=False)"
      ],
      "id": "klDMObss7PBw",
      "execution_count": 243,
      "outputs": []
    },
    {
      "cell_type": "code",
      "metadata": {
        "colab": {
          "base_uri": "https://localhost:8080/",
          "height": 669
        },
        "id": "c4VqWUS67ZYv",
        "outputId": "a6329361-4638-43f2-8837-7f8ee0e69f23"
      },
      "source": [
        "high_votes_tri_grams.head(20)"
      ],
      "id": "c4VqWUS67ZYv",
      "execution_count": 245,
      "outputs": [
        {
          "output_type": "execute_result",
          "data": {
            "text/html": [
              "<div>\n",
              "<style scoped>\n",
              "    .dataframe tbody tr th:only-of-type {\n",
              "        vertical-align: middle;\n",
              "    }\n",
              "\n",
              "    .dataframe tbody tr th {\n",
              "        vertical-align: top;\n",
              "    }\n",
              "\n",
              "    .dataframe thead th {\n",
              "        text-align: right;\n",
              "    }\n",
              "</style>\n",
              "<table border=\"1\" class=\"dataframe\">\n",
              "  <thead>\n",
              "    <tr style=\"text-align: right;\">\n",
              "      <th></th>\n",
              "      <th>0</th>\n",
              "    </tr>\n",
              "  </thead>\n",
              "  <tbody>\n",
              "    <tr>\n",
              "      <th>, according to</th>\n",
              "      <td>330</td>\n",
              "    </tr>\n",
              "    <tr>\n",
              "      <th>one of the</th>\n",
              "      <td>276</td>\n",
              "    </tr>\n",
              "    <tr>\n",
              "      <th>the world s</th>\n",
              "      <td>248</td>\n",
              "    </tr>\n",
              "    <tr>\n",
              "      <th>the United States</th>\n",
              "      <td>242</td>\n",
              "    </tr>\n",
              "    <tr>\n",
              "      <th>the country s</th>\n",
              "      <td>224</td>\n",
              "    </tr>\n",
              "    <tr>\n",
              "      <th>the first time</th>\n",
              "      <td>214</td>\n",
              "    </tr>\n",
              "    <tr>\n",
              "      <th>of the world</th>\n",
              "      <td>191</td>\n",
              "    </tr>\n",
              "    <tr>\n",
              "      <th>in the world</th>\n",
              "      <td>172</td>\n",
              "    </tr>\n",
              "    <tr>\n",
              "      <th>world ’ s</th>\n",
              "      <td>171</td>\n",
              "    </tr>\n",
              "    <tr>\n",
              "      <th>for the first</th>\n",
              "      <td>164</td>\n",
              "    </tr>\n",
              "    <tr>\n",
              "      <th>BBC News -</th>\n",
              "      <td>151</td>\n",
              "    </tr>\n",
              "    <tr>\n",
              "      <th>country ’ s</th>\n",
              "      <td>130</td>\n",
              "    </tr>\n",
              "    <tr>\n",
              "      <th>of thousands of</th>\n",
              "      <td>119</td>\n",
              "    </tr>\n",
              "    <tr>\n",
              "      <th>the world ’</th>\n",
              "      <td>109</td>\n",
              "    </tr>\n",
              "    <tr>\n",
              "      <th>as part of</th>\n",
              "      <td>108</td>\n",
              "    </tr>\n",
              "    <tr>\n",
              "      <th>in the country</th>\n",
              "      <td>108</td>\n",
              "    </tr>\n",
              "    <tr>\n",
              "      <th>according to a</th>\n",
              "      <td>107</td>\n",
              "    </tr>\n",
              "    <tr>\n",
              "      <th>of the country</th>\n",
              "      <td>104</td>\n",
              "    </tr>\n",
              "    <tr>\n",
              "      <th>in the UK</th>\n",
              "      <td>102</td>\n",
              "    </tr>\n",
              "    <tr>\n",
              "      <th>the country ’</th>\n",
              "      <td>99</td>\n",
              "    </tr>\n",
              "  </tbody>\n",
              "</table>\n",
              "</div>"
            ],
            "text/plain": [
              "                     0\n",
              ", according to     330\n",
              "one of the         276\n",
              "the world s        248\n",
              "the United States  242\n",
              "the country s      224\n",
              "the first time     214\n",
              "of the world       191\n",
              "in the world       172\n",
              "world ’ s          171\n",
              "for the first      164\n",
              "BBC News -         151\n",
              "country ’ s        130\n",
              "of thousands of    119\n",
              "the world ’        109\n",
              "as part of         108\n",
              "in the country     108\n",
              "according to a     107\n",
              "of the country     104\n",
              "in the UK          102\n",
              "the country ’       99"
            ]
          },
          "metadata": {
            "tags": []
          },
          "execution_count": 245
        }
      ]
    },
    {
      "cell_type": "code",
      "metadata": {
        "colab": {
          "base_uri": "https://localhost:8080/",
          "height": 316,
          "referenced_widgets": [
            "e4d6264a2c9b4aa28ad40852ad50d668",
            "fa9a1b4bc2f7496587fdaad83fc791b1",
            "96efa1cb02754688b1a46bd88b518faa",
            "b330e41e15f143fe95c923d082c1c7dd",
            "cb61d1da6af6471d92ecf80a94e2484b",
            "60f6f147b761453ebada0c9b0fff01bc",
            "cb79c752bf8e47c2858f53ed8a297f61",
            "fdcc6f8c95fa45339f31b5dd1a516801",
            "dd2b1d4dfaff4c6ab081dde2dafdfb37",
            "57f9d83f833e44309a2f6459d70c6af4",
            "72eaba2339ac46949687c4741340eefe",
            "43fdf13ea1324b50bcab7cf7bf16d285",
            "3ee1c1a6eac54df497a0c1f6cfbd4d3a",
            "4b4bd949b55a48c683907c8030e8a86c",
            "7b66454626a2427b8804d6ee8bd7df5f",
            "2e5627595ff84f8885e4f635fd7e2f2c",
            "6911fce8147142b7982df5cb8d9ca5bc",
            "a54c9a36d1764d5faafc951535abb712",
            "32eaac44322541d693e34f15a91f5d7c",
            "86cb6c1369b84ace8a171e238f5cdf43",
            "f064ba046bb748738a44542afff91fc5",
            "9f4ce3c0e83a40569516a38c5d593c69",
            "7db8e288d6cf49df9f4a750be4062473",
            "d86309317d394a99994d46942a9297cd",
            "cdb930f5a9ef40aa82b4daa27c92eff5",
            "5c3c8e4ed0fd4111ba845a624a70d704",
            "183a954e0fdc4fb9a1a49179befa04b7",
            "54d1abf54c3d4800b42140de07f4b2f1",
            "fe6005528323426cb7b354e7c18d53f8",
            "cfb3790b59c0452fb818c1cdbf0bfde2",
            "3b4e9663999d40c09ecba8ed77720038",
            "4ad5c5920f874e5fb83ae4178a80a5f9",
            "73231d56bbcc461c906b424232048ab3",
            "8d0ac06f0d9a4ac5bc5883c493a2516f",
            "8d9239d38ea5456d91fa1bd055abb028",
            "506f2ba9f8364f0cacd27d5caf4dd8a2",
            "6f513973f679400c9f81aea9d0baf189",
            "b06f833dfb0a48879eaec0e546d3b56f",
            "5b6631fee92546f8b740be0284efe4aa",
            "fa25fb36fe5f4b378f15ec718d660231"
          ]
        },
        "id": "RMFXR88gWY2k",
        "outputId": "497247f4-4f9f-4b1b-9923-1b83d067d582"
      },
      "source": [
        "import importlib\n",
        "import training_pipeline\n",
        "import MLP\n",
        "importlib.reload(training_pipeline)\n",
        "importlib.reload(MLP)\n"
      ],
      "id": "RMFXR88gWY2k",
      "execution_count": 6,
      "outputs": [
        {
          "output_type": "stream",
          "text": [
            "Downloading: \"https://github.com/unitaryai/detoxify/releases/download/v0.1-alpha/toxic_original-c1212f89.ckpt\" to /root/.cache/torch/hub/checkpoints/toxic_original-c1212f89.ckpt\n"
          ],
          "name": "stderr"
        },
        {
          "output_type": "display_data",
          "data": {
            "application/vnd.jupyter.widget-view+json": {
              "model_id": "e4d6264a2c9b4aa28ad40852ad50d668",
              "version_minor": 0,
              "version_major": 2
            },
            "text/plain": [
              "HBox(children=(FloatProgress(value=0.0, max=438021897.0), HTML(value='')))"
            ]
          },
          "metadata": {
            "tags": []
          }
        },
        {
          "output_type": "stream",
          "text": [
            "\n"
          ],
          "name": "stdout"
        },
        {
          "output_type": "display_data",
          "data": {
            "application/vnd.jupyter.widget-view+json": {
              "model_id": "dd2b1d4dfaff4c6ab081dde2dafdfb37",
              "version_minor": 0,
              "version_major": 2
            },
            "text/plain": [
              "HBox(children=(FloatProgress(value=0.0, description='Downloading', max=433.0, style=ProgressStyle(description_…"
            ]
          },
          "metadata": {
            "tags": []
          }
        },
        {
          "output_type": "stream",
          "text": [
            "\n"
          ],
          "name": "stdout"
        },
        {
          "output_type": "display_data",
          "data": {
            "application/vnd.jupyter.widget-view+json": {
              "model_id": "6911fce8147142b7982df5cb8d9ca5bc",
              "version_minor": 0,
              "version_major": 2
            },
            "text/plain": [
              "HBox(children=(FloatProgress(value=0.0, description='Downloading', max=231508.0, style=ProgressStyle(descripti…"
            ]
          },
          "metadata": {
            "tags": []
          }
        },
        {
          "output_type": "stream",
          "text": [
            "\n"
          ],
          "name": "stdout"
        },
        {
          "output_type": "display_data",
          "data": {
            "application/vnd.jupyter.widget-view+json": {
              "model_id": "cdb930f5a9ef40aa82b4daa27c92eff5",
              "version_minor": 0,
              "version_major": 2
            },
            "text/plain": [
              "HBox(children=(FloatProgress(value=0.0, description='Downloading', max=28.0, style=ProgressStyle(description_w…"
            ]
          },
          "metadata": {
            "tags": []
          }
        },
        {
          "output_type": "stream",
          "text": [
            "\n"
          ],
          "name": "stdout"
        },
        {
          "output_type": "display_data",
          "data": {
            "application/vnd.jupyter.widget-view+json": {
              "model_id": "73231d56bbcc461c906b424232048ab3",
              "version_minor": 0,
              "version_major": 2
            },
            "text/plain": [
              "HBox(children=(FloatProgress(value=0.0, description='Downloading', max=466062.0, style=ProgressStyle(descripti…"
            ]
          },
          "metadata": {
            "tags": []
          }
        },
        {
          "output_type": "stream",
          "text": [
            "\n"
          ],
          "name": "stdout"
        },
        {
          "output_type": "execute_result",
          "data": {
            "text/plain": [
              "<module 'MLP' from '/content/reddit-upvotes/MLP.py'>"
            ]
          },
          "metadata": {
            "tags": []
          },
          "execution_count": 6
        }
      ]
    },
    {
      "cell_type": "code",
      "metadata": {
        "id": "Lu9YxPqcWxrk"
      },
      "source": [
        "from training_pipeline import train_upvotes, evaluate_model\n"
      ],
      "id": "Lu9YxPqcWxrk",
      "execution_count": 7,
      "outputs": []
    },
    {
      "cell_type": "code",
      "metadata": {
        "colab": {
          "base_uri": "https://localhost:8080/",
          "height": 1000
        },
        "id": "sydg3u5iiAiT",
        "outputId": "385c7366-7a4d-48fe-ed3d-248d2f74c79a"
      },
      "source": [
        "datafile = \"Eluvio_DS_Challenge.csv\"\n",
        "chunksize = 100\n",
        "fine_tune = False\n",
        "for i, df in enumerate(pd.read_csv(datafile, chunksize=chunksize, usecols=[\"up_votes\", \"title\", \"author\", \"date_created\",\"over_18\"])):\n",
        "  msk = np.random.rand(len(df)) < 0.8\n",
        "  train = df[msk]\n",
        "  test = df[~msk]\n",
        "  train_upvotes(train, i, fine_tune=fine_tune)\n",
        "  evaluate_model(test)\n",
        "  fine_tune = True\n"
      ],
      "id": "sydg3u5iiAiT",
      "execution_count": 8,
      "outputs": [
        {
          "output_type": "stream",
          "text": [
            "Feature Engineering The DataFrame\n",
            "Adding Word Count Feature\n",
            "Adding Char Count Feature\n",
            "Adding Over 18 Feature\n",
            "Adding Readability Score Feature\n",
            "Adding Sentiment Score Feature\n",
            "Adding Toxicity Score Feature\n"
          ],
          "name": "stdout"
        },
        {
          "output_type": "stream",
          "text": [
            "/content/reddit-upvotes/preprocessing_utils.py:98: SettingWithCopyWarning: \n",
            "A value is trying to be set on a copy of a slice from a DataFrame.\n",
            "Try using .loc[row_indexer,col_indexer] = value instead\n",
            "\n",
            "See the caveats in the documentation: https://pandas.pydata.org/pandas-docs/stable/user_guide/indexing.html#returning-a-view-versus-a-copy\n",
            "  df[\"word_count\"] = df.title.apply(lambda x: len(x.split()))\n",
            "/content/reddit-upvotes/preprocessing_utils.py:102: SettingWithCopyWarning: \n",
            "A value is trying to be set on a copy of a slice from a DataFrame.\n",
            "Try using .loc[row_indexer,col_indexer] = value instead\n",
            "\n",
            "See the caveats in the documentation: https://pandas.pydata.org/pandas-docs/stable/user_guide/indexing.html#returning-a-view-versus-a-copy\n",
            "  df[\"char_count\"] = df.title.apply(lambda x: len(x))\n",
            "/usr/local/lib/python3.7/dist-packages/pandas/core/generic.py:5170: SettingWithCopyWarning: \n",
            "A value is trying to be set on a copy of a slice from a DataFrame.\n",
            "Try using .loc[row_indexer,col_indexer] = value instead\n",
            "\n",
            "See the caveats in the documentation: https://pandas.pydata.org/pandas-docs/stable/user_guide/indexing.html#returning-a-view-versus-a-copy\n",
            "  self[name] = value\n",
            "/content/reddit-upvotes/preprocessing_utils.py:42: SettingWithCopyWarning: \n",
            "A value is trying to be set on a copy of a slice from a DataFrame.\n",
            "Try using .loc[row_indexer,col_indexer] = value instead\n",
            "\n",
            "See the caveats in the documentation: https://pandas.pydata.org/pandas-docs/stable/user_guide/indexing.html#returning-a-view-versus-a-copy\n",
            "  df[\"readability_index\"] = df.title.apply(lambda x: textstat.automated_readability_index(x))\n",
            "/content/reddit-upvotes/preprocessing_utils.py:48: SettingWithCopyWarning: \n",
            "A value is trying to be set on a copy of a slice from a DataFrame.\n",
            "Try using .loc[row_indexer,col_indexer] = value instead\n",
            "\n",
            "See the caveats in the documentation: https://pandas.pydata.org/pandas-docs/stable/user_guide/indexing.html#returning-a-view-versus-a-copy\n",
            "  df[\"neg_sentiment\"] = df.title.apply(lambda x: analyser.polarity_scores(x).get(\"neg\"))\n",
            "/content/reddit-upvotes/preprocessing_utils.py:49: SettingWithCopyWarning: \n",
            "A value is trying to be set on a copy of a slice from a DataFrame.\n",
            "Try using .loc[row_indexer,col_indexer] = value instead\n",
            "\n",
            "See the caveats in the documentation: https://pandas.pydata.org/pandas-docs/stable/user_guide/indexing.html#returning-a-view-versus-a-copy\n",
            "  df[\"pos_sentiment\"] = df.title.apply(lambda x: analyser.polarity_scores(x).get(\"pos\"))\n",
            "/content/reddit-upvotes/preprocessing_utils.py:50: SettingWithCopyWarning: \n",
            "A value is trying to be set on a copy of a slice from a DataFrame.\n",
            "Try using .loc[row_indexer,col_indexer] = value instead\n",
            "\n",
            "See the caveats in the documentation: https://pandas.pydata.org/pandas-docs/stable/user_guide/indexing.html#returning-a-view-versus-a-copy\n",
            "  df[\"neu_sentiment\"] = df.title.apply(lambda x: analyser.polarity_scores(x).get(\"neu\"))\n",
            "/content/reddit-upvotes/preprocessing_utils.py:66: SettingWithCopyWarning: \n",
            "A value is trying to be set on a copy of a slice from a DataFrame.\n",
            "Try using .loc[row_indexer,col_indexer] = value instead\n",
            "\n",
            "See the caveats in the documentation: https://pandas.pydata.org/pandas-docs/stable/user_guide/indexing.html#returning-a-view-versus-a-copy\n",
            "  df[\"toxic\"] = df.title.apply(lambda x: toxicity_model.predict(x).get(\"toxicity\"))\n",
            "/content/reddit-upvotes/preprocessing_utils.py:38: SettingWithCopyWarning: \n",
            "A value is trying to be set on a copy of a slice from a DataFrame.\n",
            "Try using .loc[row_indexer,col_indexer] = value instead\n",
            "\n",
            "See the caveats in the documentation: https://pandas.pydata.org/pandas-docs/stable/user_guide/indexing.html#returning-a-view-versus-a-copy\n",
            "  df[\"subjectivity\"] = df.title.apply(lambda x: subjective(x))\n",
            "/content/reddit-upvotes/preprocessing_utils.py:54: SettingWithCopyWarning: \n",
            "A value is trying to be set on a copy of a slice from a DataFrame.\n",
            "Try using .loc[row_indexer,col_indexer] = value instead\n",
            "\n",
            "See the caveats in the documentation: https://pandas.pydata.org/pandas-docs/stable/user_guide/indexing.html#returning-a-view-versus-a-copy\n",
            "  df[\"day_created\"] = df.date_created.apply(lambda x: weekday_from_date(x))\n",
            "/usr/local/lib/python3.7/dist-packages/torch/nn/modules/loss.py:528: UserWarning: Using a target size (torch.Size([80])) that is different to the input size (torch.Size([80, 1])). This will likely lead to incorrect results due to broadcasting. Please ensure they have the same size.\n",
            "  return F.mse_loss(input, target, reduction=self.reduction)\n"
          ],
          "name": "stderr"
        },
        {
          "output_type": "stream",
          "text": [
            "Adding Subjectivity Score Feature\n",
            "Adding Posted Day Feature\n",
            "Adding Upper Score Ratio Feature\n",
            "Dropping Un-necessary Tables\n",
            "\n",
            "---------------------------\n",
            "\n",
            "Building Regression Model\n",
            "\n",
            "---------------------------\n",
            "\n",
            "Training Regression Model\n",
            "Starting epoch 1\n",
            "Loss after mini-batch     1: 6.389\n",
            "Starting epoch 2\n",
            "Loss after mini-batch     1: 6.388\n",
            "Starting epoch 3\n",
            "Loss after mini-batch     1: 6.387\n",
            "Starting epoch 4\n",
            "Loss after mini-batch     1: 6.386\n",
            "Starting epoch 5\n",
            "Loss after mini-batch     1: 6.385\n",
            "Training process has finished.\n"
          ],
          "name": "stdout"
        },
        {
          "output_type": "error",
          "ename": "PicklingError",
          "evalue": "ignored",
          "traceback": [
            "\u001b[0;31m---------------------------------------------------------------------------\u001b[0m",
            "\u001b[0;31mPicklingError\u001b[0m                             Traceback (most recent call last)",
            "\u001b[0;32m<ipython-input-8-eaf867ddb53e>\u001b[0m in \u001b[0;36m<module>\u001b[0;34m()\u001b[0m\n\u001b[1;32m      6\u001b[0m   \u001b[0mtrain\u001b[0m \u001b[0;34m=\u001b[0m \u001b[0mdf\u001b[0m\u001b[0;34m[\u001b[0m\u001b[0mmsk\u001b[0m\u001b[0;34m]\u001b[0m\u001b[0;34m\u001b[0m\u001b[0;34m\u001b[0m\u001b[0m\n\u001b[1;32m      7\u001b[0m   \u001b[0mtest\u001b[0m \u001b[0;34m=\u001b[0m \u001b[0mdf\u001b[0m\u001b[0;34m[\u001b[0m\u001b[0;34m~\u001b[0m\u001b[0mmsk\u001b[0m\u001b[0;34m]\u001b[0m\u001b[0;34m\u001b[0m\u001b[0;34m\u001b[0m\u001b[0m\n\u001b[0;32m----> 8\u001b[0;31m   \u001b[0mtrain_upvotes\u001b[0m\u001b[0;34m(\u001b[0m\u001b[0mtrain\u001b[0m\u001b[0;34m,\u001b[0m \u001b[0mi\u001b[0m\u001b[0;34m,\u001b[0m \u001b[0mfine_tune\u001b[0m\u001b[0;34m=\u001b[0m\u001b[0mfine_tune\u001b[0m\u001b[0;34m)\u001b[0m\u001b[0;34m\u001b[0m\u001b[0;34m\u001b[0m\u001b[0m\n\u001b[0m\u001b[1;32m      9\u001b[0m   \u001b[0mevaluate_model\u001b[0m\u001b[0;34m(\u001b[0m\u001b[0mtest\u001b[0m\u001b[0;34m)\u001b[0m\u001b[0;34m\u001b[0m\u001b[0;34m\u001b[0m\u001b[0m\n\u001b[1;32m     10\u001b[0m   \u001b[0mfine_tune\u001b[0m \u001b[0;34m=\u001b[0m \u001b[0;32mTrue\u001b[0m\u001b[0;34m\u001b[0m\u001b[0;34m\u001b[0m\u001b[0m\n",
            "\u001b[0;32m/content/reddit-upvotes/training_pipeline.py\u001b[0m in \u001b[0;36mtrain_upvotes\u001b[0;34m(df, i, fine_tune)\u001b[0m\n\u001b[1;32m     65\u001b[0m         \u001b[0mprint\u001b[0m\u001b[0;34m(\u001b[0m\u001b[0;34m\"\\n---------------------------\\n\"\u001b[0m\u001b[0;34m)\u001b[0m\u001b[0;34m\u001b[0m\u001b[0;34m\u001b[0m\u001b[0m\n\u001b[1;32m     66\u001b[0m         \u001b[0mprint\u001b[0m\u001b[0;34m(\u001b[0m\u001b[0;34m\"Training Regression Model\"\u001b[0m\u001b[0;34m)\u001b[0m\u001b[0;34m\u001b[0m\u001b[0;34m\u001b[0m\u001b[0m\n\u001b[0;32m---> 67\u001b[0;31m         \u001b[0mtrain_manager\u001b[0m\u001b[0;34m.\u001b[0m\u001b[0mfit\u001b[0m\u001b[0;34m(\u001b[0m\u001b[0mi\u001b[0m\u001b[0;34m,\u001b[0m \u001b[0mx\u001b[0m\u001b[0;34m,\u001b[0m \u001b[0my\u001b[0m\u001b[0;34m)\u001b[0m\u001b[0;34m\u001b[0m\u001b[0;34m\u001b[0m\u001b[0m\n\u001b[0m\u001b[1;32m     68\u001b[0m         \u001b[0mprint\u001b[0m\u001b[0;34m(\u001b[0m\u001b[0;34m\"Model Trained Successfully\"\u001b[0m\u001b[0;34m)\u001b[0m\u001b[0;34m\u001b[0m\u001b[0;34m\u001b[0m\u001b[0m\n\u001b[1;32m     69\u001b[0m \u001b[0;34m\u001b[0m\u001b[0m\n",
            "\u001b[0;32m/content/reddit-upvotes/MLP.py\u001b[0m in \u001b[0;36mfit\u001b[0;34m(self, i, x, y)\u001b[0m\n\u001b[1;32m     78\u001b[0m         \u001b[0;31m# Process is complete.\u001b[0m\u001b[0;34m\u001b[0m\u001b[0;34m\u001b[0m\u001b[0;34m\u001b[0m\u001b[0m\n\u001b[1;32m     79\u001b[0m         \u001b[0mprint\u001b[0m\u001b[0;34m(\u001b[0m\u001b[0;34m'Training process has finished.'\u001b[0m\u001b[0;34m)\u001b[0m\u001b[0;34m\u001b[0m\u001b[0;34m\u001b[0m\u001b[0m\n\u001b[0;32m---> 80\u001b[0;31m         \u001b[0mself\u001b[0m\u001b[0;34m.\u001b[0m\u001b[0msave_model\u001b[0m\u001b[0;34m(\u001b[0m\u001b[0;34m)\u001b[0m\u001b[0;34m\u001b[0m\u001b[0;34m\u001b[0m\u001b[0m\n\u001b[0m\u001b[1;32m     81\u001b[0m \u001b[0;34m\u001b[0m\u001b[0m\n\u001b[1;32m     82\u001b[0m     \u001b[0;32mdef\u001b[0m \u001b[0msave_model\u001b[0m\u001b[0;34m(\u001b[0m\u001b[0mself\u001b[0m\u001b[0;34m,\u001b[0m \u001b[0mPATH\u001b[0m\u001b[0;34m=\u001b[0m\u001b[0;34m\"regression_model.pt\"\u001b[0m\u001b[0;34m)\u001b[0m\u001b[0;34m:\u001b[0m\u001b[0;34m\u001b[0m\u001b[0;34m\u001b[0m\u001b[0m\n",
            "\u001b[0;32m/content/reddit-upvotes/MLP.py\u001b[0m in \u001b[0;36msave_model\u001b[0;34m(self, PATH)\u001b[0m\n\u001b[1;32m     82\u001b[0m     \u001b[0;32mdef\u001b[0m \u001b[0msave_model\u001b[0m\u001b[0;34m(\u001b[0m\u001b[0mself\u001b[0m\u001b[0;34m,\u001b[0m \u001b[0mPATH\u001b[0m\u001b[0;34m=\u001b[0m\u001b[0;34m\"regression_model.pt\"\u001b[0m\u001b[0;34m)\u001b[0m\u001b[0;34m:\u001b[0m\u001b[0;34m\u001b[0m\u001b[0;34m\u001b[0m\u001b[0m\n\u001b[1;32m     83\u001b[0m         \u001b[0mself\u001b[0m\u001b[0;34m.\u001b[0m\u001b[0mmodel\u001b[0m\u001b[0;34m.\u001b[0m\u001b[0meval\u001b[0m\u001b[0;34m(\u001b[0m\u001b[0;34m)\u001b[0m\u001b[0;34m\u001b[0m\u001b[0;34m\u001b[0m\u001b[0m\n\u001b[0;32m---> 84\u001b[0;31m         \u001b[0mtorch\u001b[0m\u001b[0;34m.\u001b[0m\u001b[0msave\u001b[0m\u001b[0;34m(\u001b[0m\u001b[0mself\u001b[0m\u001b[0;34m.\u001b[0m\u001b[0mmodel\u001b[0m\u001b[0;34m,\u001b[0m \u001b[0mPATH\u001b[0m\u001b[0;34m)\u001b[0m\u001b[0;34m\u001b[0m\u001b[0;34m\u001b[0m\u001b[0m\n\u001b[0m\u001b[1;32m     85\u001b[0m \u001b[0;34m\u001b[0m\u001b[0m\n\u001b[1;32m     86\u001b[0m     \u001b[0;32mdef\u001b[0m \u001b[0mload_model\u001b[0m\u001b[0;34m(\u001b[0m\u001b[0mself\u001b[0m\u001b[0;34m,\u001b[0m \u001b[0mPATH\u001b[0m\u001b[0;34m=\u001b[0m\u001b[0;34m\"regression_model.pt\"\u001b[0m\u001b[0;34m,\u001b[0m \u001b[0mtrain\u001b[0m\u001b[0;34m=\u001b[0m\u001b[0;32mFalse\u001b[0m\u001b[0;34m)\u001b[0m\u001b[0;34m:\u001b[0m\u001b[0;34m\u001b[0m\u001b[0;34m\u001b[0m\u001b[0m\n",
            "\u001b[0;32m/usr/local/lib/python3.7/dist-packages/torch/serialization.py\u001b[0m in \u001b[0;36msave\u001b[0;34m(obj, f, pickle_module, pickle_protocol, _use_new_zipfile_serialization)\u001b[0m\n\u001b[1;32m    370\u001b[0m         \u001b[0;32mif\u001b[0m \u001b[0m_use_new_zipfile_serialization\u001b[0m\u001b[0;34m:\u001b[0m\u001b[0;34m\u001b[0m\u001b[0;34m\u001b[0m\u001b[0m\n\u001b[1;32m    371\u001b[0m             \u001b[0;32mwith\u001b[0m \u001b[0m_open_zipfile_writer\u001b[0m\u001b[0;34m(\u001b[0m\u001b[0mopened_file\u001b[0m\u001b[0;34m)\u001b[0m \u001b[0;32mas\u001b[0m \u001b[0mopened_zipfile\u001b[0m\u001b[0;34m:\u001b[0m\u001b[0;34m\u001b[0m\u001b[0;34m\u001b[0m\u001b[0m\n\u001b[0;32m--> 372\u001b[0;31m                 \u001b[0m_save\u001b[0m\u001b[0;34m(\u001b[0m\u001b[0mobj\u001b[0m\u001b[0;34m,\u001b[0m \u001b[0mopened_zipfile\u001b[0m\u001b[0;34m,\u001b[0m \u001b[0mpickle_module\u001b[0m\u001b[0;34m,\u001b[0m \u001b[0mpickle_protocol\u001b[0m\u001b[0;34m)\u001b[0m\u001b[0;34m\u001b[0m\u001b[0;34m\u001b[0m\u001b[0m\n\u001b[0m\u001b[1;32m    373\u001b[0m                 \u001b[0;32mreturn\u001b[0m\u001b[0;34m\u001b[0m\u001b[0;34m\u001b[0m\u001b[0m\n\u001b[1;32m    374\u001b[0m         \u001b[0m_legacy_save\u001b[0m\u001b[0;34m(\u001b[0m\u001b[0mobj\u001b[0m\u001b[0;34m,\u001b[0m \u001b[0mopened_file\u001b[0m\u001b[0;34m,\u001b[0m \u001b[0mpickle_module\u001b[0m\u001b[0;34m,\u001b[0m \u001b[0mpickle_protocol\u001b[0m\u001b[0;34m)\u001b[0m\u001b[0;34m\u001b[0m\u001b[0;34m\u001b[0m\u001b[0m\n",
            "\u001b[0;32m/usr/local/lib/python3.7/dist-packages/torch/serialization.py\u001b[0m in \u001b[0;36m_save\u001b[0;34m(obj, zip_file, pickle_module, pickle_protocol)\u001b[0m\n\u001b[1;32m    474\u001b[0m     \u001b[0mpickler\u001b[0m \u001b[0;34m=\u001b[0m \u001b[0mpickle_module\u001b[0m\u001b[0;34m.\u001b[0m\u001b[0mPickler\u001b[0m\u001b[0;34m(\u001b[0m\u001b[0mdata_buf\u001b[0m\u001b[0;34m,\u001b[0m \u001b[0mprotocol\u001b[0m\u001b[0;34m=\u001b[0m\u001b[0mpickle_protocol\u001b[0m\u001b[0;34m)\u001b[0m\u001b[0;34m\u001b[0m\u001b[0;34m\u001b[0m\u001b[0m\n\u001b[1;32m    475\u001b[0m     \u001b[0mpickler\u001b[0m\u001b[0;34m.\u001b[0m\u001b[0mpersistent_id\u001b[0m \u001b[0;34m=\u001b[0m \u001b[0mpersistent_id\u001b[0m\u001b[0;34m\u001b[0m\u001b[0;34m\u001b[0m\u001b[0m\n\u001b[0;32m--> 476\u001b[0;31m     \u001b[0mpickler\u001b[0m\u001b[0;34m.\u001b[0m\u001b[0mdump\u001b[0m\u001b[0;34m(\u001b[0m\u001b[0mobj\u001b[0m\u001b[0;34m)\u001b[0m\u001b[0;34m\u001b[0m\u001b[0;34m\u001b[0m\u001b[0m\n\u001b[0m\u001b[1;32m    477\u001b[0m     \u001b[0mdata_value\u001b[0m \u001b[0;34m=\u001b[0m \u001b[0mdata_buf\u001b[0m\u001b[0;34m.\u001b[0m\u001b[0mgetvalue\u001b[0m\u001b[0;34m(\u001b[0m\u001b[0;34m)\u001b[0m\u001b[0;34m\u001b[0m\u001b[0;34m\u001b[0m\u001b[0m\n\u001b[1;32m    478\u001b[0m     \u001b[0mzip_file\u001b[0m\u001b[0;34m.\u001b[0m\u001b[0mwrite_record\u001b[0m\u001b[0;34m(\u001b[0m\u001b[0;34m'data.pkl'\u001b[0m\u001b[0;34m,\u001b[0m \u001b[0mdata_value\u001b[0m\u001b[0;34m,\u001b[0m \u001b[0mlen\u001b[0m\u001b[0;34m(\u001b[0m\u001b[0mdata_value\u001b[0m\u001b[0;34m)\u001b[0m\u001b[0;34m)\u001b[0m\u001b[0;34m\u001b[0m\u001b[0;34m\u001b[0m\u001b[0m\n",
            "\u001b[0;31mPicklingError\u001b[0m: Can't pickle <class 'MLP.MLPRegressor'>: it's not the same object as MLP.MLPRegressor"
          ]
        }
      ]
    },
    {
      "cell_type": "markdown",
      "metadata": {
        "id": "wcD9A_ORU7yB"
      },
      "source": [
        "As we can see our data is taking only 1 mb of our ram, let's see if we lost some information"
      ],
      "id": "wcD9A_ORU7yB"
    },
    {
      "cell_type": "markdown",
      "metadata": {
        "id": "SxfXK962Vd3R"
      },
      "source": [
        "As we can see from the statistics the upvotes almost representing the original data."
      ],
      "id": "SxfXK962Vd3R"
    },
    {
      "cell_type": "markdown",
      "metadata": {
        "id": "x_X_FSo7Egdj"
      },
      "source": [
        "## Feature Engineering and Exploration\n",
        "\n",
        "\n"
      ],
      "id": "x_X_FSo7Egdj"
    },
    {
      "cell_type": "code",
      "metadata": {
        "colab": {
          "base_uri": "https://localhost:8080/"
        },
        "id": "a8AbtatKHQAE",
        "outputId": "6bf1915e-7366-4506-e1b3-fb168a582299"
      },
      "source": [
        "import nltk\n",
        "from nltk import word_tokenize\n",
        "from nltk.corpus import stopwords\n",
        "import string\n",
        "nltk.download('stopwords')\n",
        "nltk.download('punkt')\n",
        "\n",
        "stopwords = set(stopwords.words('english'))\n",
        "\n",
        "best_titles = df.sort_values(by='up_votes', ascending=False)['title'].values[:10]\n",
        "best_words = set(np.concatenate([word_tokenize(t) for t in best_titles])) - stopwords\n",
        "best_words = {word.lower() for word in best_words}\n",
        "best_words = best_words - set(string.punctuation) - set(string.digits)\n",
        "\n",
        "def is_float(s):\n",
        "    try:\n",
        "        float(s)\n",
        "        return True\n",
        "    except ValueError:\n",
        "        return False\n",
        "\n",
        "best_words = {word for word in best_words if not is_float(word)}\n",
        "\n",
        "best_words = {word for word in best_words if \"'\" not in word}  # drop contractions"
      ],
      "id": "a8AbtatKHQAE",
      "execution_count": 170,
      "outputs": [
        {
          "output_type": "stream",
          "text": [
            "[nltk_data] Downloading package stopwords to /root/nltk_data...\n",
            "[nltk_data]   Package stopwords is already up-to-date!\n",
            "[nltk_data] Downloading package punkt to /root/nltk_data...\n",
            "[nltk_data]   Package punkt is already up-to-date!\n"
          ],
          "name": "stdout"
        }
      ]
    },
    {
      "cell_type": "code",
      "metadata": {
        "id": "wA5a-jHPHtr4"
      },
      "source": [
        "words_tokenized = [[w.lower() for w in word_tokenize(t)] for t in df['title']]\n",
        "df['tokenized_title'] = words_tokenized\n",
        "all_words = pd.Series(np.concatenate(words_tokenized)).value_counts()\n"
      ],
      "id": "wA5a-jHPHtr4",
      "execution_count": 171,
      "outputs": []
    },
    {
      "cell_type": "code",
      "metadata": {
        "id": "XKeIEqfbH1x-"
      },
      "source": [
        "all_words = all_words[[word not in stopwords for word in all_words.index]]\n",
        "all_words = all_words[[word not in string.punctuation for word in all_words.index]]\n",
        "all_words = all_words[[word not in string.digits for word in all_words.index]]\n",
        "all_words = all_words[[not is_float(word) for word in all_words.index]]\n",
        "all_words = all_words[[\"'\" not in word for word in all_words.index]]"
      ],
      "id": "XKeIEqfbH1x-",
      "execution_count": 172,
      "outputs": []
    },
    {
      "cell_type": "code",
      "metadata": {
        "colab": {
          "base_uri": "https://localhost:8080/"
        },
        "id": "J82xAyJcchbH",
        "outputId": "a2d8c582-04ba-438b-9f3f-27416a179e43"
      },
      "source": [
        "best_words"
      ],
      "id": "J82xAyJcchbH",
      "execution_count": 173,
      "outputs": [
        {
          "output_type": "execute_result",
          "data": {
            "text/plain": [
              "{'...',\n",
              " '5:59am',\n",
              " 'access',\n",
              " 'adds',\n",
              " 'adequate',\n",
              " 'adult',\n",
              " 'affordable',\n",
              " 'arrested',\n",
              " 'assault',\n",
              " 'barely',\n",
              " 'becomes',\n",
              " 'bill',\n",
              " 'blocking',\n",
              " 'bodies',\n",
              " 'britain',\n",
              " 'brits',\n",
              " 'child',\n",
              " 'combined',\n",
              " 'confirm',\n",
              " 'confirmed',\n",
              " 'considers',\n",
              " 'constitution',\n",
              " 'conviction',\n",
              " 'convictions',\n",
              " 'cost',\n",
              " 'crimes',\n",
              " 'democracy',\n",
              " 'dubai',\n",
              " 'duty',\n",
              " 'earthquake',\n",
              " 'elon',\n",
              " 'enshrining',\n",
              " 'ensure',\n",
              " 'ever',\n",
              " 'everyone',\n",
              " 'extra-marital',\n",
              " 'extreme',\n",
              " 'food',\n",
              " 'force',\n",
              " 'fukushima',\n",
              " 'fundamental',\n",
              " 'gang-raped',\n",
              " 'government',\n",
              " 'hits',\n",
              " 'install',\n",
              " 'isps',\n",
              " 'japan',\n",
              " 'law',\n",
              " 'legally',\n",
              " 'less',\n",
              " 'likely',\n",
              " 'magnitude',\n",
              " 'married',\n",
              " 'mean',\n",
              " 'men',\n",
              " 'mend',\n",
              " 'meter',\n",
              " 'move',\n",
              " 'musk',\n",
              " 'new',\n",
              " 'normal',\n",
              " 'november',\n",
              " 'overturn',\n",
              " 'passed',\n",
              " 'president',\n",
              " 'public',\n",
              " 'putin',\n",
              " 'rally',\n",
              " 'report',\n",
              " 'right',\n",
              " 'roof',\n",
              " 'russian',\n",
              " 'says',\n",
              " 'scotland',\n",
              " 'secure',\n",
              " 'sex',\n",
              " 'sites',\n",
              " 'slovenia',\n",
              " 'solar',\n",
              " 'sold',\n",
              " 'surveillance',\n",
              " 'tesla-solarcity',\n",
              " 'thousands',\n",
              " 'ties',\n",
              " 'time',\n",
              " 'trump',\n",
              " 'tsunami',\n",
              " 'turkey',\n",
              " 'uk',\n",
              " 'urged',\n",
              " 'victims',\n",
              " 'warning',\n",
              " 'water',\n",
              " 'whimper',\n",
              " 'willing',\n",
              " 'woman',\n",
              " 'would',\n",
              " '“',\n",
              " '”'}"
            ]
          },
          "metadata": {
            "tags": []
          },
          "execution_count": 173
        }
      ]
    },
    {
      "cell_type": "code",
      "metadata": {
        "colab": {
          "base_uri": "https://localhost:8080/"
        },
        "id": "h4OT6Ewlcsr6",
        "outputId": "cffe1880-85aa-4cc4-bbf7-ff228044853f"
      },
      "source": [
        "best_titles"
      ],
      "id": "h4OT6Ewlcsr6",
      "execution_count": 14,
      "outputs": [
        {
          "output_type": "execute_result",
          "data": {
            "text/plain": [
              "array(['UK admits it spied illegally for 17 years, is sorry, won t stop',\n",
              "       'Four rangers that protect elephants in Africa killed by poachers.',\n",
              "       '‘Alan Turing law’ unveiled by government will posthumously pardon thousands of gay men convicted of historic offences: The Enigma codebreaker s great neice says Government decision is  absolutely tremendous ',\n",
              "       'Chinese troops head to border with North Korea',\n",
              "       'German push to ban combustion-engine cars by 2030 wins support',\n",
              "       'China halts trading as stocks fall 7%',\n",
              "       ' It was satire, faux news  - Reports that Mexican drug leader El Chapo declared  war  on ISIS as run by NY Post, Forbes and Fox News have been proven false',\n",
              "       'Britain is the most corrupt country in the world, claims mafia expert Roberto Saviano:  It’s not the bureaucracy, it’s not the police, it’s not the politics but what is corrupt is the financial capital ',\n",
              "       'Malawi bans child marriage, lifts minimum age to 18',\n",
              "       'Islamic extremist shot dead in Berlin after stabbing police officer'],\n",
              "      dtype=object)"
            ]
          },
          "metadata": {
            "tags": []
          },
          "execution_count": 14
        }
      ]
    },
    {
      "cell_type": "code",
      "metadata": {
        "id": "79IVMNI0H2uB",
        "colab": {
          "base_uri": "https://localhost:8080/",
          "height": 283
        },
        "outputId": "0fa1621b-08d1-4d4b-9f63-1d823781c580"
      },
      "source": [
        "sns.barplot(x =all_words[:30].values, y=all_words[:30].index)"
      ],
      "id": "79IVMNI0H2uB",
      "execution_count": 12,
      "outputs": [
        {
          "output_type": "execute_result",
          "data": {
            "text/plain": [
              "<matplotlib.axes._subplots.AxesSubplot at 0x7f701079f450>"
            ]
          },
          "metadata": {
            "tags": []
          },
          "execution_count": 12
        },
        {
          "output_type": "display_data",
          "data": {
            "image/png": "[encoded data removed]",
            "text/plain": [
              "<Figure size 432x288 with 1 Axes>"
            ]
          },
          "metadata": {
            "tags": [],
            "needs_background": "light"
          }
        }
      ]
    },
    {
      "cell_type": "code",
      "metadata": {
        "id": "6ofiJJEVAmFR"
      },
      "source": [
        "def get_category(votes):\n",
        "  if votes < 10:\n",
        "    return \"low\"\n",
        "  elif votes > 10 and votes <120:\n",
        "    return \"moderate\"\n",
        "  \n",
        "  elif votes > 120 and votes <500:\n",
        "    return \"high\"\n",
        "\n",
        "  elif votes > 500 and votes <2000:\n",
        "    return \"very_high\"\n",
        "\n",
        "  elif votes > 2000:\n",
        "    return \"above_average\"\n",
        "\n",
        "df[\"votes_category\"] = df.up_votes.apply(lambda x: get_category(x))"
      ],
      "id": "6ofiJJEVAmFR",
      "execution_count": 41,
      "outputs": []
    },
    {
      "cell_type": "code",
      "metadata": {
        "colab": {
          "base_uri": "https://localhost:8080/",
          "height": 675
        },
        "id": "8iwxYEyXBU0M",
        "outputId": "abf6f52a-f5df-4358-a65e-3b67de8df74c"
      },
      "source": [
        "plt.figure(figsize=(10,10))\n",
        "df['votes_category'].value_counts().plot(kind=\"bar\")\n"
      ],
      "id": "8iwxYEyXBU0M",
      "execution_count": 42,
      "outputs": [
        {
          "output_type": "execute_result",
          "data": {
            "text/plain": [
              "<matplotlib.axes._subplots.AxesSubplot at 0x7f700d754ad0>"
            ]
          },
          "metadata": {
            "tags": []
          },
          "execution_count": 42
        },
        {
          "output_type": "display_data",
          "data": {
            "image/png": "[encoded data removed]",
            "text/plain": [
              "<Figure size 720x720 with 1 Axes>"
            ]
          },
          "metadata": {
            "tags": [],
            "needs_background": "light"
          }
        }
      ]
    },
    {
      "cell_type": "code",
      "metadata": {
        "id": "fNj1-qVoEo_w"
      },
      "source": [
        "df[\"word_count\"] = df.title.apply(lambda x: len(x.split()))"
      ],
      "id": "fNj1-qVoEo_w",
      "execution_count": 185,
      "outputs": []
    },
    {
      "cell_type": "code",
      "metadata": {
        "id": "FQd49CROFGDA"
      },
      "source": [
        "def subjective(text):\n",
        "  words = [\"i\", \"my\"]\n",
        "  count = 0\n",
        "  text = text.lower().split()\n",
        "  for word in words:\n",
        "    count += text.count(word)\n",
        "\n",
        "  return count"
      ],
      "id": "FQd49CROFGDA",
      "execution_count": 186,
      "outputs": []
    },
    {
      "cell_type": "code",
      "metadata": {
        "id": "Xup0HQOpEo9j"
      },
      "source": [
        "df[\"subjectivity\"] = df.title.apply(lambda x: subjective(x))"
      ],
      "id": "Xup0HQOpEo9j",
      "execution_count": 187,
      "outputs": []
    },
    {
      "cell_type": "code",
      "metadata": {
        "colab": {
          "base_uri": "https://localhost:8080/"
        },
        "id": "EJvMqWC4GkQh",
        "outputId": "a1368f0c-87d6-453e-ac5b-21b00028a07f"
      },
      "source": [
        "!pip install textstat\n"
      ],
      "id": "EJvMqWC4GkQh",
      "execution_count": 188,
      "outputs": [
        {
          "output_type": "stream",
          "text": [
            "Requirement already satisfied: textstat in /usr/local/lib/python3.7/dist-packages (0.7.0)\n",
            "Requirement already satisfied: pyphen in /usr/local/lib/python3.7/dist-packages (from textstat) (0.10.0)\n"
          ],
          "name": "stdout"
        }
      ]
    },
    {
      "cell_type": "code",
      "metadata": {
        "id": "kYB51PaYEo6y"
      },
      "source": [
        "import textstat\n",
        "textstat.set_lang(\"en\")\n"
      ],
      "id": "kYB51PaYEo6y",
      "execution_count": 189,
      "outputs": []
    },
    {
      "cell_type": "code",
      "metadata": {
        "id": "8Qm01IadEo39"
      },
      "source": [
        "df[\"readability_index\"] = df.title.apply(lambda x: textstat.automated_readability_index(x))"
      ],
      "id": "8Qm01IadEo39",
      "execution_count": 190,
      "outputs": []
    },
    {
      "cell_type": "code",
      "metadata": {
        "id": "QqtUW_OhHdrX"
      },
      "source": [
        "from vaderSentiment.vaderSentiment import SentimentIntensityAnalyzer\n",
        "analyser = SentimentIntensityAnalyzer()"
      ],
      "id": "QqtUW_OhHdrX",
      "execution_count": 191,
      "outputs": []
    },
    {
      "cell_type": "code",
      "metadata": {
        "colab": {
          "base_uri": "https://localhost:8080/"
        },
        "id": "eya4cxNPSGdA",
        "outputId": "fc451ba6-9d5a-4b51-b4ff-d37ae2e30870"
      },
      "source": [
        "analyser.polarity_scores(\"whatever it's\")"
      ],
      "id": "eya4cxNPSGdA",
      "execution_count": 192,
      "outputs": [
        {
          "output_type": "execute_result",
          "data": {
            "text/plain": [
              "{'compound': 0.0, 'neg': 0.0, 'neu': 1.0, 'pos': 0.0}"
            ]
          },
          "metadata": {
            "tags": []
          },
          "execution_count": 192
        }
      ]
    },
    {
      "cell_type": "code",
      "metadata": {
        "id": "8WM3KapRHdoo"
      },
      "source": [
        "df[\"neg_sentiment\"] = df.title.apply(lambda x: analyser.polarity_scores(x).get(\"neg\"))\n",
        "df[\"pos_sentiment\"] = df.title.apply(lambda x: analyser.polarity_scores(x).get(\"pos\"))\n",
        "df[\"neu_sentiment\"] = df.title.apply(lambda x: analyser.polarity_scores(x).get(\"neu\"))"
      ],
      "id": "8WM3KapRHdoo",
      "execution_count": 193,
      "outputs": []
    },
    {
      "cell_type": "code",
      "metadata": {
        "id": "BMKfLWTIHdlr"
      },
      "source": [
        "import datetime\n",
        "import calendar\n",
        "\n",
        "\n",
        "def weekday_from_date(date):\n",
        "  year, month, day = date.split(\"-\")\n",
        "  day_number = datetime.date(day=int(day), month=int(month), year=int(year)).weekday()\n",
        "  return calendar.day_name[day_number]"
      ],
      "id": "BMKfLWTIHdlr",
      "execution_count": 194,
      "outputs": []
    },
    {
      "cell_type": "code",
      "metadata": {
        "colab": {
          "base_uri": "https://localhost:8080/",
          "height": 35
        },
        "id": "vZNbLtQaJtJv",
        "outputId": "96bfeea6-8ff8-4b6e-cc8f-b11abe57ea7d"
      },
      "source": [
        "weekday_from_date(df.date_created.values[20])"
      ],
      "id": "vZNbLtQaJtJv",
      "execution_count": 195,
      "outputs": [
        {
          "output_type": "execute_result",
          "data": {
            "application/vnd.google.colaboratory.intrinsic+json": {
              "type": "string"
            },
            "text/plain": [
              "'Wednesday'"
            ]
          },
          "metadata": {
            "tags": []
          },
          "execution_count": 195
        }
      ]
    },
    {
      "cell_type": "code",
      "metadata": {
        "id": "Wzbu7EZXHdax"
      },
      "source": [
        "df[\"day_created\"] = df.date_created.apply(lambda x: weekday_from_date(x))\n",
        "\n",
        "day_dummies = pd.get_dummies(df.day_created, prefix='day')\n",
        "\n",
        "df = pd.concat([df, day_dummies], axis=1)\n"
      ],
      "id": "Wzbu7EZXHdax",
      "execution_count": 196,
      "outputs": []
    },
    {
      "cell_type": "code",
      "metadata": {
        "id": "9Du2NBQ7N9Td"
      },
      "source": [
        "def uppercase_ratio(text):\n",
        "  res = list(filter(lambda c: c.isupper(), text))\n",
        "  ratio = len(res)/len(text.replace(\" \", \"\"))\n",
        "  return ratio"
      ],
      "id": "9Du2NBQ7N9Td",
      "execution_count": 197,
      "outputs": []
    },
    {
      "cell_type": "code",
      "metadata": {
        "id": "jXFd3I5UOHrH"
      },
      "source": [
        "df[\"uppercase_ratio\"] = df.title.apply(lambda x: uppercase_ratio(x))"
      ],
      "id": "jXFd3I5UOHrH",
      "execution_count": 198,
      "outputs": []
    },
    {
      "cell_type": "code",
      "metadata": {
        "colab": {
          "base_uri": "https://localhost:8080/"
        },
        "id": "2Cy7Mjc0UHAT",
        "outputId": "d8d60add-39af-44d2-a176-f9ed12d2fca1"
      },
      "source": [
        "!pip install detoxify\n"
      ],
      "id": "2Cy7Mjc0UHAT",
      "execution_count": 200,
      "outputs": [
        {
          "output_type": "stream",
          "text": [
            "Requirement already satisfied: detoxify in /usr/local/lib/python3.7/dist-packages (0.2.2)\n",
            "Requirement already satisfied: transformers>=3.2.0 in /usr/local/lib/python3.7/dist-packages (from detoxify) (4.5.1)\n",
            "Requirement already satisfied: torch>=1.7.0 in /usr/local/lib/python3.7/dist-packages (from detoxify) (1.8.1+cu101)\n",
            "Requirement already satisfied: sentencepiece>=0.1.94 in /usr/local/lib/python3.7/dist-packages (from detoxify) (0.1.95)\n",
            "Requirement already satisfied: regex!=2019.12.17 in /usr/local/lib/python3.7/dist-packages (from transformers>=3.2.0->detoxify) (2019.12.20)\n",
            "Requirement already satisfied: tqdm>=4.27 in /usr/local/lib/python3.7/dist-packages (from transformers>=3.2.0->detoxify) (4.41.1)\n",
            "Requirement already satisfied: importlib-metadata; python_version < \"3.8\" in /usr/local/lib/python3.7/dist-packages (from transformers>=3.2.0->detoxify) (3.10.1)\n",
            "Requirement already satisfied: tokenizers<0.11,>=0.10.1 in /usr/local/lib/python3.7/dist-packages (from transformers>=3.2.0->detoxify) (0.10.2)\n",
            "Requirement already satisfied: packaging in /usr/local/lib/python3.7/dist-packages (from transformers>=3.2.0->detoxify) (20.9)\n",
            "Requirement already satisfied: numpy>=1.17 in /usr/local/lib/python3.7/dist-packages (from transformers>=3.2.0->detoxify) (1.19.5)\n",
            "Requirement already satisfied: requests in /usr/local/lib/python3.7/dist-packages (from transformers>=3.2.0->detoxify) (2.23.0)\n",
            "Requirement already satisfied: filelock in /usr/local/lib/python3.7/dist-packages (from transformers>=3.2.0->detoxify) (3.0.12)\n",
            "Requirement already satisfied: sacremoses in /usr/local/lib/python3.7/dist-packages (from transformers>=3.2.0->detoxify) (0.0.45)\n",
            "Requirement already satisfied: typing-extensions in /usr/local/lib/python3.7/dist-packages (from torch>=1.7.0->detoxify) (3.7.4.3)\n",
            "Requirement already satisfied: zipp>=0.5 in /usr/local/lib/python3.7/dist-packages (from importlib-metadata; python_version < \"3.8\"->transformers>=3.2.0->detoxify) (3.4.1)\n",
            "Requirement already satisfied: pyparsing>=2.0.2 in /usr/local/lib/python3.7/dist-packages (from packaging->transformers>=3.2.0->detoxify) (2.4.7)\n",
            "Requirement already satisfied: urllib3!=1.25.0,!=1.25.1,<1.26,>=1.21.1 in /usr/local/lib/python3.7/dist-packages (from requests->transformers>=3.2.0->detoxify) (1.24.3)\n",
            "Requirement already satisfied: chardet<4,>=3.0.2 in /usr/local/lib/python3.7/dist-packages (from requests->transformers>=3.2.0->detoxify) (3.0.4)\n",
            "Requirement already satisfied: idna<3,>=2.5 in /usr/local/lib/python3.7/dist-packages (from requests->transformers>=3.2.0->detoxify) (2.10)\n",
            "Requirement already satisfied: certifi>=2017.4.17 in /usr/local/lib/python3.7/dist-packages (from requests->transformers>=3.2.0->detoxify) (2020.12.5)\n",
            "Requirement already satisfied: click in /usr/local/lib/python3.7/dist-packages (from sacremoses->transformers>=3.2.0->detoxify) (7.1.2)\n",
            "Requirement already satisfied: six in /usr/local/lib/python3.7/dist-packages (from sacremoses->transformers>=3.2.0->detoxify) (1.15.0)\n",
            "Requirement already satisfied: joblib in /usr/local/lib/python3.7/dist-packages (from sacremoses->transformers>=3.2.0->detoxify) (1.0.1)\n"
          ],
          "name": "stdout"
        }
      ]
    },
    {
      "cell_type": "code",
      "metadata": {
        "id": "VRxRAU1sgqxh",
        "colab": {
          "base_uri": "https://localhost:8080/",
          "height": 299,
          "referenced_widgets": [
            "e49f8d996054497c967cc8a5a3f46993",
            "9219ea2281be483cbcca6f5f8d46eb49",
            "f9adfdff1e2a4453bef4ea7fe9a49fa4",
            "54175be60879452990178e09ae11572a",
            "0c7153358f5e4aea9603c4f0212564bc",
            "24be962229c8459aa5b2c4a9a6267d38",
            "a6b0c77a336d48dd967f3da46dadac4c",
            "3f271419915643f18477b7bf030dd8ca",
            "4b524e0029cf48df83bdb439fc439d7e",
            "e43f26c4c6fd430a9a6a5646f217fa37",
            "e5a22920ce314935bde6d4502f518152",
            "aab837c4fc4a42da812f079e91f99ced",
            "0ae5ba141dfa4eacb4fc99c2823eaae4",
            "39bced7c84d74e72875bfb4ec0efc67a",
            "567a4fe155c747efbb50c2be4cfc6d8e",
            "01d6a199c97a42e5a367b099b577c722",
            "27c06cf9d73842109926b33441862104",
            "87c701b1e36c44f984cbdef3c20db99a",
            "a714984b390343e1a235b9d210c84876",
            "126b151596eb430d96f4ff06a716b9a6",
            "166bb710f6ba4639b97d45780fe945e2",
            "ba979092ff844ac1847000e6b0bdc48b",
            "b755324941df4e33b7f2ba7978471612",
            "0e6f5013b5474f43a2f5b61114357509",
            "1e9163dd344646efac8cd309028d51d1",
            "651b16b0c89d49a897752ac0306637b8",
            "0756e66ac01d4d63804c388d22a8cfa8",
            "99cfb1aa9c5b4da9a7d2682a6a1516dc",
            "f20e70f5871444a5ae1767eafc10164b",
            "1fafd12f81be4ddc9029d3c0a0e2cf7f",
            "ccb547d236b2466e9edd3a201ee13466",
            "e0eccafbf4af4e679ebe7949ba02c083",
            "e9b908ed3bce4939a4add192c04c0812",
            "016caafc0f8f43a187cbebcebca3c59c",
            "136a0cd46c9141b0890aad17c5d124a2",
            "e49a9bb7b0c64667b4d47e6a74dd3125",
            "63590ee3de1c425789404a357115bad3",
            "d41f7025ca7e4f03b8b6ee39651818e3",
            "d172a94f0f464d61b86783d5e1d6ddeb",
            "3e0ab6598afb47b5a10d83b49d59126e"
          ]
        },
        "outputId": "92e52f7c-0972-44cf-dcf2-a3420a4d8927"
      },
      "source": [
        "from detoxify import Detoxify\n",
        "\n",
        "# each model takes in either a string or a list of strings\n",
        "\n",
        "toxicity_model = Detoxify('original')\n"
      ],
      "id": "VRxRAU1sgqxh",
      "execution_count": 201,
      "outputs": [
        {
          "output_type": "stream",
          "text": [
            "Downloading: \"https://github.com/unitaryai/detoxify/releases/download/v0.1-alpha/toxic_original-c1212f89.ckpt\" to /root/.cache/torch/hub/checkpoints/toxic_original-c1212f89.ckpt\n"
          ],
          "name": "stderr"
        },
        {
          "output_type": "display_data",
          "data": {
            "application/vnd.jupyter.widget-view+json": {
              "model_id": "e49f8d996054497c967cc8a5a3f46993",
              "version_minor": 0,
              "version_major": 2
            },
            "text/plain": [
              "HBox(children=(FloatProgress(value=0.0, max=438021897.0), HTML(value='')))"
            ]
          },
          "metadata": {
            "tags": []
          }
        },
        {
          "output_type": "stream",
          "text": [
            "\n"
          ],
          "name": "stdout"
        },
        {
          "output_type": "display_data",
          "data": {
            "application/vnd.jupyter.widget-view+json": {
              "model_id": "4b524e0029cf48df83bdb439fc439d7e",
              "version_minor": 0,
              "version_major": 2
            },
            "text/plain": [
              "HBox(children=(FloatProgress(value=0.0, description='Downloading', max=433.0, style=ProgressStyle(description_…"
            ]
          },
          "metadata": {
            "tags": []
          }
        },
        {
          "output_type": "stream",
          "text": [
            "\n"
          ],
          "name": "stdout"
        },
        {
          "output_type": "display_data",
          "data": {
            "application/vnd.jupyter.widget-view+json": {
              "model_id": "27c06cf9d73842109926b33441862104",
              "version_minor": 0,
              "version_major": 2
            },
            "text/plain": [
              "HBox(children=(FloatProgress(value=0.0, description='Downloading', max=231508.0, style=ProgressStyle(descripti…"
            ]
          },
          "metadata": {
            "tags": []
          }
        },
        {
          "output_type": "stream",
          "text": [
            "\n"
          ],
          "name": "stdout"
        },
        {
          "output_type": "display_data",
          "data": {
            "application/vnd.jupyter.widget-view+json": {
              "model_id": "1e9163dd344646efac8cd309028d51d1",
              "version_minor": 0,
              "version_major": 2
            },
            "text/plain": [
              "HBox(children=(FloatProgress(value=0.0, description='Downloading', max=28.0, style=ProgressStyle(description_w…"
            ]
          },
          "metadata": {
            "tags": []
          }
        },
        {
          "output_type": "stream",
          "text": [
            "\n"
          ],
          "name": "stdout"
        },
        {
          "output_type": "display_data",
          "data": {
            "application/vnd.jupyter.widget-view+json": {
              "model_id": "e9b908ed3bce4939a4add192c04c0812",
              "version_minor": 0,
              "version_major": 2
            },
            "text/plain": [
              "HBox(children=(FloatProgress(value=0.0, description='Downloading', max=466062.0, style=ProgressStyle(descripti…"
            ]
          },
          "metadata": {
            "tags": []
          }
        },
        {
          "output_type": "stream",
          "text": [
            "\n"
          ],
          "name": "stdout"
        }
      ]
    },
    {
      "cell_type": "code",
      "metadata": {
        "id": "nDXklwb0gquT"
      },
      "source": [
        "df[\"toxic\"] = df.title.apply(lambda x: toxicity_model.predict(x).get(\"toxicity\"))"
      ],
      "id": "nDXklwb0gquT",
      "execution_count": null,
      "outputs": []
    },
    {
      "cell_type": "code",
      "metadata": {
        "colab": {
          "base_uri": "https://localhost:8080/"
        },
        "id": "F8iguh8Y8e-7",
        "outputId": "2c29cae0-0678-4d7f-a202-d452ff05f8fa"
      },
      "source": [
        "df.columns"
      ],
      "id": "F8iguh8Y8e-7",
      "execution_count": 202,
      "outputs": [
        {
          "output_type": "execute_result",
          "data": {
            "text/plain": [
              "Index(['date_created', 'up_votes', 'title', 'over_18', 'author', 'word_count',\n",
              "       'subjectivity', 'readability_index', 'neg_sentiment', 'pos_sentiment',\n",
              "       'neu_sentiment', 'day_created', 'day_Friday', 'day_Monday',\n",
              "       'day_Saturday', 'day_Sunday', 'day_Thursday', 'day_Tuesday',\n",
              "       'day_Wednesday', 'uppercase_ratio', 'up_votes_scaled'],\n",
              "      dtype='object')"
            ]
          },
          "metadata": {
            "tags": []
          },
          "execution_count": 202
        }
      ]
    },
    {
      "cell_type": "code",
      "metadata": {
        "colab": {
          "base_uri": "https://localhost:8080/",
          "height": 280
        },
        "id": "3pnjxqP777E2",
        "outputId": "1c8824f4-2c8f-490c-a742-f84bc7915cab"
      },
      "source": [
        "ax2 = df.plot.scatter(x='toxic',\n",
        "                      y='up_votes',\n",
        "                      c='blue',\n",
        "                      colormap='viridis')"
      ],
      "id": "3pnjxqP777E2",
      "execution_count": null,
      "outputs": [
        {
          "output_type": "display_data",
          "data": {
            "image/png": "[encoded data removed]",
            "text/plain": [
              "<Figure size 432x288 with 1 Axes>"
            ]
          },
          "metadata": {
            "tags": [],
            "needs_background": "light"
          }
        }
      ]
    },
    {
      "cell_type": "code",
      "metadata": {
        "colab": {
          "base_uri": "https://localhost:8080/",
          "height": 279
        },
        "id": "bykSYlPD8bPf",
        "outputId": "77e574eb-8e4d-4e55-f0ed-bc25f496122a"
      },
      "source": [
        "ax2 = high_votes_df.plot.scatter(x='subjectivity',\n",
        "                      y='up_votes',\n",
        "                      c='blue',\n",
        "                      colormap='viridis')"
      ],
      "id": "bykSYlPD8bPf",
      "execution_count": 45,
      "outputs": [
        {
          "output_type": "display_data",
          "data": {
            "image/png": "[encoded data removed]",
            "text/plain": [
              "<Figure size 432x288 with 1 Axes>"
            ]
          },
          "metadata": {
            "tags": [],
            "needs_background": "light"
          }
        }
      ]
    },
    {
      "cell_type": "code",
      "metadata": {
        "colab": {
          "base_uri": "https://localhost:8080/",
          "height": 280
        },
        "id": "gMwI7S2i77Bu",
        "outputId": "06db417c-b557-4550-e17a-9cfa37557fe3"
      },
      "source": [
        "ax2 = high_votes_df.plot.scatter(x='readability_index',\n",
        "                      y='up_votes',\n",
        "                      c='blue',\n",
        "                      colormap='viridis')"
      ],
      "id": "gMwI7S2i77Bu",
      "execution_count": 46,
      "outputs": [
        {
          "output_type": "display_data",
          "data": {
            "image/png": "[encoded data removed]",
            "text/plain": [
              "<Figure size 432x288 with 1 Axes>"
            ]
          },
          "metadata": {
            "tags": [],
            "needs_background": "light"
          }
        }
      ]
    },
    {
      "cell_type": "code",
      "metadata": {
        "colab": {
          "base_uri": "https://localhost:8080/",
          "height": 280
        },
        "id": "HrfVFP9Q769z",
        "outputId": "4deba3b9-ff57-4474-c103-accf07affc00"
      },
      "source": [
        "ax2 = high_votes_df.plot.scatter(x='word_count',\n",
        "                      y='up_votes',\n",
        "                      c='blue',\n",
        "                      colormap='viridis')"
      ],
      "id": "HrfVFP9Q769z",
      "execution_count": 47,
      "outputs": [
        {
          "output_type": "display_data",
          "data": {
            "image/png": "[encoded data removed]",
            "text/plain": [
              "<Figure size 432x288 with 1 Axes>"
            ]
          },
          "metadata": {
            "tags": [],
            "needs_background": "light"
          }
        }
      ]
    },
    {
      "cell_type": "code",
      "metadata": {
        "colab": {
          "base_uri": "https://localhost:8080/",
          "height": 280
        },
        "id": "w6KZrJGI76vh",
        "outputId": "865e7b74-48b4-4cbb-a059-add18c5b0d09"
      },
      "source": [
        "ax2 = high_votes_df.plot.scatter(x='pos_sentiment',\n",
        "                      y='up_votes',\n",
        "                      c='blue',\n",
        "                      colormap='viridis')"
      ],
      "id": "w6KZrJGI76vh",
      "execution_count": 48,
      "outputs": [
        {
          "output_type": "display_data",
          "data": {
            "image/png": "[encoded data removed]",
            "text/plain": [
              "<Figure size 432x288 with 1 Axes>"
            ]
          },
          "metadata": {
            "tags": [],
            "needs_background": "light"
          }
        }
      ]
    },
    {
      "cell_type": "code",
      "metadata": {
        "colab": {
          "base_uri": "https://localhost:8080/",
          "height": 280
        },
        "id": "4M5ippJc8qTm",
        "outputId": "007075ff-22c5-4565-8d5e-01540393b163"
      },
      "source": [
        "ax2 = high_votes_df.plot.scatter(x='uppercase_ratio',\n",
        "                      y='up_votes_scaled',\n",
        "                      c='blue',\n",
        "                      colormap='viridis')"
      ],
      "id": "4M5ippJc8qTm",
      "execution_count": 49,
      "outputs": [
        {
          "output_type": "display_data",
          "data": {
            "image/png": "[encoded data removed]",
            "text/plain": [
              "<Figure size 432x288 with 1 Axes>"
            ]
          },
          "metadata": {
            "tags": [],
            "needs_background": "light"
          }
        }
      ]
    },
    {
      "cell_type": "code",
      "metadata": {
        "colab": {
          "base_uri": "https://localhost:8080/",
          "height": 280
        },
        "id": "04VtEoqD8qQ6",
        "outputId": "ed3ebfc6-c942-459a-92a2-08c663489b4b"
      },
      "source": [
        "ax2 = high_votes_df.plot.scatter(x='neu_sentiment',\n",
        "                      y='up_votes',\n",
        "                      c='blue',\n",
        "                      colormap='viridis')"
      ],
      "id": "04VtEoqD8qQ6",
      "execution_count": 50,
      "outputs": [
        {
          "output_type": "display_data",
          "data": {
            "image/png": "[encoded data removed]",
            "text/plain": [
              "<Figure size 432x288 with 1 Axes>"
            ]
          },
          "metadata": {
            "tags": [],
            "needs_background": "light"
          }
        }
      ]
    },
    {
      "cell_type": "code",
      "metadata": {
        "colab": {
          "base_uri": "https://localhost:8080/",
          "height": 280
        },
        "id": "FZQFWOjndmJR",
        "outputId": "8ecaf4ec-57bb-4197-8e2f-5839501c8ae5"
      },
      "source": [
        "ax2 = high_votes_df.plot.scatter(x='neg_sentiment',\n",
        "                      y='up_votes',\n",
        "                      c='blue',\n",
        "                      colormap='viridis')"
      ],
      "id": "FZQFWOjndmJR",
      "execution_count": 51,
      "outputs": [
        {
          "output_type": "display_data",
          "data": {
            "image/png": "[encoded data removed]",
            "text/plain": [
              "<Figure size 432x288 with 1 Axes>"
            ]
          },
          "metadata": {
            "tags": [],
            "needs_background": "light"
          }
        }
      ]
    },
    {
      "cell_type": "code",
      "metadata": {
        "colab": {
          "base_uri": "https://localhost:8080/",
          "height": 298
        },
        "id": "9tP6Tw6A8pqX",
        "outputId": "22db7219-c101-4748-b0ed-e52afe136fdd"
      },
      "source": [
        "sns.violinplot(x=\"votes_category\", y=\"word_count\", hue=\"over_18\", data=high_votes_df)"
      ],
      "id": "9tP6Tw6A8pqX",
      "execution_count": 232,
      "outputs": [
        {
          "output_type": "execute_result",
          "data": {
            "text/plain": [
              "<matplotlib.axes._subplots.AxesSubplot at 0x7f700d366e50>"
            ]
          },
          "metadata": {
            "tags": []
          },
          "execution_count": 232
        },
        {
          "output_type": "display_data",
          "data": {
            "image/png": "[encoded data removed]",
            "text/plain": [
              "<Figure size 432x288 with 1 Axes>"
            ]
          },
          "metadata": {
            "tags": [],
            "needs_background": "light"
          }
        }
      ]
    },
    {
      "cell_type": "code",
      "metadata": {
        "colab": {
          "base_uri": "https://localhost:8080/",
          "height": 298
        },
        "id": "IJKHnbcbF9XY",
        "outputId": "5df20792-6633-4c70-9ff0-bc3ad539e6ec"
      },
      "source": [
        "sns.violinplot(x=\"votes_category\", y=\"neu_sentiment\", hue=\"over_18\", data=high_votes_df)"
      ],
      "id": "IJKHnbcbF9XY",
      "execution_count": 233,
      "outputs": [
        {
          "output_type": "execute_result",
          "data": {
            "text/plain": [
              "<matplotlib.axes._subplots.AxesSubplot at 0x7f700d32a410>"
            ]
          },
          "metadata": {
            "tags": []
          },
          "execution_count": 233
        },
        {
          "output_type": "display_data",
          "data": {
            "image/png": "[encoded data removed]",
            "text/plain": [
              "<Figure size 432x288 with 1 Axes>"
            ]
          },
          "metadata": {
            "tags": [],
            "needs_background": "light"
          }
        }
      ]
    },
    {
      "cell_type": "code",
      "metadata": {
        "id": "yLh0BwWkF9Oa"
      },
      "source": [
        ""
      ],
      "id": "yLh0BwWkF9Oa",
      "execution_count": null,
      "outputs": []
    },
    {
      "cell_type": "code",
      "metadata": {
        "colab": {
          "base_uri": "https://localhost:8080/",
          "height": 851
        },
        "id": "fwrZMeS9RHnf",
        "outputId": "e0a24e66-3c93-46fa-8b5f-f8606108e711"
      },
      "source": [
        "plt.figure(figsize=(13, 13))\n",
        "sns.heatmap(df.corr(), annot=True)"
      ],
      "id": "fwrZMeS9RHnf",
      "execution_count": null,
      "outputs": [
        {
          "output_type": "execute_result",
          "data": {
            "text/plain": [
              "<matplotlib.axes._subplots.AxesSubplot at 0x7f883e4205d0>"
            ]
          },
          "metadata": {
            "tags": []
          },
          "execution_count": 274
        },
        {
          "output_type": "display_data",
          "data": {
            "image/png": "[encoded data removed]",
            "text/plain": [
              "<Figure size 936x936 with 2 Axes>"
            ]
          },
          "metadata": {
            "tags": [],
            "needs_background": "light"
          }
        }
      ]
    },
    {
      "cell_type": "markdown",
      "metadata": {
        "id": "2vixU-nMfyvz"
      },
      "source": [
        "## Data Cleaning and Visualization"
      ],
      "id": "2vixU-nMfyvz"
    },
    {
      "cell_type": "code",
      "metadata": {
        "colab": {
          "base_uri": "https://localhost:8080/"
        },
        "id": "historic-stopping",
        "outputId": "b34caad1-fa5c-4291-b47c-6d55ddbe2bc8"
      },
      "source": [
        "# Load the regular expression library\n",
        "import re\n",
        "# Remove punctuation\n",
        "df['title'] = \\\n",
        "df['title'].map(lambda x: re.sub('[,\\.!?]', '', x))\n",
        "# Convert the titles to lowercase\n",
        "df['title'] = \\\n",
        "df['title'].map(lambda x: x.lower())\n",
        "# Print out the first rows of papers\n",
        "df['title'].head()"
      ],
      "id": "historic-stopping",
      "execution_count": null,
      "outputs": [
        {
          "output_type": "execute_result",
          "data": {
            "text/plain": [
              "256860    settlers bulldoze palestinian lands near nablu...\n",
              "383606    high court rules uk data retention and surveil...\n",
              "110654    china and india: rival middle east strategies ...\n",
              "306292     shariah police  ditch vests and change name: ...\n",
              "480094    syria s war: 50 killed in daesh attack in qami...\n",
              "Name: title, dtype: object"
            ]
          },
          "metadata": {
            "tags": []
          },
          "execution_count": 337
        }
      ]
    },
    {
      "cell_type": "code",
      "metadata": {
        "colab": {
          "base_uri": "https://localhost:8080/",
          "height": 217
        },
        "id": "weighted-detail",
        "outputId": "b6c0b19b-860a-489c-df40-de376970a35a"
      },
      "source": [
        "from wordcloud import WordCloud\n",
        "# Join the different processed titles together.\n",
        "long_string = ','.join(list(df['title'].values))\n",
        "# Create a WordCloud object\n",
        "wordcloud = WordCloud(background_color=\"white\", max_words=5000, contour_width=3, contour_color='steelblue')\n",
        "# Generate a word cloud\n",
        "wordcloud.generate(long_string)\n",
        "# Visualize the word cloud\n",
        "wordcloud.to_image()"
      ],
      "id": "weighted-detail",
      "execution_count": null,
      "outputs": [
        {
          "output_type": "execute_result",
          "data": {
            "image/png": "[encoded data removed]",
            "text/plain": [
              "<PIL.Image.Image image mode=RGB size=400x200 at 0x7F88B958B5D0>"
            ]
          },
          "metadata": {
            "tags": []
          },
          "execution_count": 35
        }
      ]
    },
    {
      "cell_type": "markdown",
      "metadata": {
        "id": "Qng1G7VOfYn3"
      },
      "source": [
        "## Classification Text Vs Features"
      ],
      "id": "Qng1G7VOfYn3"
    },
    {
      "cell_type": "code",
      "metadata": {
        "id": "obiuqYndVktM"
      },
      "source": [
        "from sklearn.linear_model import RidgeClassifierCV\n",
        "from sklearn.ensemble import RandomForestClassifier\n",
        "from sklearn.tree import DecisionTreeClassifier\n",
        "from sklearn.neural_network import MLPClassifier\n",
        "from sklearn.metrics import mean_squared_error, mean_absolute_error, accuracy_score, f1_score\n",
        "\n",
        "\n",
        "clfs = {\"NeuralNetwork\":MLPClassifier(solver='adam', alpha=1e-5, hidden_layer_sizes=(128, 64, 32), random_state=1), \n",
        "        \"RidgeClassifierCV\":RidgeClassifierCV(),\n",
        "        \"RandomForestClassifier\":RandomForestClassifier()}\n",
        "\n",
        "def evaluate_clfs(x_train, x_valid, y_train, y_valid, clfs):\n",
        "  for name, clf in clfs.items():\n",
        "    print(f\"Training {name} Classifier...\")\n",
        "\n",
        "    clf.fit(x_train, y_train)\n",
        "    print(f\"Evaluating {name} Classifier:\")\n",
        "    curr_preds = clf.predict(x_valid)\n",
        "    \n",
        "    print(f\"Accuracy for {name}:{accuracy_score(curr_preds, y_valid)}\")\n",
        "\n",
        "    print(f\"F1_score for {name}:{f1_score(curr_preds, y_valid)}\")\n",
        "\n",
        "\n",
        "    try:\n",
        "      importance = clf.coef_\n",
        "      # summarize feature importance\n",
        "      print(\"\\n --------------------------- \\n\")\n",
        "      for i,v in enumerate(importance):\n",
        "        print('Feature: %0d, Score: %.5f' % (df_columns[i],v))\n",
        "    except:\n",
        "      print(\"Classifier doesn't have feature importance\")\n",
        "\n",
        "    else:\n",
        "      importance = clf.coef_\n",
        "      # summarize feature importance\n",
        "      for i,v in enumerate(importance):\n",
        "        print('Feature: %0d, Score: %.5f' % (df_columns[i],v))\n",
        "\n",
        "    print(\"\\n\\n --------------------------- \\n\\n\")\n"
      ],
      "id": "obiuqYndVktM",
      "execution_count": 216,
      "outputs": []
    },
    {
      "cell_type": "code",
      "metadata": {
        "id": "QwFtIAtmEm3M",
        "colab": {
          "base_uri": "https://localhost:8080/"
        },
        "outputId": "4d15f6de-d967-4ee8-c15a-4676d03d8c1c"
      },
      "source": [
        "df_training = df[df[\"up_votes\"]<500]\n",
        "df_training[\"votes_cat\"] = df_training.up_votes.apply(lambda x: 1 if x > 8 else 0)\n",
        "df_processed = df_training.drop([\"up_votes\", \"up_votes_scaled\", \"title\", \"date_created\", \"author\", \"day_created\", \"votes_cat\"], axis=1)\n",
        "\n",
        "labels = df_training.votes_cat.values\n",
        "df_columns = df_processed.columns"
      ],
      "id": "QwFtIAtmEm3M",
      "execution_count": 228,
      "outputs": [
        {
          "output_type": "stream",
          "text": [
            "/usr/local/lib/python3.7/dist-packages/ipykernel_launcher.py:2: SettingWithCopyWarning: \n",
            "A value is trying to be set on a copy of a slice from a DataFrame.\n",
            "Try using .loc[row_indexer,col_indexer] = value instead\n",
            "\n",
            "See the caveats in the documentation: https://pandas.pydata.org/pandas-docs/stable/user_guide/indexing.html#returning-a-view-versus-a-copy\n",
            "  \n"
          ],
          "name": "stderr"
        }
      ]
    },
    {
      "cell_type": "code",
      "metadata": {
        "colab": {
          "base_uri": "https://localhost:8080/"
        },
        "id": "QzHT9jynfdgt",
        "outputId": "510bc1bb-21fb-46ba-f510-5101a825c653"
      },
      "source": [
        "from sklearn.feature_extraction.text import TfidfVectorizer\n",
        "\n",
        "vectorizer = TfidfVectorizer()\n",
        "\n",
        "#using only word features\n",
        "data_tran = vectorizer.fit_transform(df_training.title.values).toarray()\n",
        "Xtrain, Xvalid, ytrain, ytest = train_test_split(data_tran, labels, test_size=0.2)\n",
        "evaluate_clfs(Xtrain, Xvalid, ytrain, ytest, clfs)"
      ],
      "id": "QzHT9jynfdgt",
      "execution_count": 224,
      "outputs": [
        {
          "output_type": "stream",
          "text": [
            "Training NeuralNetwork Classifier...\n",
            "Evaluating NeuralNetwork Classifier:\n",
            "Accuracy for NeuralNetwork:0.8928104575163399\n",
            "F1_score for NeuralNetwork:0.0\n",
            "Classifier doesn't have feature importance\n",
            "\n",
            "\n",
            " --------------------------- \n",
            "\n",
            "\n",
            "Training RidgeClassifierCV Classifier...\n",
            "Evaluating RidgeClassifierCV Classifier:\n",
            "Accuracy for RidgeClassifierCV:0.9254901960784314\n",
            "F1_score for RidgeClassifierCV:0.0\n",
            "\n",
            " --------------------------- \n",
            "\n",
            "Classifier doesn't have feature importance\n",
            "\n",
            "\n",
            " --------------------------- \n",
            "\n",
            "\n",
            "Training RandomForestClassifier Classifier...\n",
            "Evaluating RandomForestClassifier Classifier:\n",
            "Accuracy for RandomForestClassifier:0.9254901960784314\n",
            "F1_score for RandomForestClassifier:0.0\n",
            "Classifier doesn't have feature importance\n",
            "\n",
            "\n",
            " --------------------------- \n",
            "\n",
            "\n"
          ],
          "name": "stdout"
        }
      ]
    },
    {
      "cell_type": "code",
      "metadata": {
        "id": "AlM2n-rNUjeb",
        "colab": {
          "base_uri": "https://localhost:8080/"
        },
        "outputId": "2e41851c-14ba-4683-b61b-95deb38001f2"
      },
      "source": [
        "# using min max scaler\n",
        "scaler = MinMaxScaler()\n",
        "\n",
        "df_processed = scaler.fit_transform(df_processed)\n",
        "Xtrain, Xvalid, ytrain, ytest = train_test_split(df_processed, labels, test_size=0.2)\n",
        "evaluate_clfs(Xtrain, Xvalid, ytrain, ytest, clfs)"
      ],
      "id": "AlM2n-rNUjeb",
      "execution_count": 221,
      "outputs": [
        {
          "output_type": "stream",
          "text": [
            "Training NeuralNetwork Classifier...\n"
          ],
          "name": "stdout"
        },
        {
          "output_type": "stream",
          "text": [
            "/usr/local/lib/python3.7/dist-packages/sklearn/neural_network/_multilayer_perceptron.py:571: ConvergenceWarning: Stochastic Optimizer: Maximum iterations (200) reached and the optimization hasn't converged yet.\n",
            "  % self.max_iter, ConvergenceWarning)\n"
          ],
          "name": "stderr"
        },
        {
          "output_type": "stream",
          "text": [
            "Evaluating NeuralNetwork Classifier:\n",
            "Accuracy for NeuralNetwork:0.9464052287581699\n",
            "F1_score for NeuralNetwork:0.0\n",
            "Classifier doesn't have feature importance\n",
            "\n",
            "\n",
            " --------------------------- \n",
            "\n",
            "\n",
            "Training RidgeClassifierCV Classifier...\n",
            "Evaluating RidgeClassifierCV Classifier:\n",
            "Accuracy for RidgeClassifierCV:0.9464052287581699\n",
            "F1_score for RidgeClassifierCV:0.0\n",
            "\n",
            " --------------------------- \n",
            "\n",
            "Classifier doesn't have feature importance\n",
            "\n",
            "\n",
            " --------------------------- \n",
            "\n",
            "\n",
            "Training RandomForestClassifier Classifier...\n",
            "Evaluating RandomForestClassifier Classifier:\n",
            "Accuracy for RandomForestClassifier:0.9464052287581699\n",
            "F1_score for RandomForestClassifier:0.0\n",
            "Classifier doesn't have feature importance\n",
            "\n",
            "\n",
            " --------------------------- \n",
            "\n",
            "\n"
          ],
          "name": "stdout"
        }
      ]
    },
    {
      "cell_type": "code",
      "metadata": {
        "colab": {
          "base_uri": "https://localhost:8080/"
        },
        "id": "FuhFJxE5oL4X",
        "outputId": "d2a50137-70b1-4611-909f-063297b15d80"
      },
      "source": [
        "# using robust scaler\n",
        "scaler = RobustScaler()\n",
        "\n",
        "df_processed = scaler.fit_transform(df_processed)\n",
        "\n",
        "Xtrain, Xvalid, ytrain, ytest = train_test_split(df_processed, labels, test_size=0.2)\n",
        "evaluate_clfs(Xtrain, Xvalid, ytrain, ytest, clfs)\n"
      ],
      "id": "FuhFJxE5oL4X",
      "execution_count": 229,
      "outputs": [
        {
          "output_type": "stream",
          "text": [
            "Training NeuralNetwork Classifier...\n"
          ],
          "name": "stdout"
        },
        {
          "output_type": "stream",
          "text": [
            "/usr/local/lib/python3.7/dist-packages/sklearn/neural_network/_multilayer_perceptron.py:571: ConvergenceWarning: Stochastic Optimizer: Maximum iterations (200) reached and the optimization hasn't converged yet.\n",
            "  % self.max_iter, ConvergenceWarning)\n"
          ],
          "name": "stderr"
        },
        {
          "output_type": "stream",
          "text": [
            "Evaluating NeuralNetwork Classifier:\n",
            "Accuracy for NeuralNetwork:0.592156862745098\n",
            "F1_score for NeuralNetwork:0.37096774193548393\n",
            "Classifier doesn't have feature importance\n",
            "\n",
            "\n",
            " --------------------------- \n",
            "\n",
            "\n",
            "Training RidgeClassifierCV Classifier...\n",
            "Evaluating RidgeClassifierCV Classifier:\n",
            "Accuracy for RidgeClassifierCV:0.673202614379085\n",
            "F1_score for RidgeClassifierCV:0.22839506172839505\n",
            "\n",
            " --------------------------- \n",
            "\n",
            "Classifier doesn't have feature importance\n",
            "\n",
            "\n",
            " --------------------------- \n",
            "\n",
            "\n",
            "Training RandomForestClassifier Classifier...\n",
            "Evaluating RandomForestClassifier Classifier:\n",
            "Accuracy for RandomForestClassifier:0.6549019607843137\n",
            "F1_score for RandomForestClassifier:0.3333333333333333\n",
            "Classifier doesn't have feature importance\n",
            "\n",
            "\n",
            " --------------------------- \n",
            "\n",
            "\n"
          ],
          "name": "stdout"
        }
      ]
    }
  ]
}